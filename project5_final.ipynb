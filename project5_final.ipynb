{
 "cells": [
  {
   "cell_type": "markdown",
   "metadata": {},
   "source": [
    "# Discovering Video Game Success: Data-Driven Insights for Strategic Forecasting and Marketing\n",
    "\n",
    "Welcome to the Ice online store project, where we embark on a journey to uncover the factors that drive video game success. Our dataset includes user and expert reviews, genres, platforms (such as Xbox and PlayStation), historical sales data, and ESRB ratings, which evaluate game content and assign age ratings like Teen or Mature.\n",
    "\n",
    "By the end of this EDA, we aim to gain a deep understanding of the video game market, which will inform our strategies for forecasting and planning advertising campaigns for 2017. This analysis will also provide valuable experience in working with data to make informed business decisions."
   ]
  },
  {
   "cell_type": "code",
   "execution_count": 1,
   "metadata": {
    "trusted": false
   },
   "outputs": [],
   "source": [
    "import pandas as pd\n",
    "import numpy as np\n",
    "from matplotlib import pyplot as plt\n",
    "import seaborn as sns"
   ]
  },
  {
   "cell_type": "code",
   "execution_count": 2,
   "metadata": {
    "trusted": false
   },
   "outputs": [],
   "source": [
    "df_start = pd.read_csv('/Users/keithrobinson/Desktop/TripleTen/Projects/project5/games.csv')"
   ]
  },
  {
   "cell_type": "code",
   "execution_count": 3,
   "metadata": {
    "trusted": false
   },
   "outputs": [
    {
     "data": {
      "text/html": [
       "<div>\n",
       "<style scoped>\n",
       "    .dataframe tbody tr th:only-of-type {\n",
       "        vertical-align: middle;\n",
       "    }\n",
       "\n",
       "    .dataframe tbody tr th {\n",
       "        vertical-align: top;\n",
       "    }\n",
       "\n",
       "    .dataframe thead th {\n",
       "        text-align: right;\n",
       "    }\n",
       "</style>\n",
       "<table border=\"1\" class=\"dataframe\">\n",
       "  <thead>\n",
       "    <tr style=\"text-align: right;\">\n",
       "      <th></th>\n",
       "      <th>Name</th>\n",
       "      <th>Platform</th>\n",
       "      <th>Year_of_Release</th>\n",
       "      <th>Genre</th>\n",
       "      <th>NA_sales</th>\n",
       "      <th>EU_sales</th>\n",
       "      <th>JP_sales</th>\n",
       "      <th>Other_sales</th>\n",
       "      <th>Critic_Score</th>\n",
       "      <th>User_Score</th>\n",
       "      <th>Rating</th>\n",
       "    </tr>\n",
       "  </thead>\n",
       "  <tbody>\n",
       "    <tr>\n",
       "      <th>0</th>\n",
       "      <td>Wii Sports</td>\n",
       "      <td>Wii</td>\n",
       "      <td>2006.0</td>\n",
       "      <td>Sports</td>\n",
       "      <td>41.36</td>\n",
       "      <td>28.96</td>\n",
       "      <td>3.77</td>\n",
       "      <td>8.45</td>\n",
       "      <td>76.0</td>\n",
       "      <td>8</td>\n",
       "      <td>E</td>\n",
       "    </tr>\n",
       "    <tr>\n",
       "      <th>1</th>\n",
       "      <td>Super Mario Bros.</td>\n",
       "      <td>NES</td>\n",
       "      <td>1985.0</td>\n",
       "      <td>Platform</td>\n",
       "      <td>29.08</td>\n",
       "      <td>3.58</td>\n",
       "      <td>6.81</td>\n",
       "      <td>0.77</td>\n",
       "      <td>NaN</td>\n",
       "      <td>NaN</td>\n",
       "      <td>NaN</td>\n",
       "    </tr>\n",
       "    <tr>\n",
       "      <th>2</th>\n",
       "      <td>Mario Kart Wii</td>\n",
       "      <td>Wii</td>\n",
       "      <td>2008.0</td>\n",
       "      <td>Racing</td>\n",
       "      <td>15.68</td>\n",
       "      <td>12.76</td>\n",
       "      <td>3.79</td>\n",
       "      <td>3.29</td>\n",
       "      <td>82.0</td>\n",
       "      <td>8.3</td>\n",
       "      <td>E</td>\n",
       "    </tr>\n",
       "    <tr>\n",
       "      <th>3</th>\n",
       "      <td>Wii Sports Resort</td>\n",
       "      <td>Wii</td>\n",
       "      <td>2009.0</td>\n",
       "      <td>Sports</td>\n",
       "      <td>15.61</td>\n",
       "      <td>10.93</td>\n",
       "      <td>3.28</td>\n",
       "      <td>2.95</td>\n",
       "      <td>80.0</td>\n",
       "      <td>8</td>\n",
       "      <td>E</td>\n",
       "    </tr>\n",
       "    <tr>\n",
       "      <th>4</th>\n",
       "      <td>Pokemon Red/Pokemon Blue</td>\n",
       "      <td>GB</td>\n",
       "      <td>1996.0</td>\n",
       "      <td>Role-Playing</td>\n",
       "      <td>11.27</td>\n",
       "      <td>8.89</td>\n",
       "      <td>10.22</td>\n",
       "      <td>1.00</td>\n",
       "      <td>NaN</td>\n",
       "      <td>NaN</td>\n",
       "      <td>NaN</td>\n",
       "    </tr>\n",
       "  </tbody>\n",
       "</table>\n",
       "</div>"
      ],
      "text/plain": [
       "                       Name Platform  Year_of_Release         Genre  NA_sales  \\\n",
       "0                Wii Sports      Wii           2006.0        Sports     41.36   \n",
       "1         Super Mario Bros.      NES           1985.0      Platform     29.08   \n",
       "2            Mario Kart Wii      Wii           2008.0        Racing     15.68   \n",
       "3         Wii Sports Resort      Wii           2009.0        Sports     15.61   \n",
       "4  Pokemon Red/Pokemon Blue       GB           1996.0  Role-Playing     11.27   \n",
       "\n",
       "   EU_sales  JP_sales  Other_sales  Critic_Score User_Score Rating  \n",
       "0     28.96      3.77         8.45          76.0          8      E  \n",
       "1      3.58      6.81         0.77           NaN        NaN    NaN  \n",
       "2     12.76      3.79         3.29          82.0        8.3      E  \n",
       "3     10.93      3.28         2.95          80.0          8      E  \n",
       "4      8.89     10.22         1.00           NaN        NaN    NaN  "
      ]
     },
     "execution_count": 3,
     "metadata": {},
     "output_type": "execute_result"
    }
   ],
   "source": [
    "df_start.head()"
   ]
  },
  {
   "cell_type": "code",
   "execution_count": 4,
   "metadata": {
    "trusted": false
   },
   "outputs": [],
   "source": [
    "df_start.rename(columns={    \n",
    "    'Rating': 'rating',\n",
    "    'User_Score': 'user_score',\n",
    "    'Critic_Score': 'critic_score',\n",
    "    'Other_sales': 'other_sales',\n",
    "    'JP_sales': 'jp_sales',\n",
    "    'EU_sales': 'eu_sales',\n",
    "    'NA_sales': 'na_sales',\n",
    "    'Genre': 'genre',\n",
    "    'Year_of_Release': 'year_of_release',\n",
    "    'Platform': 'platform',\n",
    "    'Name': 'name',\n",
    "},inplace=True)"
   ]
  },
  {
   "cell_type": "code",
   "execution_count": 5,
   "metadata": {
    "trusted": false
   },
   "outputs": [
    {
     "data": {
      "text/html": [
       "<div>\n",
       "<style scoped>\n",
       "    .dataframe tbody tr th:only-of-type {\n",
       "        vertical-align: middle;\n",
       "    }\n",
       "\n",
       "    .dataframe tbody tr th {\n",
       "        vertical-align: top;\n",
       "    }\n",
       "\n",
       "    .dataframe thead th {\n",
       "        text-align: right;\n",
       "    }\n",
       "</style>\n",
       "<table border=\"1\" class=\"dataframe\">\n",
       "  <thead>\n",
       "    <tr style=\"text-align: right;\">\n",
       "      <th></th>\n",
       "      <th>name</th>\n",
       "      <th>platform</th>\n",
       "      <th>year_of_release</th>\n",
       "      <th>genre</th>\n",
       "      <th>na_sales</th>\n",
       "      <th>eu_sales</th>\n",
       "      <th>jp_sales</th>\n",
       "      <th>other_sales</th>\n",
       "      <th>critic_score</th>\n",
       "      <th>user_score</th>\n",
       "      <th>rating</th>\n",
       "    </tr>\n",
       "  </thead>\n",
       "  <tbody>\n",
       "    <tr>\n",
       "      <th>0</th>\n",
       "      <td>Wii Sports</td>\n",
       "      <td>Wii</td>\n",
       "      <td>2006.0</td>\n",
       "      <td>Sports</td>\n",
       "      <td>41.36</td>\n",
       "      <td>28.96</td>\n",
       "      <td>3.77</td>\n",
       "      <td>8.45</td>\n",
       "      <td>76.0</td>\n",
       "      <td>8</td>\n",
       "      <td>E</td>\n",
       "    </tr>\n",
       "    <tr>\n",
       "      <th>1</th>\n",
       "      <td>Super Mario Bros.</td>\n",
       "      <td>NES</td>\n",
       "      <td>1985.0</td>\n",
       "      <td>Platform</td>\n",
       "      <td>29.08</td>\n",
       "      <td>3.58</td>\n",
       "      <td>6.81</td>\n",
       "      <td>0.77</td>\n",
       "      <td>NaN</td>\n",
       "      <td>NaN</td>\n",
       "      <td>NaN</td>\n",
       "    </tr>\n",
       "    <tr>\n",
       "      <th>2</th>\n",
       "      <td>Mario Kart Wii</td>\n",
       "      <td>Wii</td>\n",
       "      <td>2008.0</td>\n",
       "      <td>Racing</td>\n",
       "      <td>15.68</td>\n",
       "      <td>12.76</td>\n",
       "      <td>3.79</td>\n",
       "      <td>3.29</td>\n",
       "      <td>82.0</td>\n",
       "      <td>8.3</td>\n",
       "      <td>E</td>\n",
       "    </tr>\n",
       "    <tr>\n",
       "      <th>3</th>\n",
       "      <td>Wii Sports Resort</td>\n",
       "      <td>Wii</td>\n",
       "      <td>2009.0</td>\n",
       "      <td>Sports</td>\n",
       "      <td>15.61</td>\n",
       "      <td>10.93</td>\n",
       "      <td>3.28</td>\n",
       "      <td>2.95</td>\n",
       "      <td>80.0</td>\n",
       "      <td>8</td>\n",
       "      <td>E</td>\n",
       "    </tr>\n",
       "    <tr>\n",
       "      <th>4</th>\n",
       "      <td>Pokemon Red/Pokemon Blue</td>\n",
       "      <td>GB</td>\n",
       "      <td>1996.0</td>\n",
       "      <td>Role-Playing</td>\n",
       "      <td>11.27</td>\n",
       "      <td>8.89</td>\n",
       "      <td>10.22</td>\n",
       "      <td>1.00</td>\n",
       "      <td>NaN</td>\n",
       "      <td>NaN</td>\n",
       "      <td>NaN</td>\n",
       "    </tr>\n",
       "    <tr>\n",
       "      <th>...</th>\n",
       "      <td>...</td>\n",
       "      <td>...</td>\n",
       "      <td>...</td>\n",
       "      <td>...</td>\n",
       "      <td>...</td>\n",
       "      <td>...</td>\n",
       "      <td>...</td>\n",
       "      <td>...</td>\n",
       "      <td>...</td>\n",
       "      <td>...</td>\n",
       "      <td>...</td>\n",
       "    </tr>\n",
       "    <tr>\n",
       "      <th>16710</th>\n",
       "      <td>Samurai Warriors: Sanada Maru</td>\n",
       "      <td>PS3</td>\n",
       "      <td>2016.0</td>\n",
       "      <td>Action</td>\n",
       "      <td>0.00</td>\n",
       "      <td>0.00</td>\n",
       "      <td>0.01</td>\n",
       "      <td>0.00</td>\n",
       "      <td>NaN</td>\n",
       "      <td>NaN</td>\n",
       "      <td>NaN</td>\n",
       "    </tr>\n",
       "    <tr>\n",
       "      <th>16711</th>\n",
       "      <td>LMA Manager 2007</td>\n",
       "      <td>X360</td>\n",
       "      <td>2006.0</td>\n",
       "      <td>Sports</td>\n",
       "      <td>0.00</td>\n",
       "      <td>0.01</td>\n",
       "      <td>0.00</td>\n",
       "      <td>0.00</td>\n",
       "      <td>NaN</td>\n",
       "      <td>NaN</td>\n",
       "      <td>NaN</td>\n",
       "    </tr>\n",
       "    <tr>\n",
       "      <th>16712</th>\n",
       "      <td>Haitaka no Psychedelica</td>\n",
       "      <td>PSV</td>\n",
       "      <td>2016.0</td>\n",
       "      <td>Adventure</td>\n",
       "      <td>0.00</td>\n",
       "      <td>0.00</td>\n",
       "      <td>0.01</td>\n",
       "      <td>0.00</td>\n",
       "      <td>NaN</td>\n",
       "      <td>NaN</td>\n",
       "      <td>NaN</td>\n",
       "    </tr>\n",
       "    <tr>\n",
       "      <th>16713</th>\n",
       "      <td>Spirits &amp; Spells</td>\n",
       "      <td>GBA</td>\n",
       "      <td>2003.0</td>\n",
       "      <td>Platform</td>\n",
       "      <td>0.01</td>\n",
       "      <td>0.00</td>\n",
       "      <td>0.00</td>\n",
       "      <td>0.00</td>\n",
       "      <td>NaN</td>\n",
       "      <td>NaN</td>\n",
       "      <td>NaN</td>\n",
       "    </tr>\n",
       "    <tr>\n",
       "      <th>16714</th>\n",
       "      <td>Winning Post 8 2016</td>\n",
       "      <td>PSV</td>\n",
       "      <td>2016.0</td>\n",
       "      <td>Simulation</td>\n",
       "      <td>0.00</td>\n",
       "      <td>0.00</td>\n",
       "      <td>0.01</td>\n",
       "      <td>0.00</td>\n",
       "      <td>NaN</td>\n",
       "      <td>NaN</td>\n",
       "      <td>NaN</td>\n",
       "    </tr>\n",
       "  </tbody>\n",
       "</table>\n",
       "<p>16715 rows × 11 columns</p>\n",
       "</div>"
      ],
      "text/plain": [
       "                                name platform  year_of_release         genre  \\\n",
       "0                         Wii Sports      Wii           2006.0        Sports   \n",
       "1                  Super Mario Bros.      NES           1985.0      Platform   \n",
       "2                     Mario Kart Wii      Wii           2008.0        Racing   \n",
       "3                  Wii Sports Resort      Wii           2009.0        Sports   \n",
       "4           Pokemon Red/Pokemon Blue       GB           1996.0  Role-Playing   \n",
       "...                              ...      ...              ...           ...   \n",
       "16710  Samurai Warriors: Sanada Maru      PS3           2016.0        Action   \n",
       "16711               LMA Manager 2007     X360           2006.0        Sports   \n",
       "16712        Haitaka no Psychedelica      PSV           2016.0     Adventure   \n",
       "16713               Spirits & Spells      GBA           2003.0      Platform   \n",
       "16714            Winning Post 8 2016      PSV           2016.0    Simulation   \n",
       "\n",
       "       na_sales  eu_sales  jp_sales  other_sales  critic_score user_score  \\\n",
       "0         41.36     28.96      3.77         8.45          76.0          8   \n",
       "1         29.08      3.58      6.81         0.77           NaN        NaN   \n",
       "2         15.68     12.76      3.79         3.29          82.0        8.3   \n",
       "3         15.61     10.93      3.28         2.95          80.0          8   \n",
       "4         11.27      8.89     10.22         1.00           NaN        NaN   \n",
       "...         ...       ...       ...          ...           ...        ...   \n",
       "16710      0.00      0.00      0.01         0.00           NaN        NaN   \n",
       "16711      0.00      0.01      0.00         0.00           NaN        NaN   \n",
       "16712      0.00      0.00      0.01         0.00           NaN        NaN   \n",
       "16713      0.01      0.00      0.00         0.00           NaN        NaN   \n",
       "16714      0.00      0.00      0.01         0.00           NaN        NaN   \n",
       "\n",
       "      rating  \n",
       "0          E  \n",
       "1        NaN  \n",
       "2          E  \n",
       "3          E  \n",
       "4        NaN  \n",
       "...      ...  \n",
       "16710    NaN  \n",
       "16711    NaN  \n",
       "16712    NaN  \n",
       "16713    NaN  \n",
       "16714    NaN  \n",
       "\n",
       "[16715 rows x 11 columns]"
      ]
     },
     "execution_count": 5,
     "metadata": {},
     "output_type": "execute_result"
    }
   ],
   "source": [
    "df_start"
   ]
  },
  {
   "cell_type": "code",
   "execution_count": 6,
   "metadata": {
    "trusted": false
   },
   "outputs": [
    {
     "name": "stdout",
     "output_type": "stream",
     "text": [
      "<class 'pandas.core.frame.DataFrame'>\n",
      "RangeIndex: 16715 entries, 0 to 16714\n",
      "Data columns (total 11 columns):\n",
      " #   Column           Non-Null Count  Dtype  \n",
      "---  ------           --------------  -----  \n",
      " 0   name             16713 non-null  object \n",
      " 1   platform         16715 non-null  object \n",
      " 2   year_of_release  16446 non-null  float64\n",
      " 3   genre            16713 non-null  object \n",
      " 4   na_sales         16715 non-null  float64\n",
      " 5   eu_sales         16715 non-null  float64\n",
      " 6   jp_sales         16715 non-null  float64\n",
      " 7   other_sales      16715 non-null  float64\n",
      " 8   critic_score     8137 non-null   float64\n",
      " 9   user_score       10014 non-null  object \n",
      " 10  rating           9949 non-null   object \n",
      "dtypes: float64(6), object(5)\n",
      "memory usage: 1.4+ MB\n"
     ]
    }
   ],
   "source": [
    "df_start.info()"
   ]
  },
  {
   "cell_type": "code",
   "execution_count": 7,
   "metadata": {
    "trusted": false
   },
   "outputs": [
    {
     "data": {
      "text/plain": [
       "0"
      ]
     },
     "execution_count": 7,
     "metadata": {},
     "output_type": "execute_result"
    }
   ],
   "source": [
    "df_start.duplicated().sum() # Checked for any duplicate rows"
   ]
  },
  {
   "cell_type": "code",
   "execution_count": 8,
   "metadata": {
    "trusted": false
   },
   "outputs": [
    {
     "data": {
      "text/html": [
       "<div>\n",
       "<style scoped>\n",
       "    .dataframe tbody tr th:only-of-type {\n",
       "        vertical-align: middle;\n",
       "    }\n",
       "\n",
       "    .dataframe tbody tr th {\n",
       "        vertical-align: top;\n",
       "    }\n",
       "\n",
       "    .dataframe thead th {\n",
       "        text-align: right;\n",
       "    }\n",
       "</style>\n",
       "<table border=\"1\" class=\"dataframe\">\n",
       "  <thead>\n",
       "    <tr style=\"text-align: right;\">\n",
       "      <th></th>\n",
       "      <th>name</th>\n",
       "      <th>platform</th>\n",
       "      <th>year_of_release</th>\n",
       "      <th>genre</th>\n",
       "      <th>na_sales</th>\n",
       "      <th>eu_sales</th>\n",
       "      <th>jp_sales</th>\n",
       "      <th>other_sales</th>\n",
       "      <th>critic_score</th>\n",
       "      <th>user_score</th>\n",
       "      <th>rating</th>\n",
       "    </tr>\n",
       "  </thead>\n",
       "  <tbody>\n",
       "    <tr>\n",
       "      <th>604</th>\n",
       "      <td>Madden NFL 13</td>\n",
       "      <td>PS3</td>\n",
       "      <td>2012.0</td>\n",
       "      <td>Sports</td>\n",
       "      <td>2.11</td>\n",
       "      <td>0.22</td>\n",
       "      <td>0.00</td>\n",
       "      <td>0.23</td>\n",
       "      <td>83.0</td>\n",
       "      <td>5.5</td>\n",
       "      <td>E</td>\n",
       "    </tr>\n",
       "    <tr>\n",
       "      <th>659</th>\n",
       "      <td>NaN</td>\n",
       "      <td>GEN</td>\n",
       "      <td>1993.0</td>\n",
       "      <td>NaN</td>\n",
       "      <td>1.78</td>\n",
       "      <td>0.53</td>\n",
       "      <td>0.00</td>\n",
       "      <td>0.08</td>\n",
       "      <td>NaN</td>\n",
       "      <td>NaN</td>\n",
       "      <td>NaN</td>\n",
       "    </tr>\n",
       "    <tr>\n",
       "      <th>14244</th>\n",
       "      <td>NaN</td>\n",
       "      <td>GEN</td>\n",
       "      <td>1993.0</td>\n",
       "      <td>NaN</td>\n",
       "      <td>0.00</td>\n",
       "      <td>0.00</td>\n",
       "      <td>0.03</td>\n",
       "      <td>0.00</td>\n",
       "      <td>NaN</td>\n",
       "      <td>NaN</td>\n",
       "      <td>NaN</td>\n",
       "    </tr>\n",
       "    <tr>\n",
       "      <th>16230</th>\n",
       "      <td>Madden NFL 13</td>\n",
       "      <td>PS3</td>\n",
       "      <td>2012.0</td>\n",
       "      <td>Sports</td>\n",
       "      <td>0.00</td>\n",
       "      <td>0.01</td>\n",
       "      <td>0.00</td>\n",
       "      <td>0.00</td>\n",
       "      <td>83.0</td>\n",
       "      <td>5.5</td>\n",
       "      <td>E</td>\n",
       "    </tr>\n",
       "  </tbody>\n",
       "</table>\n",
       "</div>"
      ],
      "text/plain": [
       "                name platform  year_of_release   genre  na_sales  eu_sales  \\\n",
       "604    Madden NFL 13      PS3           2012.0  Sports      2.11      0.22   \n",
       "659              NaN      GEN           1993.0     NaN      1.78      0.53   \n",
       "14244            NaN      GEN           1993.0     NaN      0.00      0.00   \n",
       "16230  Madden NFL 13      PS3           2012.0  Sports      0.00      0.01   \n",
       "\n",
       "       jp_sales  other_sales  critic_score user_score rating  \n",
       "604        0.00         0.23          83.0        5.5      E  \n",
       "659        0.00         0.08           NaN        NaN    NaN  \n",
       "14244      0.03         0.00           NaN        NaN    NaN  \n",
       "16230      0.00         0.00          83.0        5.5      E  "
      ]
     },
     "execution_count": 8,
     "metadata": {},
     "output_type": "execute_result"
    }
   ],
   "source": [
    "duplicates = df_start[df_start.duplicated(subset=['name', 'year_of_release', 'platform'], keep=False)]\n",
    "\n",
    "duplicates"
   ]
  },
  {
   "cell_type": "code",
   "execution_count": 9,
   "metadata": {
    "trusted": false
   },
   "outputs": [
    {
     "data": {
      "text/html": [
       "<div>\n",
       "<style scoped>\n",
       "    .dataframe tbody tr th:only-of-type {\n",
       "        vertical-align: middle;\n",
       "    }\n",
       "\n",
       "    .dataframe tbody tr th {\n",
       "        vertical-align: top;\n",
       "    }\n",
       "\n",
       "    .dataframe thead th {\n",
       "        text-align: right;\n",
       "    }\n",
       "</style>\n",
       "<table border=\"1\" class=\"dataframe\">\n",
       "  <thead>\n",
       "    <tr style=\"text-align: right;\">\n",
       "      <th></th>\n",
       "      <th>name</th>\n",
       "      <th>platform</th>\n",
       "      <th>year_of_release</th>\n",
       "      <th>genre</th>\n",
       "      <th>na_sales</th>\n",
       "      <th>eu_sales</th>\n",
       "      <th>jp_sales</th>\n",
       "      <th>other_sales</th>\n",
       "      <th>critic_score</th>\n",
       "      <th>user_score</th>\n",
       "      <th>rating</th>\n",
       "    </tr>\n",
       "  </thead>\n",
       "  <tbody>\n",
       "    <tr>\n",
       "      <th>0</th>\n",
       "      <td>Wii Sports</td>\n",
       "      <td>Wii</td>\n",
       "      <td>2006.0</td>\n",
       "      <td>Sports</td>\n",
       "      <td>41.36</td>\n",
       "      <td>28.96</td>\n",
       "      <td>3.77</td>\n",
       "      <td>8.45</td>\n",
       "      <td>76.0</td>\n",
       "      <td>8</td>\n",
       "      <td>E</td>\n",
       "    </tr>\n",
       "    <tr>\n",
       "      <th>1</th>\n",
       "      <td>Super Mario Bros.</td>\n",
       "      <td>NES</td>\n",
       "      <td>1985.0</td>\n",
       "      <td>Platform</td>\n",
       "      <td>29.08</td>\n",
       "      <td>3.58</td>\n",
       "      <td>6.81</td>\n",
       "      <td>0.77</td>\n",
       "      <td>NaN</td>\n",
       "      <td>NaN</td>\n",
       "      <td>NaN</td>\n",
       "    </tr>\n",
       "    <tr>\n",
       "      <th>2</th>\n",
       "      <td>Mario Kart Wii</td>\n",
       "      <td>Wii</td>\n",
       "      <td>2008.0</td>\n",
       "      <td>Racing</td>\n",
       "      <td>15.68</td>\n",
       "      <td>12.76</td>\n",
       "      <td>3.79</td>\n",
       "      <td>3.29</td>\n",
       "      <td>82.0</td>\n",
       "      <td>8.3</td>\n",
       "      <td>E</td>\n",
       "    </tr>\n",
       "    <tr>\n",
       "      <th>3</th>\n",
       "      <td>Wii Sports Resort</td>\n",
       "      <td>Wii</td>\n",
       "      <td>2009.0</td>\n",
       "      <td>Sports</td>\n",
       "      <td>15.61</td>\n",
       "      <td>10.93</td>\n",
       "      <td>3.28</td>\n",
       "      <td>2.95</td>\n",
       "      <td>80.0</td>\n",
       "      <td>8</td>\n",
       "      <td>E</td>\n",
       "    </tr>\n",
       "    <tr>\n",
       "      <th>4</th>\n",
       "      <td>Pokemon Red/Pokemon Blue</td>\n",
       "      <td>GB</td>\n",
       "      <td>1996.0</td>\n",
       "      <td>Role-Playing</td>\n",
       "      <td>11.27</td>\n",
       "      <td>8.89</td>\n",
       "      <td>10.22</td>\n",
       "      <td>1.00</td>\n",
       "      <td>NaN</td>\n",
       "      <td>NaN</td>\n",
       "      <td>NaN</td>\n",
       "    </tr>\n",
       "    <tr>\n",
       "      <th>...</th>\n",
       "      <td>...</td>\n",
       "      <td>...</td>\n",
       "      <td>...</td>\n",
       "      <td>...</td>\n",
       "      <td>...</td>\n",
       "      <td>...</td>\n",
       "      <td>...</td>\n",
       "      <td>...</td>\n",
       "      <td>...</td>\n",
       "      <td>...</td>\n",
       "      <td>...</td>\n",
       "    </tr>\n",
       "    <tr>\n",
       "      <th>16708</th>\n",
       "      <td>Samurai Warriors: Sanada Maru</td>\n",
       "      <td>PS3</td>\n",
       "      <td>2016.0</td>\n",
       "      <td>Action</td>\n",
       "      <td>0.00</td>\n",
       "      <td>0.00</td>\n",
       "      <td>0.01</td>\n",
       "      <td>0.00</td>\n",
       "      <td>NaN</td>\n",
       "      <td>NaN</td>\n",
       "      <td>NaN</td>\n",
       "    </tr>\n",
       "    <tr>\n",
       "      <th>16709</th>\n",
       "      <td>LMA Manager 2007</td>\n",
       "      <td>X360</td>\n",
       "      <td>2006.0</td>\n",
       "      <td>Sports</td>\n",
       "      <td>0.00</td>\n",
       "      <td>0.01</td>\n",
       "      <td>0.00</td>\n",
       "      <td>0.00</td>\n",
       "      <td>NaN</td>\n",
       "      <td>NaN</td>\n",
       "      <td>NaN</td>\n",
       "    </tr>\n",
       "    <tr>\n",
       "      <th>16710</th>\n",
       "      <td>Haitaka no Psychedelica</td>\n",
       "      <td>PSV</td>\n",
       "      <td>2016.0</td>\n",
       "      <td>Adventure</td>\n",
       "      <td>0.00</td>\n",
       "      <td>0.00</td>\n",
       "      <td>0.01</td>\n",
       "      <td>0.00</td>\n",
       "      <td>NaN</td>\n",
       "      <td>NaN</td>\n",
       "      <td>NaN</td>\n",
       "    </tr>\n",
       "    <tr>\n",
       "      <th>16711</th>\n",
       "      <td>Spirits &amp; Spells</td>\n",
       "      <td>GBA</td>\n",
       "      <td>2003.0</td>\n",
       "      <td>Platform</td>\n",
       "      <td>0.01</td>\n",
       "      <td>0.00</td>\n",
       "      <td>0.00</td>\n",
       "      <td>0.00</td>\n",
       "      <td>NaN</td>\n",
       "      <td>NaN</td>\n",
       "      <td>NaN</td>\n",
       "    </tr>\n",
       "    <tr>\n",
       "      <th>16712</th>\n",
       "      <td>Winning Post 8 2016</td>\n",
       "      <td>PSV</td>\n",
       "      <td>2016.0</td>\n",
       "      <td>Simulation</td>\n",
       "      <td>0.00</td>\n",
       "      <td>0.00</td>\n",
       "      <td>0.01</td>\n",
       "      <td>0.00</td>\n",
       "      <td>NaN</td>\n",
       "      <td>NaN</td>\n",
       "      <td>NaN</td>\n",
       "    </tr>\n",
       "  </tbody>\n",
       "</table>\n",
       "<p>16713 rows × 11 columns</p>\n",
       "</div>"
      ],
      "text/plain": [
       "                                name platform  year_of_release         genre  \\\n",
       "0                         Wii Sports      Wii           2006.0        Sports   \n",
       "1                  Super Mario Bros.      NES           1985.0      Platform   \n",
       "2                     Mario Kart Wii      Wii           2008.0        Racing   \n",
       "3                  Wii Sports Resort      Wii           2009.0        Sports   \n",
       "4           Pokemon Red/Pokemon Blue       GB           1996.0  Role-Playing   \n",
       "...                              ...      ...              ...           ...   \n",
       "16708  Samurai Warriors: Sanada Maru      PS3           2016.0        Action   \n",
       "16709               LMA Manager 2007     X360           2006.0        Sports   \n",
       "16710        Haitaka no Psychedelica      PSV           2016.0     Adventure   \n",
       "16711               Spirits & Spells      GBA           2003.0      Platform   \n",
       "16712            Winning Post 8 2016      PSV           2016.0    Simulation   \n",
       "\n",
       "       na_sales  eu_sales  jp_sales  other_sales  critic_score user_score  \\\n",
       "0         41.36     28.96      3.77         8.45          76.0          8   \n",
       "1         29.08      3.58      6.81         0.77           NaN        NaN   \n",
       "2         15.68     12.76      3.79         3.29          82.0        8.3   \n",
       "3         15.61     10.93      3.28         2.95          80.0          8   \n",
       "4         11.27      8.89     10.22         1.00           NaN        NaN   \n",
       "...         ...       ...       ...          ...           ...        ...   \n",
       "16708      0.00      0.00      0.01         0.00           NaN        NaN   \n",
       "16709      0.00      0.01      0.00         0.00           NaN        NaN   \n",
       "16710      0.00      0.00      0.01         0.00           NaN        NaN   \n",
       "16711      0.01      0.00      0.00         0.00           NaN        NaN   \n",
       "16712      0.00      0.00      0.01         0.00           NaN        NaN   \n",
       "\n",
       "      rating  \n",
       "0          E  \n",
       "1        NaN  \n",
       "2          E  \n",
       "3          E  \n",
       "4        NaN  \n",
       "...      ...  \n",
       "16708    NaN  \n",
       "16709    NaN  \n",
       "16710    NaN  \n",
       "16711    NaN  \n",
       "16712    NaN  \n",
       "\n",
       "[16713 rows x 11 columns]"
      ]
     },
     "execution_count": 9,
     "metadata": {},
     "output_type": "execute_result"
    }
   ],
   "source": [
    "df = df_start.drop_duplicates(subset=['name', 'year_of_release', 'platform'], keep='first')\n",
    "\n",
    "df.reset_index(drop=True, inplace=True)\n",
    "\n",
    "df"
   ]
  },
  {
   "cell_type": "markdown",
   "metadata": {},
   "source": [
    "There are 16,715 rows of entries. I conducted a \"isnull().sum()\" function to identify all of the null values in my dataframe."
   ]
  },
  {
   "cell_type": "code",
   "execution_count": 10,
   "metadata": {
    "trusted": false
   },
   "outputs": [
    {
     "data": {
      "text/plain": [
       "name                  1\n",
       "platform              0\n",
       "year_of_release     269\n",
       "genre                 1\n",
       "na_sales              0\n",
       "eu_sales              0\n",
       "jp_sales              0\n",
       "other_sales           0\n",
       "critic_score       8577\n",
       "user_score         6700\n",
       "rating             6765\n",
       "dtype: int64"
      ]
     },
     "execution_count": 10,
     "metadata": {},
     "output_type": "execute_result"
    }
   ],
   "source": [
    "df.isnull().sum()"
   ]
  },
  {
   "cell_type": "code",
   "execution_count": 11,
   "metadata": {
    "trusted": false
   },
   "outputs": [
    {
     "name": "stdout",
     "output_type": "stream",
     "text": [
      "68.96595378564405\n",
      "71.0\n"
     ]
    }
   ],
   "source": [
    "print(df['critic_score'].mean()) # Mean critic_score\n",
    "print(df['critic_score'].median()) # Median critic_score"
   ]
  },
  {
   "cell_type": "code",
   "execution_count": 12,
   "metadata": {
    "trusted": false
   },
   "outputs": [
    {
     "data": {
      "text/html": [
       "<div>\n",
       "<style scoped>\n",
       "    .dataframe tbody tr th:only-of-type {\n",
       "        vertical-align: middle;\n",
       "    }\n",
       "\n",
       "    .dataframe tbody tr th {\n",
       "        vertical-align: top;\n",
       "    }\n",
       "\n",
       "    .dataframe thead th {\n",
       "        text-align: right;\n",
       "    }\n",
       "</style>\n",
       "<table border=\"1\" class=\"dataframe\">\n",
       "  <thead>\n",
       "    <tr style=\"text-align: right;\">\n",
       "      <th></th>\n",
       "      <th>genre</th>\n",
       "      <th>critic_score</th>\n",
       "    </tr>\n",
       "  </thead>\n",
       "  <tbody>\n",
       "    <tr>\n",
       "      <th>11</th>\n",
       "      <td>Strategy</td>\n",
       "      <td>72.086093</td>\n",
       "    </tr>\n",
       "    <tr>\n",
       "      <th>10</th>\n",
       "      <td>Sports</td>\n",
       "      <td>71.958927</td>\n",
       "    </tr>\n",
       "    <tr>\n",
       "      <th>9</th>\n",
       "      <td>Simulation</td>\n",
       "      <td>68.619318</td>\n",
       "    </tr>\n",
       "    <tr>\n",
       "      <th>8</th>\n",
       "      <td>Shooter</td>\n",
       "      <td>70.181144</td>\n",
       "    </tr>\n",
       "    <tr>\n",
       "      <th>7</th>\n",
       "      <td>Role-Playing</td>\n",
       "      <td>72.652646</td>\n",
       "    </tr>\n",
       "    <tr>\n",
       "      <th>6</th>\n",
       "      <td>Racing</td>\n",
       "      <td>67.963612</td>\n",
       "    </tr>\n",
       "    <tr>\n",
       "      <th>5</th>\n",
       "      <td>Puzzle</td>\n",
       "      <td>67.424107</td>\n",
       "    </tr>\n",
       "    <tr>\n",
       "      <th>4</th>\n",
       "      <td>Platform</td>\n",
       "      <td>68.058350</td>\n",
       "    </tr>\n",
       "    <tr>\n",
       "      <th>3</th>\n",
       "      <td>Misc</td>\n",
       "      <td>66.619503</td>\n",
       "    </tr>\n",
       "    <tr>\n",
       "      <th>2</th>\n",
       "      <td>Fighting</td>\n",
       "      <td>69.217604</td>\n",
       "    </tr>\n",
       "    <tr>\n",
       "      <th>1</th>\n",
       "      <td>Adventure</td>\n",
       "      <td>65.331269</td>\n",
       "    </tr>\n",
       "    <tr>\n",
       "      <th>0</th>\n",
       "      <td>Action</td>\n",
       "      <td>66.629101</td>\n",
       "    </tr>\n",
       "  </tbody>\n",
       "</table>\n",
       "</div>"
      ],
      "text/plain": [
       "           genre  critic_score\n",
       "11      Strategy     72.086093\n",
       "10        Sports     71.958927\n",
       "9     Simulation     68.619318\n",
       "8        Shooter     70.181144\n",
       "7   Role-Playing     72.652646\n",
       "6         Racing     67.963612\n",
       "5         Puzzle     67.424107\n",
       "4       Platform     68.058350\n",
       "3           Misc     66.619503\n",
       "2       Fighting     69.217604\n",
       "1      Adventure     65.331269\n",
       "0         Action     66.629101"
      ]
     },
     "execution_count": 12,
     "metadata": {},
     "output_type": "execute_result"
    }
   ],
   "source": [
    "score_by_genre = df.groupby('genre')['critic_score'].mean().reset_index().sort_values(by='genre', ascending=False) #grouped genre by critic_score to see the mean of each genre. They're fairly close so I decided to take the mean of the critic_score series and use that to fill in the NaN values for critic_score.\n",
    "score_by_genre "
   ]
  },
  {
   "cell_type": "markdown",
   "metadata": {},
   "source": [
    "Initially I tried to take the mean of user_score but received an error. I found out that there were 'tbd' values (objects) contained in the column."
   ]
  },
  {
   "cell_type": "code",
   "execution_count": 13,
   "metadata": {
    "trusted": false
   },
   "outputs": [
    {
     "name": "stderr",
     "output_type": "stream",
     "text": [
      "/var/folders/2c/tfkhfg6d5jj1g3ttv18s3t5r0000gn/T/ipykernel_82771/2648302180.py:1: SettingWithCopyWarning: \n",
      "A value is trying to be set on a copy of a slice from a DataFrame.\n",
      "Try using .loc[row_indexer,col_indexer] = value instead\n",
      "\n",
      "See the caveats in the documentation: https://pandas.pydata.org/pandas-docs/stable/user_guide/indexing.html#returning-a-view-versus-a-copy\n",
      "  df['user_score'] = df['user_score'].replace('tbd', np.nan) # I converted all the 'tbd' values to np.nan values so that I could get the median and mean.\n"
     ]
    }
   ],
   "source": [
    "df['user_score'] = df['user_score'].replace('tbd', np.nan) # I converted all the 'tbd' values to np.nan values so that I could get the median and mean."
   ]
  },
  {
   "cell_type": "code",
   "execution_count": 14,
   "metadata": {
    "trusted": false
   },
   "outputs": [
    {
     "name": "stderr",
     "output_type": "stream",
     "text": [
      "/var/folders/2c/tfkhfg6d5jj1g3ttv18s3t5r0000gn/T/ipykernel_82771/862731515.py:1: SettingWithCopyWarning: \n",
      "A value is trying to be set on a copy of a slice from a DataFrame.\n",
      "Try using .loc[row_indexer,col_indexer] = value instead\n",
      "\n",
      "See the caveats in the documentation: https://pandas.pydata.org/pandas-docs/stable/user_guide/indexing.html#returning-a-view-versus-a-copy\n",
      "  df['user_score'] = df['user_score'].astype(float) # Once I replaced the 'tbd' values, I converted the column to a float\n"
     ]
    }
   ],
   "source": [
    "df['user_score'] = df['user_score'].astype(float) # Once I replaced the 'tbd' values, I converted the column to a float"
   ]
  },
  {
   "cell_type": "code",
   "execution_count": 15,
   "metadata": {
    "trusted": false
   },
   "outputs": [
    {
     "name": "stdout",
     "output_type": "stream",
     "text": [
      "7.125260245091579\n",
      "7.5\n"
     ]
    }
   ],
   "source": [
    "print(df['user_score'].mean())\n",
    "print(df['user_score'].median()) # Again, these were very similar so I decided to go with the mean.\n"
   ]
  },
  {
   "cell_type": "code",
   "execution_count": 16,
   "metadata": {
    "trusted": false
   },
   "outputs": [
    {
     "data": {
      "text/plain": [
       "name                  1\n",
       "platform              0\n",
       "year_of_release     269\n",
       "genre                 1\n",
       "na_sales              0\n",
       "eu_sales              0\n",
       "jp_sales              0\n",
       "other_sales           0\n",
       "critic_score       8577\n",
       "user_score         9124\n",
       "rating             6765\n",
       "dtype: int64"
      ]
     },
     "execution_count": 16,
     "metadata": {},
     "output_type": "execute_result"
    }
   ],
   "source": [
    "df.isnull().sum()"
   ]
  },
  {
   "cell_type": "code",
   "execution_count": 17,
   "metadata": {
    "trusted": false
   },
   "outputs": [
    {
     "name": "stdout",
     "output_type": "stream",
     "text": [
      "2007.0\n",
      "2006.4851009486742\n"
     ]
    }
   ],
   "source": [
    "print(df['year_of_release'].median())\n",
    "print(df['year_of_release'].mean())"
   ]
  },
  {
   "cell_type": "code",
   "execution_count": 18,
   "metadata": {
    "trusted": false
   },
   "outputs": [],
   "source": [
    "yor_mean = df['year_of_release'].mean()"
   ]
  },
  {
   "cell_type": "code",
   "execution_count": 19,
   "metadata": {
    "trusted": false
   },
   "outputs": [],
   "source": [
    "df = df.dropna(subset=['year_of_release']).copy()"
   ]
  },
  {
   "cell_type": "code",
   "execution_count": 20,
   "metadata": {
    "trusted": false
   },
   "outputs": [
    {
     "data": {
      "text/plain": [
       "name                  1\n",
       "platform              0\n",
       "year_of_release       0\n",
       "genre                 1\n",
       "na_sales              0\n",
       "eu_sales              0\n",
       "jp_sales              0\n",
       "other_sales           0\n",
       "critic_score       8462\n",
       "user_score         8982\n",
       "rating             6677\n",
       "dtype: int64"
      ]
     },
     "execution_count": 20,
     "metadata": {},
     "output_type": "execute_result"
    }
   ],
   "source": [
    "df.isnull().sum()"
   ]
  },
  {
   "cell_type": "code",
   "execution_count": 21,
   "metadata": {
    "trusted": false
   },
   "outputs": [],
   "source": [
    "df['year_of_release'] = df['year_of_release'].astype(int) # Changed year_of_release to an integer from a floating number"
   ]
  },
  {
   "cell_type": "code",
   "execution_count": 22,
   "metadata": {
    "trusted": false
   },
   "outputs": [
    {
     "name": "stdout",
     "output_type": "stream",
     "text": [
      "<class 'pandas.core.frame.DataFrame'>\n",
      "Index: 16444 entries, 0 to 16712\n",
      "Data columns (total 11 columns):\n",
      " #   Column           Non-Null Count  Dtype  \n",
      "---  ------           --------------  -----  \n",
      " 0   name             16443 non-null  object \n",
      " 1   platform         16444 non-null  object \n",
      " 2   year_of_release  16444 non-null  int64  \n",
      " 3   genre            16443 non-null  object \n",
      " 4   na_sales         16444 non-null  float64\n",
      " 5   eu_sales         16444 non-null  float64\n",
      " 6   jp_sales         16444 non-null  float64\n",
      " 7   other_sales      16444 non-null  float64\n",
      " 8   critic_score     7982 non-null   float64\n",
      " 9   user_score       7462 non-null   float64\n",
      " 10  rating           9767 non-null   object \n",
      "dtypes: float64(6), int64(1), object(4)\n",
      "memory usage: 1.5+ MB\n"
     ]
    }
   ],
   "source": [
    "df.info()"
   ]
  },
  {
   "cell_type": "code",
   "execution_count": 23,
   "metadata": {
    "trusted": false
   },
   "outputs": [
    {
     "data": {
      "text/plain": [
       "name                  1\n",
       "platform              0\n",
       "year_of_release       0\n",
       "genre                 1\n",
       "na_sales              0\n",
       "eu_sales              0\n",
       "jp_sales              0\n",
       "other_sales           0\n",
       "critic_score       8462\n",
       "user_score         8982\n",
       "rating             6677\n",
       "dtype: int64"
      ]
     },
     "execution_count": 23,
     "metadata": {},
     "output_type": "execute_result"
    }
   ],
   "source": [
    "df.isnull().sum() # Checked again for null values"
   ]
  },
  {
   "cell_type": "markdown",
   "metadata": {},
   "source": [
    "I want to explain what I did with the columns above. With the 'name' and 'genre' columns there were only 2 missing name values, since it was so minimal I ignored them. \n",
    "\n",
    "On the 'year_of_release' column I replaced the null values with the mean because I didn't want to just drop them and I figured filling them in with the mean would be better than not having them at all.\n",
    "\n",
    "With 'critic_score' more than half of the rows in this column were null. I could not drop them or fill them with '0', so I filled them with the mean values of the column.\n",
    "\n",
    "In the 'user_score' column there were over 6,000 rows with null values. Since it returning an object dtype, I discovered why. There were 'tbd' values in the column. I replaced those 'tbd' values with NaN values, then calculated the mean, then filled in the missing values with the mean.\n",
    "\n",
    "In the 'rating' column, I left that column blank. I did not think dropping 6,000 rows would do my data any good and I couldn't fill it with any value."
   ]
  },
  {
   "cell_type": "code",
   "execution_count": 24,
   "metadata": {
    "trusted": false
   },
   "outputs": [
    {
     "data": {
      "text/html": [
       "<div>\n",
       "<style scoped>\n",
       "    .dataframe tbody tr th:only-of-type {\n",
       "        vertical-align: middle;\n",
       "    }\n",
       "\n",
       "    .dataframe tbody tr th {\n",
       "        vertical-align: top;\n",
       "    }\n",
       "\n",
       "    .dataframe thead th {\n",
       "        text-align: right;\n",
       "    }\n",
       "</style>\n",
       "<table border=\"1\" class=\"dataframe\">\n",
       "  <thead>\n",
       "    <tr style=\"text-align: right;\">\n",
       "      <th></th>\n",
       "      <th>name</th>\n",
       "      <th>platform</th>\n",
       "      <th>year_of_release</th>\n",
       "      <th>genre</th>\n",
       "      <th>na_sales</th>\n",
       "      <th>eu_sales</th>\n",
       "      <th>jp_sales</th>\n",
       "      <th>other_sales</th>\n",
       "      <th>critic_score</th>\n",
       "      <th>user_score</th>\n",
       "      <th>rating</th>\n",
       "    </tr>\n",
       "  </thead>\n",
       "  <tbody>\n",
       "    <tr>\n",
       "      <th>0</th>\n",
       "      <td>Wii Sports</td>\n",
       "      <td>Wii</td>\n",
       "      <td>2006</td>\n",
       "      <td>Sports</td>\n",
       "      <td>41.36</td>\n",
       "      <td>28.96</td>\n",
       "      <td>3.77</td>\n",
       "      <td>8.45</td>\n",
       "      <td>76.0</td>\n",
       "      <td>8.0</td>\n",
       "      <td>E</td>\n",
       "    </tr>\n",
       "    <tr>\n",
       "      <th>1</th>\n",
       "      <td>Super Mario Bros.</td>\n",
       "      <td>NES</td>\n",
       "      <td>1985</td>\n",
       "      <td>Platform</td>\n",
       "      <td>29.08</td>\n",
       "      <td>3.58</td>\n",
       "      <td>6.81</td>\n",
       "      <td>0.77</td>\n",
       "      <td>NaN</td>\n",
       "      <td>NaN</td>\n",
       "      <td>NaN</td>\n",
       "    </tr>\n",
       "    <tr>\n",
       "      <th>2</th>\n",
       "      <td>Mario Kart Wii</td>\n",
       "      <td>Wii</td>\n",
       "      <td>2008</td>\n",
       "      <td>Racing</td>\n",
       "      <td>15.68</td>\n",
       "      <td>12.76</td>\n",
       "      <td>3.79</td>\n",
       "      <td>3.29</td>\n",
       "      <td>82.0</td>\n",
       "      <td>8.3</td>\n",
       "      <td>E</td>\n",
       "    </tr>\n",
       "    <tr>\n",
       "      <th>3</th>\n",
       "      <td>Wii Sports Resort</td>\n",
       "      <td>Wii</td>\n",
       "      <td>2009</td>\n",
       "      <td>Sports</td>\n",
       "      <td>15.61</td>\n",
       "      <td>10.93</td>\n",
       "      <td>3.28</td>\n",
       "      <td>2.95</td>\n",
       "      <td>80.0</td>\n",
       "      <td>8.0</td>\n",
       "      <td>E</td>\n",
       "    </tr>\n",
       "    <tr>\n",
       "      <th>4</th>\n",
       "      <td>Pokemon Red/Pokemon Blue</td>\n",
       "      <td>GB</td>\n",
       "      <td>1996</td>\n",
       "      <td>Role-Playing</td>\n",
       "      <td>11.27</td>\n",
       "      <td>8.89</td>\n",
       "      <td>10.22</td>\n",
       "      <td>1.00</td>\n",
       "      <td>NaN</td>\n",
       "      <td>NaN</td>\n",
       "      <td>NaN</td>\n",
       "    </tr>\n",
       "  </tbody>\n",
       "</table>\n",
       "</div>"
      ],
      "text/plain": [
       "                       name platform  year_of_release         genre  na_sales  \\\n",
       "0                Wii Sports      Wii             2006        Sports     41.36   \n",
       "1         Super Mario Bros.      NES             1985      Platform     29.08   \n",
       "2            Mario Kart Wii      Wii             2008        Racing     15.68   \n",
       "3         Wii Sports Resort      Wii             2009        Sports     15.61   \n",
       "4  Pokemon Red/Pokemon Blue       GB             1996  Role-Playing     11.27   \n",
       "\n",
       "   eu_sales  jp_sales  other_sales  critic_score  user_score rating  \n",
       "0     28.96      3.77         8.45          76.0         8.0      E  \n",
       "1      3.58      6.81         0.77           NaN         NaN    NaN  \n",
       "2     12.76      3.79         3.29          82.0         8.3      E  \n",
       "3     10.93      3.28         2.95          80.0         8.0      E  \n",
       "4      8.89     10.22         1.00           NaN         NaN    NaN  "
      ]
     },
     "execution_count": 24,
     "metadata": {},
     "output_type": "execute_result"
    }
   ],
   "source": [
    "df.head()"
   ]
  },
  {
   "cell_type": "code",
   "execution_count": 25,
   "metadata": {
    "trusted": false
   },
   "outputs": [
    {
     "data": {
      "text/plain": [
       "11426"
      ]
     },
     "execution_count": 25,
     "metadata": {},
     "output_type": "execute_result"
    }
   ],
   "source": [
    "df['name'].nunique()"
   ]
  },
  {
   "cell_type": "code",
   "execution_count": 26,
   "metadata": {
    "trusted": false
   },
   "outputs": [
    {
     "name": "stdout",
     "output_type": "stream",
     "text": [
      "<class 'pandas.core.frame.DataFrame'>\n",
      "Index: 16444 entries, 0 to 16712\n",
      "Data columns (total 11 columns):\n",
      " #   Column           Non-Null Count  Dtype  \n",
      "---  ------           --------------  -----  \n",
      " 0   name             16443 non-null  object \n",
      " 1   platform         16444 non-null  object \n",
      " 2   year_of_release  16444 non-null  int64  \n",
      " 3   genre            16443 non-null  object \n",
      " 4   na_sales         16444 non-null  float64\n",
      " 5   eu_sales         16444 non-null  float64\n",
      " 6   jp_sales         16444 non-null  float64\n",
      " 7   other_sales      16444 non-null  float64\n",
      " 8   critic_score     7982 non-null   float64\n",
      " 9   user_score       7462 non-null   float64\n",
      " 10  rating           9767 non-null   object \n",
      "dtypes: float64(6), int64(1), object(4)\n",
      "memory usage: 1.5+ MB\n"
     ]
    }
   ],
   "source": [
    "df.info()"
   ]
  },
  {
   "cell_type": "code",
   "execution_count": 27,
   "metadata": {
    "trusted": false
   },
   "outputs": [],
   "source": [
    "df['total_sales'] = df[['na_sales', 'eu_sales', 'jp_sales', 'other_sales']].sum(axis=1) # Created a column for 'total_sales'"
   ]
  },
  {
   "cell_type": "code",
   "execution_count": 28,
   "metadata": {
    "trusted": false
   },
   "outputs": [
    {
     "data": {
      "text/html": [
       "<div>\n",
       "<style scoped>\n",
       "    .dataframe tbody tr th:only-of-type {\n",
       "        vertical-align: middle;\n",
       "    }\n",
       "\n",
       "    .dataframe tbody tr th {\n",
       "        vertical-align: top;\n",
       "    }\n",
       "\n",
       "    .dataframe thead th {\n",
       "        text-align: right;\n",
       "    }\n",
       "</style>\n",
       "<table border=\"1\" class=\"dataframe\">\n",
       "  <thead>\n",
       "    <tr style=\"text-align: right;\">\n",
       "      <th></th>\n",
       "      <th>name</th>\n",
       "      <th>platform</th>\n",
       "      <th>year_of_release</th>\n",
       "      <th>genre</th>\n",
       "      <th>na_sales</th>\n",
       "      <th>eu_sales</th>\n",
       "      <th>jp_sales</th>\n",
       "      <th>other_sales</th>\n",
       "      <th>critic_score</th>\n",
       "      <th>user_score</th>\n",
       "      <th>rating</th>\n",
       "      <th>total_sales</th>\n",
       "    </tr>\n",
       "  </thead>\n",
       "  <tbody>\n",
       "    <tr>\n",
       "      <th>0</th>\n",
       "      <td>Wii Sports</td>\n",
       "      <td>Wii</td>\n",
       "      <td>2006</td>\n",
       "      <td>Sports</td>\n",
       "      <td>41.36</td>\n",
       "      <td>28.96</td>\n",
       "      <td>3.77</td>\n",
       "      <td>8.45</td>\n",
       "      <td>76.0</td>\n",
       "      <td>8.0</td>\n",
       "      <td>E</td>\n",
       "      <td>82.54</td>\n",
       "    </tr>\n",
       "    <tr>\n",
       "      <th>1</th>\n",
       "      <td>Super Mario Bros.</td>\n",
       "      <td>NES</td>\n",
       "      <td>1985</td>\n",
       "      <td>Platform</td>\n",
       "      <td>29.08</td>\n",
       "      <td>3.58</td>\n",
       "      <td>6.81</td>\n",
       "      <td>0.77</td>\n",
       "      <td>NaN</td>\n",
       "      <td>NaN</td>\n",
       "      <td>NaN</td>\n",
       "      <td>40.24</td>\n",
       "    </tr>\n",
       "    <tr>\n",
       "      <th>2</th>\n",
       "      <td>Mario Kart Wii</td>\n",
       "      <td>Wii</td>\n",
       "      <td>2008</td>\n",
       "      <td>Racing</td>\n",
       "      <td>15.68</td>\n",
       "      <td>12.76</td>\n",
       "      <td>3.79</td>\n",
       "      <td>3.29</td>\n",
       "      <td>82.0</td>\n",
       "      <td>8.3</td>\n",
       "      <td>E</td>\n",
       "      <td>35.52</td>\n",
       "    </tr>\n",
       "    <tr>\n",
       "      <th>3</th>\n",
       "      <td>Wii Sports Resort</td>\n",
       "      <td>Wii</td>\n",
       "      <td>2009</td>\n",
       "      <td>Sports</td>\n",
       "      <td>15.61</td>\n",
       "      <td>10.93</td>\n",
       "      <td>3.28</td>\n",
       "      <td>2.95</td>\n",
       "      <td>80.0</td>\n",
       "      <td>8.0</td>\n",
       "      <td>E</td>\n",
       "      <td>32.77</td>\n",
       "    </tr>\n",
       "    <tr>\n",
       "      <th>4</th>\n",
       "      <td>Pokemon Red/Pokemon Blue</td>\n",
       "      <td>GB</td>\n",
       "      <td>1996</td>\n",
       "      <td>Role-Playing</td>\n",
       "      <td>11.27</td>\n",
       "      <td>8.89</td>\n",
       "      <td>10.22</td>\n",
       "      <td>1.00</td>\n",
       "      <td>NaN</td>\n",
       "      <td>NaN</td>\n",
       "      <td>NaN</td>\n",
       "      <td>31.38</td>\n",
       "    </tr>\n",
       "  </tbody>\n",
       "</table>\n",
       "</div>"
      ],
      "text/plain": [
       "                       name platform  year_of_release         genre  na_sales  \\\n",
       "0                Wii Sports      Wii             2006        Sports     41.36   \n",
       "1         Super Mario Bros.      NES             1985      Platform     29.08   \n",
       "2            Mario Kart Wii      Wii             2008        Racing     15.68   \n",
       "3         Wii Sports Resort      Wii             2009        Sports     15.61   \n",
       "4  Pokemon Red/Pokemon Blue       GB             1996  Role-Playing     11.27   \n",
       "\n",
       "   eu_sales  jp_sales  other_sales  critic_score  user_score rating  \\\n",
       "0     28.96      3.77         8.45          76.0         8.0      E   \n",
       "1      3.58      6.81         0.77           NaN         NaN    NaN   \n",
       "2     12.76      3.79         3.29          82.0         8.3      E   \n",
       "3     10.93      3.28         2.95          80.0         8.0      E   \n",
       "4      8.89     10.22         1.00           NaN         NaN    NaN   \n",
       "\n",
       "   total_sales  \n",
       "0        82.54  \n",
       "1        40.24  \n",
       "2        35.52  \n",
       "3        32.77  \n",
       "4        31.38  "
      ]
     },
     "execution_count": 28,
     "metadata": {},
     "output_type": "execute_result"
    }
   ],
   "source": [
    "df.head()"
   ]
  },
  {
   "cell_type": "code",
   "execution_count": 29,
   "metadata": {
    "trusted": false
   },
   "outputs": [],
   "source": [
    "games_per_year = df.groupby('year_of_release')['name'].count().sort_values(ascending=False).reset_index()\n",
    "games_per_year.columns = ['year','count']"
   ]
  },
  {
   "cell_type": "code",
   "execution_count": 30,
   "metadata": {
    "trusted": false
   },
   "outputs": [
    {
     "data": {
      "text/html": [
       "<div>\n",
       "<style scoped>\n",
       "    .dataframe tbody tr th:only-of-type {\n",
       "        vertical-align: middle;\n",
       "    }\n",
       "\n",
       "    .dataframe tbody tr th {\n",
       "        vertical-align: top;\n",
       "    }\n",
       "\n",
       "    .dataframe thead th {\n",
       "        text-align: right;\n",
       "    }\n",
       "</style>\n",
       "<table border=\"1\" class=\"dataframe\">\n",
       "  <thead>\n",
       "    <tr style=\"text-align: right;\">\n",
       "      <th></th>\n",
       "      <th>year</th>\n",
       "      <th>count</th>\n",
       "    </tr>\n",
       "  </thead>\n",
       "  <tbody>\n",
       "    <tr>\n",
       "      <th>0</th>\n",
       "      <td>2008</td>\n",
       "      <td>1427</td>\n",
       "    </tr>\n",
       "    <tr>\n",
       "      <th>1</th>\n",
       "      <td>2009</td>\n",
       "      <td>1426</td>\n",
       "    </tr>\n",
       "    <tr>\n",
       "      <th>2</th>\n",
       "      <td>2010</td>\n",
       "      <td>1255</td>\n",
       "    </tr>\n",
       "    <tr>\n",
       "      <th>3</th>\n",
       "      <td>2007</td>\n",
       "      <td>1197</td>\n",
       "    </tr>\n",
       "    <tr>\n",
       "      <th>4</th>\n",
       "      <td>2011</td>\n",
       "      <td>1136</td>\n",
       "    </tr>\n",
       "    <tr>\n",
       "      <th>5</th>\n",
       "      <td>2006</td>\n",
       "      <td>1006</td>\n",
       "    </tr>\n",
       "    <tr>\n",
       "      <th>6</th>\n",
       "      <td>2005</td>\n",
       "      <td>939</td>\n",
       "    </tr>\n",
       "    <tr>\n",
       "      <th>7</th>\n",
       "      <td>2002</td>\n",
       "      <td>829</td>\n",
       "    </tr>\n",
       "    <tr>\n",
       "      <th>8</th>\n",
       "      <td>2003</td>\n",
       "      <td>775</td>\n",
       "    </tr>\n",
       "    <tr>\n",
       "      <th>9</th>\n",
       "      <td>2004</td>\n",
       "      <td>762</td>\n",
       "    </tr>\n",
       "    <tr>\n",
       "      <th>10</th>\n",
       "      <td>2012</td>\n",
       "      <td>652</td>\n",
       "    </tr>\n",
       "    <tr>\n",
       "      <th>11</th>\n",
       "      <td>2015</td>\n",
       "      <td>606</td>\n",
       "    </tr>\n",
       "    <tr>\n",
       "      <th>12</th>\n",
       "      <td>2014</td>\n",
       "      <td>581</td>\n",
       "    </tr>\n",
       "    <tr>\n",
       "      <th>13</th>\n",
       "      <td>2013</td>\n",
       "      <td>544</td>\n",
       "    </tr>\n",
       "    <tr>\n",
       "      <th>14</th>\n",
       "      <td>2016</td>\n",
       "      <td>502</td>\n",
       "    </tr>\n",
       "    <tr>\n",
       "      <th>15</th>\n",
       "      <td>2001</td>\n",
       "      <td>482</td>\n",
       "    </tr>\n",
       "    <tr>\n",
       "      <th>16</th>\n",
       "      <td>1998</td>\n",
       "      <td>379</td>\n",
       "    </tr>\n",
       "    <tr>\n",
       "      <th>17</th>\n",
       "      <td>2000</td>\n",
       "      <td>350</td>\n",
       "    </tr>\n",
       "    <tr>\n",
       "      <th>18</th>\n",
       "      <td>1999</td>\n",
       "      <td>338</td>\n",
       "    </tr>\n",
       "    <tr>\n",
       "      <th>19</th>\n",
       "      <td>1997</td>\n",
       "      <td>289</td>\n",
       "    </tr>\n",
       "    <tr>\n",
       "      <th>20</th>\n",
       "      <td>1996</td>\n",
       "      <td>263</td>\n",
       "    </tr>\n",
       "    <tr>\n",
       "      <th>21</th>\n",
       "      <td>1995</td>\n",
       "      <td>219</td>\n",
       "    </tr>\n",
       "    <tr>\n",
       "      <th>22</th>\n",
       "      <td>1994</td>\n",
       "      <td>121</td>\n",
       "    </tr>\n",
       "    <tr>\n",
       "      <th>23</th>\n",
       "      <td>1993</td>\n",
       "      <td>60</td>\n",
       "    </tr>\n",
       "    <tr>\n",
       "      <th>24</th>\n",
       "      <td>1981</td>\n",
       "      <td>46</td>\n",
       "    </tr>\n",
       "    <tr>\n",
       "      <th>25</th>\n",
       "      <td>1992</td>\n",
       "      <td>43</td>\n",
       "    </tr>\n",
       "    <tr>\n",
       "      <th>26</th>\n",
       "      <td>1991</td>\n",
       "      <td>41</td>\n",
       "    </tr>\n",
       "    <tr>\n",
       "      <th>27</th>\n",
       "      <td>1982</td>\n",
       "      <td>36</td>\n",
       "    </tr>\n",
       "    <tr>\n",
       "      <th>28</th>\n",
       "      <td>1986</td>\n",
       "      <td>21</td>\n",
       "    </tr>\n",
       "    <tr>\n",
       "      <th>29</th>\n",
       "      <td>1989</td>\n",
       "      <td>17</td>\n",
       "    </tr>\n",
       "    <tr>\n",
       "      <th>30</th>\n",
       "      <td>1983</td>\n",
       "      <td>17</td>\n",
       "    </tr>\n",
       "    <tr>\n",
       "      <th>31</th>\n",
       "      <td>1990</td>\n",
       "      <td>16</td>\n",
       "    </tr>\n",
       "    <tr>\n",
       "      <th>32</th>\n",
       "      <td>1987</td>\n",
       "      <td>16</td>\n",
       "    </tr>\n",
       "    <tr>\n",
       "      <th>33</th>\n",
       "      <td>1988</td>\n",
       "      <td>15</td>\n",
       "    </tr>\n",
       "    <tr>\n",
       "      <th>34</th>\n",
       "      <td>1985</td>\n",
       "      <td>14</td>\n",
       "    </tr>\n",
       "    <tr>\n",
       "      <th>35</th>\n",
       "      <td>1984</td>\n",
       "      <td>14</td>\n",
       "    </tr>\n",
       "    <tr>\n",
       "      <th>36</th>\n",
       "      <td>1980</td>\n",
       "      <td>9</td>\n",
       "    </tr>\n",
       "  </tbody>\n",
       "</table>\n",
       "</div>"
      ],
      "text/plain": [
       "    year  count\n",
       "0   2008   1427\n",
       "1   2009   1426\n",
       "2   2010   1255\n",
       "3   2007   1197\n",
       "4   2011   1136\n",
       "5   2006   1006\n",
       "6   2005    939\n",
       "7   2002    829\n",
       "8   2003    775\n",
       "9   2004    762\n",
       "10  2012    652\n",
       "11  2015    606\n",
       "12  2014    581\n",
       "13  2013    544\n",
       "14  2016    502\n",
       "15  2001    482\n",
       "16  1998    379\n",
       "17  2000    350\n",
       "18  1999    338\n",
       "19  1997    289\n",
       "20  1996    263\n",
       "21  1995    219\n",
       "22  1994    121\n",
       "23  1993     60\n",
       "24  1981     46\n",
       "25  1992     43\n",
       "26  1991     41\n",
       "27  1982     36\n",
       "28  1986     21\n",
       "29  1989     17\n",
       "30  1983     17\n",
       "31  1990     16\n",
       "32  1987     16\n",
       "33  1988     15\n",
       "34  1985     14\n",
       "35  1984     14\n",
       "36  1980      9"
      ]
     },
     "execution_count": 30,
     "metadata": {},
     "output_type": "execute_result"
    }
   ],
   "source": [
    "games_per_year"
   ]
  },
  {
   "cell_type": "code",
   "execution_count": 33,
   "metadata": {
    "trusted": false
   },
   "outputs": [
    {
     "data": {
      "image/png": "[encoded data removed]",
      "text/plain": [
       "<Figure size 1200x800 with 1 Axes>"
      ]
     },
     "metadata": {},
     "output_type": "display_data"
    }
   ],
   "source": [
    "df['year_of_release'].value_counts().sort_index().plot(kind='bar', figsize=(12,8))\n",
    "\n",
    "plt.title('Year of Release vs. Number of Games')\n",
    "plt.xlabel('Year')\n",
    "plt.ylabel('# of Games')\n",
    "\n",
    "plt.xticks(rotation=45);"
   ]
  },
  {
   "cell_type": "markdown",
   "metadata": {},
   "source": [
    "The number of games released tended to pick up come 2004-2012. Big drop off come 2012-2015."
   ]
  },
  {
   "cell_type": "code",
   "execution_count": 34,
   "metadata": {
    "trusted": false
   },
   "outputs": [
    {
     "data": {
      "text/html": [
       "<div>\n",
       "<style scoped>\n",
       "    .dataframe tbody tr th:only-of-type {\n",
       "        vertical-align: middle;\n",
       "    }\n",
       "\n",
       "    .dataframe tbody tr th {\n",
       "        vertical-align: top;\n",
       "    }\n",
       "\n",
       "    .dataframe thead th {\n",
       "        text-align: right;\n",
       "    }\n",
       "</style>\n",
       "<table border=\"1\" class=\"dataframe\">\n",
       "  <thead>\n",
       "    <tr style=\"text-align: right;\">\n",
       "      <th></th>\n",
       "      <th>platform</th>\n",
       "      <th>sales</th>\n",
       "    </tr>\n",
       "  </thead>\n",
       "  <tbody>\n",
       "    <tr>\n",
       "      <th>0</th>\n",
       "      <td>PS2</td>\n",
       "      <td>1233.56</td>\n",
       "    </tr>\n",
       "    <tr>\n",
       "      <th>1</th>\n",
       "      <td>X360</td>\n",
       "      <td>961.24</td>\n",
       "    </tr>\n",
       "    <tr>\n",
       "      <th>2</th>\n",
       "      <td>PS3</td>\n",
       "      <td>931.33</td>\n",
       "    </tr>\n",
       "    <tr>\n",
       "      <th>3</th>\n",
       "      <td>Wii</td>\n",
       "      <td>891.18</td>\n",
       "    </tr>\n",
       "    <tr>\n",
       "      <th>4</th>\n",
       "      <td>DS</td>\n",
       "      <td>802.78</td>\n",
       "    </tr>\n",
       "    <tr>\n",
       "      <th>5</th>\n",
       "      <td>PS</td>\n",
       "      <td>727.58</td>\n",
       "    </tr>\n",
       "    <tr>\n",
       "      <th>6</th>\n",
       "      <td>PS4</td>\n",
       "      <td>314.14</td>\n",
       "    </tr>\n",
       "    <tr>\n",
       "      <th>7</th>\n",
       "      <td>GBA</td>\n",
       "      <td>312.88</td>\n",
       "    </tr>\n",
       "    <tr>\n",
       "      <th>8</th>\n",
       "      <td>PSP</td>\n",
       "      <td>289.53</td>\n",
       "    </tr>\n",
       "    <tr>\n",
       "      <th>9</th>\n",
       "      <td>3DS</td>\n",
       "      <td>257.81</td>\n",
       "    </tr>\n",
       "    <tr>\n",
       "      <th>10</th>\n",
       "      <td>PC</td>\n",
       "      <td>255.76</td>\n",
       "    </tr>\n",
       "    <tr>\n",
       "      <th>11</th>\n",
       "      <td>GB</td>\n",
       "      <td>254.43</td>\n",
       "    </tr>\n",
       "    <tr>\n",
       "      <th>12</th>\n",
       "      <td>XB</td>\n",
       "      <td>251.57</td>\n",
       "    </tr>\n",
       "    <tr>\n",
       "      <th>13</th>\n",
       "      <td>NES</td>\n",
       "      <td>251.05</td>\n",
       "    </tr>\n",
       "    <tr>\n",
       "      <th>14</th>\n",
       "      <td>N64</td>\n",
       "      <td>218.01</td>\n",
       "    </tr>\n",
       "    <tr>\n",
       "      <th>15</th>\n",
       "      <td>SNES</td>\n",
       "      <td>200.04</td>\n",
       "    </tr>\n",
       "    <tr>\n",
       "      <th>16</th>\n",
       "      <td>GC</td>\n",
       "      <td>196.73</td>\n",
       "    </tr>\n",
       "    <tr>\n",
       "      <th>17</th>\n",
       "      <td>XOne</td>\n",
       "      <td>159.32</td>\n",
       "    </tr>\n",
       "    <tr>\n",
       "      <th>18</th>\n",
       "      <td>2600</td>\n",
       "      <td>86.48</td>\n",
       "    </tr>\n",
       "    <tr>\n",
       "      <th>19</th>\n",
       "      <td>WiiU</td>\n",
       "      <td>82.19</td>\n",
       "    </tr>\n",
       "    <tr>\n",
       "      <th>20</th>\n",
       "      <td>PSV</td>\n",
       "      <td>53.81</td>\n",
       "    </tr>\n",
       "    <tr>\n",
       "      <th>21</th>\n",
       "      <td>SAT</td>\n",
       "      <td>33.59</td>\n",
       "    </tr>\n",
       "    <tr>\n",
       "      <th>22</th>\n",
       "      <td>GEN</td>\n",
       "      <td>30.74</td>\n",
       "    </tr>\n",
       "    <tr>\n",
       "      <th>23</th>\n",
       "      <td>DC</td>\n",
       "      <td>15.95</td>\n",
       "    </tr>\n",
       "    <tr>\n",
       "      <th>24</th>\n",
       "      <td>SCD</td>\n",
       "      <td>1.86</td>\n",
       "    </tr>\n",
       "    <tr>\n",
       "      <th>25</th>\n",
       "      <td>NG</td>\n",
       "      <td>1.44</td>\n",
       "    </tr>\n",
       "    <tr>\n",
       "      <th>26</th>\n",
       "      <td>WS</td>\n",
       "      <td>1.42</td>\n",
       "    </tr>\n",
       "    <tr>\n",
       "      <th>27</th>\n",
       "      <td>TG16</td>\n",
       "      <td>0.16</td>\n",
       "    </tr>\n",
       "    <tr>\n",
       "      <th>28</th>\n",
       "      <td>3DO</td>\n",
       "      <td>0.10</td>\n",
       "    </tr>\n",
       "    <tr>\n",
       "      <th>29</th>\n",
       "      <td>GG</td>\n",
       "      <td>0.04</td>\n",
       "    </tr>\n",
       "    <tr>\n",
       "      <th>30</th>\n",
       "      <td>PCFX</td>\n",
       "      <td>0.03</td>\n",
       "    </tr>\n",
       "  </tbody>\n",
       "</table>\n",
       "</div>"
      ],
      "text/plain": [
       "   platform    sales\n",
       "0       PS2  1233.56\n",
       "1      X360   961.24\n",
       "2       PS3   931.33\n",
       "3       Wii   891.18\n",
       "4        DS   802.78\n",
       "5        PS   727.58\n",
       "6       PS4   314.14\n",
       "7       GBA   312.88\n",
       "8       PSP   289.53\n",
       "9       3DS   257.81\n",
       "10       PC   255.76\n",
       "11       GB   254.43\n",
       "12       XB   251.57\n",
       "13      NES   251.05\n",
       "14      N64   218.01\n",
       "15     SNES   200.04\n",
       "16       GC   196.73\n",
       "17     XOne   159.32\n",
       "18     2600    86.48\n",
       "19     WiiU    82.19\n",
       "20      PSV    53.81\n",
       "21      SAT    33.59\n",
       "22      GEN    30.74\n",
       "23       DC    15.95\n",
       "24      SCD     1.86\n",
       "25       NG     1.44\n",
       "26       WS     1.42\n",
       "27     TG16     0.16\n",
       "28      3DO     0.10\n",
       "29       GG     0.04\n",
       "30     PCFX     0.03"
      ]
     },
     "execution_count": 34,
     "metadata": {},
     "output_type": "execute_result"
    }
   ],
   "source": [
    "platform_sales = df.groupby('platform')['total_sales'].sum().sort_values(ascending=False).reset_index()\n",
    "platform_sales.columns = ['platform', 'sales']\n",
    "platform_sales"
   ]
  },
  {
   "cell_type": "code",
   "execution_count": 35,
   "metadata": {
    "trusted": false
   },
   "outputs": [
    {
     "data": {
      "image/png": "[encoded data removed]",
      "text/plain": [
       "<Figure size 1500x1000 with 1 Axes>"
      ]
     },
     "metadata": {},
     "output_type": "display_data"
    }
   ],
   "source": [
    "plt.figure(figsize=(15, 10))\n",
    "sns.barplot(x='platform', y='sales', data=platform_sales)\n",
    "\n",
    "plt.xlabel('Platform')\n",
    "plt.ylabel(\"Total Sales (in millions)\")\n",
    "plt.title('Total Sales by Platform')\n",
    "plt.xticks(rotation=45)\n",
    "\n",
    "plt.show()\n"
   ]
  },
  {
   "cell_type": "code",
   "execution_count": 36,
   "metadata": {
    "trusted": false
   },
   "outputs": [],
   "source": [
    "threshold_platform = platform_sales['sales'].quantile(0.75)"
   ]
  },
  {
   "cell_type": "code",
   "execution_count": 37,
   "metadata": {
    "trusted": false
   },
   "outputs": [],
   "source": [
    "top_25percent_platform = platform_sales[platform_sales['sales'] > threshold_platform]"
   ]
  },
  {
   "cell_type": "code",
   "execution_count": 38,
   "metadata": {
    "trusted": false
   },
   "outputs": [
    {
     "name": "stdout",
     "output_type": "stream",
     "text": [
      "The top 25% of total sales by platform:\n",
      "  platform    sales\n",
      "0      PS2  1233.56\n",
      "1     X360   961.24\n",
      "2      PS3   931.33\n",
      "3      Wii   891.18\n",
      "4       DS   802.78\n",
      "5       PS   727.58\n",
      "6      PS4   314.14\n",
      "7      GBA   312.88\n"
     ]
    }
   ],
   "source": [
    "print('The top 25% of total sales by platform:')\n",
    "print(top_25percent_platform)"
   ]
  },
  {
   "cell_type": "code",
   "execution_count": 39,
   "metadata": {
    "trusted": false
   },
   "outputs": [
    {
     "data": {
      "text/plain": [
       "['PS2', 'X360', 'PS3', 'Wii', 'DS', 'PS', 'PS4', 'GBA']"
      ]
     },
     "execution_count": 39,
     "metadata": {},
     "output_type": "execute_result"
    }
   ],
   "source": [
    "popular_platforms = top_25percent_platform['platform'].to_list()\n",
    "popular_platforms"
   ]
  },
  {
   "cell_type": "code",
   "execution_count": 40,
   "metadata": {
    "trusted": false
   },
   "outputs": [
    {
     "data": {
      "text/html": [
       "<div>\n",
       "<style scoped>\n",
       "    .dataframe tbody tr th:only-of-type {\n",
       "        vertical-align: middle;\n",
       "    }\n",
       "\n",
       "    .dataframe tbody tr th {\n",
       "        vertical-align: top;\n",
       "    }\n",
       "\n",
       "    .dataframe thead th {\n",
       "        text-align: right;\n",
       "    }\n",
       "</style>\n",
       "<table border=\"1\" class=\"dataframe\">\n",
       "  <thead>\n",
       "    <tr style=\"text-align: right;\">\n",
       "      <th></th>\n",
       "      <th>name</th>\n",
       "      <th>platform</th>\n",
       "      <th>year_of_release</th>\n",
       "      <th>genre</th>\n",
       "      <th>na_sales</th>\n",
       "      <th>eu_sales</th>\n",
       "      <th>jp_sales</th>\n",
       "      <th>other_sales</th>\n",
       "      <th>critic_score</th>\n",
       "      <th>user_score</th>\n",
       "      <th>rating</th>\n",
       "      <th>total_sales</th>\n",
       "    </tr>\n",
       "  </thead>\n",
       "  <tbody>\n",
       "    <tr>\n",
       "      <th>0</th>\n",
       "      <td>Wii Sports</td>\n",
       "      <td>Wii</td>\n",
       "      <td>2006</td>\n",
       "      <td>Sports</td>\n",
       "      <td>41.36</td>\n",
       "      <td>28.96</td>\n",
       "      <td>3.77</td>\n",
       "      <td>8.45</td>\n",
       "      <td>76.0</td>\n",
       "      <td>8.0</td>\n",
       "      <td>E</td>\n",
       "      <td>82.54</td>\n",
       "    </tr>\n",
       "    <tr>\n",
       "      <th>2</th>\n",
       "      <td>Mario Kart Wii</td>\n",
       "      <td>Wii</td>\n",
       "      <td>2008</td>\n",
       "      <td>Racing</td>\n",
       "      <td>15.68</td>\n",
       "      <td>12.76</td>\n",
       "      <td>3.79</td>\n",
       "      <td>3.29</td>\n",
       "      <td>82.0</td>\n",
       "      <td>8.3</td>\n",
       "      <td>E</td>\n",
       "      <td>35.52</td>\n",
       "    </tr>\n",
       "    <tr>\n",
       "      <th>3</th>\n",
       "      <td>Wii Sports Resort</td>\n",
       "      <td>Wii</td>\n",
       "      <td>2009</td>\n",
       "      <td>Sports</td>\n",
       "      <td>15.61</td>\n",
       "      <td>10.93</td>\n",
       "      <td>3.28</td>\n",
       "      <td>2.95</td>\n",
       "      <td>80.0</td>\n",
       "      <td>8.0</td>\n",
       "      <td>E</td>\n",
       "      <td>32.77</td>\n",
       "    </tr>\n",
       "    <tr>\n",
       "      <th>6</th>\n",
       "      <td>New Super Mario Bros.</td>\n",
       "      <td>DS</td>\n",
       "      <td>2006</td>\n",
       "      <td>Platform</td>\n",
       "      <td>11.28</td>\n",
       "      <td>9.14</td>\n",
       "      <td>6.50</td>\n",
       "      <td>2.88</td>\n",
       "      <td>89.0</td>\n",
       "      <td>8.5</td>\n",
       "      <td>E</td>\n",
       "      <td>29.80</td>\n",
       "    </tr>\n",
       "    <tr>\n",
       "      <th>7</th>\n",
       "      <td>Wii Play</td>\n",
       "      <td>Wii</td>\n",
       "      <td>2006</td>\n",
       "      <td>Misc</td>\n",
       "      <td>13.96</td>\n",
       "      <td>9.18</td>\n",
       "      <td>2.93</td>\n",
       "      <td>2.84</td>\n",
       "      <td>58.0</td>\n",
       "      <td>6.6</td>\n",
       "      <td>E</td>\n",
       "      <td>28.91</td>\n",
       "    </tr>\n",
       "    <tr>\n",
       "      <th>...</th>\n",
       "      <td>...</td>\n",
       "      <td>...</td>\n",
       "      <td>...</td>\n",
       "      <td>...</td>\n",
       "      <td>...</td>\n",
       "      <td>...</td>\n",
       "      <td>...</td>\n",
       "      <td>...</td>\n",
       "      <td>...</td>\n",
       "      <td>...</td>\n",
       "      <td>...</td>\n",
       "      <td>...</td>\n",
       "    </tr>\n",
       "    <tr>\n",
       "      <th>16706</th>\n",
       "      <td>Woody Woodpecker in Crazy Castle 5</td>\n",
       "      <td>GBA</td>\n",
       "      <td>2002</td>\n",
       "      <td>Platform</td>\n",
       "      <td>0.01</td>\n",
       "      <td>0.00</td>\n",
       "      <td>0.00</td>\n",
       "      <td>0.00</td>\n",
       "      <td>NaN</td>\n",
       "      <td>NaN</td>\n",
       "      <td>NaN</td>\n",
       "      <td>0.01</td>\n",
       "    </tr>\n",
       "    <tr>\n",
       "      <th>16707</th>\n",
       "      <td>SCORE International Baja 1000: The Official Game</td>\n",
       "      <td>PS2</td>\n",
       "      <td>2008</td>\n",
       "      <td>Racing</td>\n",
       "      <td>0.00</td>\n",
       "      <td>0.00</td>\n",
       "      <td>0.00</td>\n",
       "      <td>0.00</td>\n",
       "      <td>NaN</td>\n",
       "      <td>NaN</td>\n",
       "      <td>NaN</td>\n",
       "      <td>0.00</td>\n",
       "    </tr>\n",
       "    <tr>\n",
       "      <th>16708</th>\n",
       "      <td>Samurai Warriors: Sanada Maru</td>\n",
       "      <td>PS3</td>\n",
       "      <td>2016</td>\n",
       "      <td>Action</td>\n",
       "      <td>0.00</td>\n",
       "      <td>0.00</td>\n",
       "      <td>0.01</td>\n",
       "      <td>0.00</td>\n",
       "      <td>NaN</td>\n",
       "      <td>NaN</td>\n",
       "      <td>NaN</td>\n",
       "      <td>0.01</td>\n",
       "    </tr>\n",
       "    <tr>\n",
       "      <th>16709</th>\n",
       "      <td>LMA Manager 2007</td>\n",
       "      <td>X360</td>\n",
       "      <td>2006</td>\n",
       "      <td>Sports</td>\n",
       "      <td>0.00</td>\n",
       "      <td>0.01</td>\n",
       "      <td>0.00</td>\n",
       "      <td>0.00</td>\n",
       "      <td>NaN</td>\n",
       "      <td>NaN</td>\n",
       "      <td>NaN</td>\n",
       "      <td>0.01</td>\n",
       "    </tr>\n",
       "    <tr>\n",
       "      <th>16711</th>\n",
       "      <td>Spirits &amp; Spells</td>\n",
       "      <td>GBA</td>\n",
       "      <td>2003</td>\n",
       "      <td>Platform</td>\n",
       "      <td>0.01</td>\n",
       "      <td>0.00</td>\n",
       "      <td>0.00</td>\n",
       "      <td>0.00</td>\n",
       "      <td>NaN</td>\n",
       "      <td>NaN</td>\n",
       "      <td>NaN</td>\n",
       "      <td>0.01</td>\n",
       "    </tr>\n",
       "  </tbody>\n",
       "</table>\n",
       "<p>10464 rows × 12 columns</p>\n",
       "</div>"
      ],
      "text/plain": [
       "                                                   name platform  \\\n",
       "0                                            Wii Sports      Wii   \n",
       "2                                        Mario Kart Wii      Wii   \n",
       "3                                     Wii Sports Resort      Wii   \n",
       "6                                 New Super Mario Bros.       DS   \n",
       "7                                              Wii Play      Wii   \n",
       "...                                                 ...      ...   \n",
       "16706                Woody Woodpecker in Crazy Castle 5      GBA   \n",
       "16707  SCORE International Baja 1000: The Official Game      PS2   \n",
       "16708                     Samurai Warriors: Sanada Maru      PS3   \n",
       "16709                                  LMA Manager 2007     X360   \n",
       "16711                                  Spirits & Spells      GBA   \n",
       "\n",
       "       year_of_release     genre  na_sales  eu_sales  jp_sales  other_sales  \\\n",
       "0                 2006    Sports     41.36     28.96      3.77         8.45   \n",
       "2                 2008    Racing     15.68     12.76      3.79         3.29   \n",
       "3                 2009    Sports     15.61     10.93      3.28         2.95   \n",
       "6                 2006  Platform     11.28      9.14      6.50         2.88   \n",
       "7                 2006      Misc     13.96      9.18      2.93         2.84   \n",
       "...                ...       ...       ...       ...       ...          ...   \n",
       "16706             2002  Platform      0.01      0.00      0.00         0.00   \n",
       "16707             2008    Racing      0.00      0.00      0.00         0.00   \n",
       "16708             2016    Action      0.00      0.00      0.01         0.00   \n",
       "16709             2006    Sports      0.00      0.01      0.00         0.00   \n",
       "16711             2003  Platform      0.01      0.00      0.00         0.00   \n",
       "\n",
       "       critic_score  user_score rating  total_sales  \n",
       "0              76.0         8.0      E        82.54  \n",
       "2              82.0         8.3      E        35.52  \n",
       "3              80.0         8.0      E        32.77  \n",
       "6              89.0         8.5      E        29.80  \n",
       "7              58.0         6.6      E        28.91  \n",
       "...             ...         ...    ...          ...  \n",
       "16706           NaN         NaN    NaN         0.01  \n",
       "16707           NaN         NaN    NaN         0.00  \n",
       "16708           NaN         NaN    NaN         0.01  \n",
       "16709           NaN         NaN    NaN         0.01  \n",
       "16711           NaN         NaN    NaN         0.01  \n",
       "\n",
       "[10464 rows x 12 columns]"
      ]
     },
     "execution_count": 40,
     "metadata": {},
     "output_type": "execute_result"
    }
   ],
   "source": [
    "df_filtered = df[df['platform'].isin(popular_platforms)]\n",
    "df_filtered"
   ]
  },
  {
   "cell_type": "code",
   "execution_count": 41,
   "metadata": {
    "trusted": false
   },
   "outputs": [
    {
     "data": {
      "text/html": [
       "<div>\n",
       "<style scoped>\n",
       "    .dataframe tbody tr th:only-of-type {\n",
       "        vertical-align: middle;\n",
       "    }\n",
       "\n",
       "    .dataframe tbody tr th {\n",
       "        vertical-align: top;\n",
       "    }\n",
       "\n",
       "    .dataframe thead th {\n",
       "        text-align: right;\n",
       "    }\n",
       "</style>\n",
       "<table border=\"1\" class=\"dataframe\">\n",
       "  <thead>\n",
       "    <tr style=\"text-align: right;\">\n",
       "      <th></th>\n",
       "      <th>platform</th>\n",
       "      <th>year_of_release</th>\n",
       "      <th>total_sales</th>\n",
       "    </tr>\n",
       "  </thead>\n",
       "  <tbody>\n",
       "    <tr>\n",
       "      <th>0</th>\n",
       "      <td>X360</td>\n",
       "      <td>2016</td>\n",
       "      <td>1.52</td>\n",
       "    </tr>\n",
       "    <tr>\n",
       "      <th>1</th>\n",
       "      <td>X360</td>\n",
       "      <td>2015</td>\n",
       "      <td>11.96</td>\n",
       "    </tr>\n",
       "    <tr>\n",
       "      <th>2</th>\n",
       "      <td>X360</td>\n",
       "      <td>2014</td>\n",
       "      <td>34.74</td>\n",
       "    </tr>\n",
       "    <tr>\n",
       "      <th>3</th>\n",
       "      <td>X360</td>\n",
       "      <td>2013</td>\n",
       "      <td>88.58</td>\n",
       "    </tr>\n",
       "    <tr>\n",
       "      <th>4</th>\n",
       "      <td>X360</td>\n",
       "      <td>2012</td>\n",
       "      <td>99.74</td>\n",
       "    </tr>\n",
       "    <tr>\n",
       "      <th>...</th>\n",
       "      <td>...</td>\n",
       "      <td>...</td>\n",
       "      <td>...</td>\n",
       "    </tr>\n",
       "    <tr>\n",
       "      <th>74</th>\n",
       "      <td>DS</td>\n",
       "      <td>2007</td>\n",
       "      <td>146.94</td>\n",
       "    </tr>\n",
       "    <tr>\n",
       "      <th>75</th>\n",
       "      <td>DS</td>\n",
       "      <td>2006</td>\n",
       "      <td>119.81</td>\n",
       "    </tr>\n",
       "    <tr>\n",
       "      <th>76</th>\n",
       "      <td>DS</td>\n",
       "      <td>2005</td>\n",
       "      <td>130.14</td>\n",
       "    </tr>\n",
       "    <tr>\n",
       "      <th>77</th>\n",
       "      <td>DS</td>\n",
       "      <td>2004</td>\n",
       "      <td>17.27</td>\n",
       "    </tr>\n",
       "    <tr>\n",
       "      <th>78</th>\n",
       "      <td>DS</td>\n",
       "      <td>1985</td>\n",
       "      <td>0.02</td>\n",
       "    </tr>\n",
       "  </tbody>\n",
       "</table>\n",
       "<p>79 rows × 3 columns</p>\n",
       "</div>"
      ],
      "text/plain": [
       "   platform  year_of_release  total_sales\n",
       "0      X360             2016         1.52\n",
       "1      X360             2015        11.96\n",
       "2      X360             2014        34.74\n",
       "3      X360             2013        88.58\n",
       "4      X360             2012        99.74\n",
       "..      ...              ...          ...\n",
       "74       DS             2007       146.94\n",
       "75       DS             2006       119.81\n",
       "76       DS             2005       130.14\n",
       "77       DS             2004        17.27\n",
       "78       DS             1985         0.02\n",
       "\n",
       "[79 rows x 3 columns]"
      ]
     },
     "execution_count": 41,
     "metadata": {},
     "output_type": "execute_result"
    }
   ],
   "source": [
    "platform_sales_by_year = df_filtered.groupby(['platform', 'year_of_release'])['total_sales'].sum().sort_index(ascending=False).reset_index()\n",
    "platform_sales_by_year"
   ]
  },
  {
   "cell_type": "code",
   "execution_count": 42,
   "metadata": {
    "trusted": false
   },
   "outputs": [
    {
     "data": {
      "text/html": [
       "<div>\n",
       "<style scoped>\n",
       "    .dataframe tbody tr th:only-of-type {\n",
       "        vertical-align: middle;\n",
       "    }\n",
       "\n",
       "    .dataframe tbody tr th {\n",
       "        vertical-align: top;\n",
       "    }\n",
       "\n",
       "    .dataframe thead th {\n",
       "        text-align: right;\n",
       "    }\n",
       "</style>\n",
       "<table border=\"1\" class=\"dataframe\">\n",
       "  <thead>\n",
       "    <tr style=\"text-align: right;\">\n",
       "      <th>platform</th>\n",
       "      <th>DS</th>\n",
       "      <th>GBA</th>\n",
       "      <th>PS</th>\n",
       "      <th>PS2</th>\n",
       "      <th>PS3</th>\n",
       "      <th>PS4</th>\n",
       "      <th>Wii</th>\n",
       "      <th>X360</th>\n",
       "    </tr>\n",
       "    <tr>\n",
       "      <th>year_of_release</th>\n",
       "      <th></th>\n",
       "      <th></th>\n",
       "      <th></th>\n",
       "      <th></th>\n",
       "      <th></th>\n",
       "      <th></th>\n",
       "      <th></th>\n",
       "      <th></th>\n",
       "    </tr>\n",
       "  </thead>\n",
       "  <tbody>\n",
       "    <tr>\n",
       "      <th>1985</th>\n",
       "      <td>0.02</td>\n",
       "      <td>NaN</td>\n",
       "      <td>NaN</td>\n",
       "      <td>NaN</td>\n",
       "      <td>NaN</td>\n",
       "      <td>NaN</td>\n",
       "      <td>NaN</td>\n",
       "      <td>NaN</td>\n",
       "    </tr>\n",
       "    <tr>\n",
       "      <th>1994</th>\n",
       "      <td>NaN</td>\n",
       "      <td>NaN</td>\n",
       "      <td>6.03</td>\n",
       "      <td>NaN</td>\n",
       "      <td>NaN</td>\n",
       "      <td>NaN</td>\n",
       "      <td>NaN</td>\n",
       "      <td>NaN</td>\n",
       "    </tr>\n",
       "    <tr>\n",
       "      <th>1995</th>\n",
       "      <td>NaN</td>\n",
       "      <td>NaN</td>\n",
       "      <td>35.96</td>\n",
       "      <td>NaN</td>\n",
       "      <td>NaN</td>\n",
       "      <td>NaN</td>\n",
       "      <td>NaN</td>\n",
       "      <td>NaN</td>\n",
       "    </tr>\n",
       "    <tr>\n",
       "      <th>1996</th>\n",
       "      <td>NaN</td>\n",
       "      <td>NaN</td>\n",
       "      <td>94.70</td>\n",
       "      <td>NaN</td>\n",
       "      <td>NaN</td>\n",
       "      <td>NaN</td>\n",
       "      <td>NaN</td>\n",
       "      <td>NaN</td>\n",
       "    </tr>\n",
       "    <tr>\n",
       "      <th>1997</th>\n",
       "      <td>NaN</td>\n",
       "      <td>NaN</td>\n",
       "      <td>136.17</td>\n",
       "      <td>NaN</td>\n",
       "      <td>NaN</td>\n",
       "      <td>NaN</td>\n",
       "      <td>NaN</td>\n",
       "      <td>NaN</td>\n",
       "    </tr>\n",
       "    <tr>\n",
       "      <th>1998</th>\n",
       "      <td>NaN</td>\n",
       "      <td>NaN</td>\n",
       "      <td>169.49</td>\n",
       "      <td>NaN</td>\n",
       "      <td>NaN</td>\n",
       "      <td>NaN</td>\n",
       "      <td>NaN</td>\n",
       "      <td>NaN</td>\n",
       "    </tr>\n",
       "    <tr>\n",
       "      <th>1999</th>\n",
       "      <td>NaN</td>\n",
       "      <td>NaN</td>\n",
       "      <td>144.53</td>\n",
       "      <td>NaN</td>\n",
       "      <td>NaN</td>\n",
       "      <td>NaN</td>\n",
       "      <td>NaN</td>\n",
       "      <td>NaN</td>\n",
       "    </tr>\n",
       "    <tr>\n",
       "      <th>2000</th>\n",
       "      <td>NaN</td>\n",
       "      <td>0.07</td>\n",
       "      <td>96.37</td>\n",
       "      <td>39.17</td>\n",
       "      <td>NaN</td>\n",
       "      <td>NaN</td>\n",
       "      <td>NaN</td>\n",
       "      <td>NaN</td>\n",
       "    </tr>\n",
       "    <tr>\n",
       "      <th>2001</th>\n",
       "      <td>NaN</td>\n",
       "      <td>61.53</td>\n",
       "      <td>35.59</td>\n",
       "      <td>166.43</td>\n",
       "      <td>NaN</td>\n",
       "      <td>NaN</td>\n",
       "      <td>NaN</td>\n",
       "      <td>NaN</td>\n",
       "    </tr>\n",
       "    <tr>\n",
       "      <th>2002</th>\n",
       "      <td>NaN</td>\n",
       "      <td>74.16</td>\n",
       "      <td>6.67</td>\n",
       "      <td>205.38</td>\n",
       "      <td>NaN</td>\n",
       "      <td>NaN</td>\n",
       "      <td>NaN</td>\n",
       "      <td>NaN</td>\n",
       "    </tr>\n",
       "    <tr>\n",
       "      <th>2003</th>\n",
       "      <td>NaN</td>\n",
       "      <td>56.67</td>\n",
       "      <td>2.07</td>\n",
       "      <td>184.31</td>\n",
       "      <td>NaN</td>\n",
       "      <td>NaN</td>\n",
       "      <td>NaN</td>\n",
       "      <td>NaN</td>\n",
       "    </tr>\n",
       "    <tr>\n",
       "      <th>2004</th>\n",
       "      <td>17.27</td>\n",
       "      <td>77.91</td>\n",
       "      <td>NaN</td>\n",
       "      <td>211.81</td>\n",
       "      <td>NaN</td>\n",
       "      <td>NaN</td>\n",
       "      <td>NaN</td>\n",
       "      <td>NaN</td>\n",
       "    </tr>\n",
       "    <tr>\n",
       "      <th>2005</th>\n",
       "      <td>130.14</td>\n",
       "      <td>33.86</td>\n",
       "      <td>NaN</td>\n",
       "      <td>160.66</td>\n",
       "      <td>NaN</td>\n",
       "      <td>NaN</td>\n",
       "      <td>NaN</td>\n",
       "      <td>8.25</td>\n",
       "    </tr>\n",
       "    <tr>\n",
       "      <th>2006</th>\n",
       "      <td>119.81</td>\n",
       "      <td>5.28</td>\n",
       "      <td>NaN</td>\n",
       "      <td>103.42</td>\n",
       "      <td>20.96</td>\n",
       "      <td>NaN</td>\n",
       "      <td>137.15</td>\n",
       "      <td>51.62</td>\n",
       "    </tr>\n",
       "    <tr>\n",
       "      <th>2007</th>\n",
       "      <td>146.94</td>\n",
       "      <td>3.40</td>\n",
       "      <td>NaN</td>\n",
       "      <td>75.99</td>\n",
       "      <td>73.19</td>\n",
       "      <td>NaN</td>\n",
       "      <td>152.77</td>\n",
       "      <td>95.41</td>\n",
       "    </tr>\n",
       "    <tr>\n",
       "      <th>2008</th>\n",
       "      <td>145.31</td>\n",
       "      <td>NaN</td>\n",
       "      <td>NaN</td>\n",
       "      <td>53.90</td>\n",
       "      <td>118.52</td>\n",
       "      <td>NaN</td>\n",
       "      <td>171.32</td>\n",
       "      <td>135.26</td>\n",
       "    </tr>\n",
       "    <tr>\n",
       "      <th>2009</th>\n",
       "      <td>119.54</td>\n",
       "      <td>NaN</td>\n",
       "      <td>NaN</td>\n",
       "      <td>26.40</td>\n",
       "      <td>130.93</td>\n",
       "      <td>NaN</td>\n",
       "      <td>206.97</td>\n",
       "      <td>120.29</td>\n",
       "    </tr>\n",
       "    <tr>\n",
       "      <th>2010</th>\n",
       "      <td>85.02</td>\n",
       "      <td>NaN</td>\n",
       "      <td>NaN</td>\n",
       "      <td>5.64</td>\n",
       "      <td>142.17</td>\n",
       "      <td>NaN</td>\n",
       "      <td>127.95</td>\n",
       "      <td>170.03</td>\n",
       "    </tr>\n",
       "    <tr>\n",
       "      <th>2011</th>\n",
       "      <td>26.18</td>\n",
       "      <td>NaN</td>\n",
       "      <td>NaN</td>\n",
       "      <td>0.45</td>\n",
       "      <td>156.78</td>\n",
       "      <td>NaN</td>\n",
       "      <td>59.65</td>\n",
       "      <td>143.84</td>\n",
       "    </tr>\n",
       "    <tr>\n",
       "      <th>2012</th>\n",
       "      <td>11.01</td>\n",
       "      <td>NaN</td>\n",
       "      <td>NaN</td>\n",
       "      <td>NaN</td>\n",
       "      <td>107.35</td>\n",
       "      <td>NaN</td>\n",
       "      <td>21.71</td>\n",
       "      <td>99.74</td>\n",
       "    </tr>\n",
       "    <tr>\n",
       "      <th>2013</th>\n",
       "      <td>1.54</td>\n",
       "      <td>NaN</td>\n",
       "      <td>NaN</td>\n",
       "      <td>NaN</td>\n",
       "      <td>113.25</td>\n",
       "      <td>25.99</td>\n",
       "      <td>8.59</td>\n",
       "      <td>88.58</td>\n",
       "    </tr>\n",
       "    <tr>\n",
       "      <th>2014</th>\n",
       "      <td>NaN</td>\n",
       "      <td>NaN</td>\n",
       "      <td>NaN</td>\n",
       "      <td>NaN</td>\n",
       "      <td>47.76</td>\n",
       "      <td>100.00</td>\n",
       "      <td>3.75</td>\n",
       "      <td>34.74</td>\n",
       "    </tr>\n",
       "    <tr>\n",
       "      <th>2015</th>\n",
       "      <td>NaN</td>\n",
       "      <td>NaN</td>\n",
       "      <td>NaN</td>\n",
       "      <td>NaN</td>\n",
       "      <td>16.82</td>\n",
       "      <td>118.90</td>\n",
       "      <td>1.14</td>\n",
       "      <td>11.96</td>\n",
       "    </tr>\n",
       "    <tr>\n",
       "      <th>2016</th>\n",
       "      <td>NaN</td>\n",
       "      <td>NaN</td>\n",
       "      <td>NaN</td>\n",
       "      <td>NaN</td>\n",
       "      <td>3.60</td>\n",
       "      <td>69.25</td>\n",
       "      <td>0.18</td>\n",
       "      <td>1.52</td>\n",
       "    </tr>\n",
       "  </tbody>\n",
       "</table>\n",
       "</div>"
      ],
      "text/plain": [
       "platform             DS    GBA      PS     PS2     PS3     PS4     Wii    X360\n",
       "year_of_release                                                               \n",
       "1985               0.02    NaN     NaN     NaN     NaN     NaN     NaN     NaN\n",
       "1994                NaN    NaN    6.03     NaN     NaN     NaN     NaN     NaN\n",
       "1995                NaN    NaN   35.96     NaN     NaN     NaN     NaN     NaN\n",
       "1996                NaN    NaN   94.70     NaN     NaN     NaN     NaN     NaN\n",
       "1997                NaN    NaN  136.17     NaN     NaN     NaN     NaN     NaN\n",
       "1998                NaN    NaN  169.49     NaN     NaN     NaN     NaN     NaN\n",
       "1999                NaN    NaN  144.53     NaN     NaN     NaN     NaN     NaN\n",
       "2000                NaN   0.07   96.37   39.17     NaN     NaN     NaN     NaN\n",
       "2001                NaN  61.53   35.59  166.43     NaN     NaN     NaN     NaN\n",
       "2002                NaN  74.16    6.67  205.38     NaN     NaN     NaN     NaN\n",
       "2003                NaN  56.67    2.07  184.31     NaN     NaN     NaN     NaN\n",
       "2004              17.27  77.91     NaN  211.81     NaN     NaN     NaN     NaN\n",
       "2005             130.14  33.86     NaN  160.66     NaN     NaN     NaN    8.25\n",
       "2006             119.81   5.28     NaN  103.42   20.96     NaN  137.15   51.62\n",
       "2007             146.94   3.40     NaN   75.99   73.19     NaN  152.77   95.41\n",
       "2008             145.31    NaN     NaN   53.90  118.52     NaN  171.32  135.26\n",
       "2009             119.54    NaN     NaN   26.40  130.93     NaN  206.97  120.29\n",
       "2010              85.02    NaN     NaN    5.64  142.17     NaN  127.95  170.03\n",
       "2011              26.18    NaN     NaN    0.45  156.78     NaN   59.65  143.84\n",
       "2012              11.01    NaN     NaN     NaN  107.35     NaN   21.71   99.74\n",
       "2013               1.54    NaN     NaN     NaN  113.25   25.99    8.59   88.58\n",
       "2014                NaN    NaN     NaN     NaN   47.76  100.00    3.75   34.74\n",
       "2015                NaN    NaN     NaN     NaN   16.82  118.90    1.14   11.96\n",
       "2016                NaN    NaN     NaN     NaN    3.60   69.25    0.18    1.52"
      ]
     },
     "execution_count": 42,
     "metadata": {},
     "output_type": "execute_result"
    }
   ],
   "source": [
    "sales_pivot = pd.pivot_table(platform_sales_by_year, index='year_of_release', columns='platform', values='total_sales', aggfunc='sum')\n",
    "sales_pivot"
   ]
  },
  {
   "cell_type": "markdown",
   "metadata": {},
   "source": [
    "According to the data above, [DS, GBA, PS, PS2] used to be popular but now have 0 sales in 2014-2016. And [Wii, X360] were very popular but now have low sales in 2016. Newer generation platforms like PS4 tend to have increasing sales."
   ]
  },
  {
   "cell_type": "code",
   "execution_count": 43,
   "metadata": {
    "trusted": false
   },
   "outputs": [
    {
     "data": {
      "text/plain": [
       "<Axes: title={'center': 'Platform Sales by Year'}, xlabel='year_of_release'>"
      ]
     },
     "execution_count": 43,
     "metadata": {},
     "output_type": "execute_result"
    },
    {
     "data": {
      "image/png": "[encoded data removed]",
      "text/plain": [
       "<Figure size 1000x800 with 1 Axes>"
      ]
     },
     "metadata": {},
     "output_type": "display_data"
    }
   ],
   "source": [
    "sales_pivot.plot(kind='bar', stacked=True, figsize=(10, 8), title='Platform Sales by Year')"
   ]
  },
  {
   "cell_type": "code",
   "execution_count": 44,
   "metadata": {
    "trusted": false
   },
   "outputs": [
    {
     "data": {
      "text/html": [
       "<div>\n",
       "<style scoped>\n",
       "    .dataframe tbody tr th:only-of-type {\n",
       "        vertical-align: middle;\n",
       "    }\n",
       "\n",
       "    .dataframe tbody tr th {\n",
       "        vertical-align: top;\n",
       "    }\n",
       "\n",
       "    .dataframe thead th {\n",
       "        text-align: right;\n",
       "    }\n",
       "</style>\n",
       "<table border=\"1\" class=\"dataframe\">\n",
       "  <thead>\n",
       "    <tr style=\"text-align: right;\">\n",
       "      <th></th>\n",
       "      <th>platform</th>\n",
       "      <th>duration_platform</th>\n",
       "    </tr>\n",
       "  </thead>\n",
       "  <tbody>\n",
       "    <tr>\n",
       "      <th>0</th>\n",
       "      <td>PC</td>\n",
       "      <td>26</td>\n",
       "    </tr>\n",
       "    <tr>\n",
       "      <th>1</th>\n",
       "      <td>GB</td>\n",
       "      <td>13</td>\n",
       "    </tr>\n",
       "    <tr>\n",
       "      <th>2</th>\n",
       "      <td>NES</td>\n",
       "      <td>12</td>\n",
       "    </tr>\n",
       "    <tr>\n",
       "      <th>3</th>\n",
       "      <td>X360</td>\n",
       "      <td>12</td>\n",
       "    </tr>\n",
       "    <tr>\n",
       "      <th>4</th>\n",
       "      <td>PSP</td>\n",
       "      <td>12</td>\n",
       "    </tr>\n",
       "    <tr>\n",
       "      <th>5</th>\n",
       "      <td>PS2</td>\n",
       "      <td>12</td>\n",
       "    </tr>\n",
       "    <tr>\n",
       "      <th>6</th>\n",
       "      <td>Wii</td>\n",
       "      <td>11</td>\n",
       "    </tr>\n",
       "    <tr>\n",
       "      <th>7</th>\n",
       "      <td>DS</td>\n",
       "      <td>11</td>\n",
       "    </tr>\n",
       "    <tr>\n",
       "      <th>8</th>\n",
       "      <td>PS3</td>\n",
       "      <td>11</td>\n",
       "    </tr>\n",
       "    <tr>\n",
       "      <th>9</th>\n",
       "      <td>2600</td>\n",
       "      <td>10</td>\n",
       "    </tr>\n",
       "    <tr>\n",
       "      <th>10</th>\n",
       "      <td>SNES</td>\n",
       "      <td>10</td>\n",
       "    </tr>\n",
       "    <tr>\n",
       "      <th>11</th>\n",
       "      <td>PS</td>\n",
       "      <td>10</td>\n",
       "    </tr>\n",
       "    <tr>\n",
       "      <th>12</th>\n",
       "      <td>XB</td>\n",
       "      <td>9</td>\n",
       "    </tr>\n",
       "    <tr>\n",
       "      <th>13</th>\n",
       "      <td>GBA</td>\n",
       "      <td>8</td>\n",
       "    </tr>\n",
       "    <tr>\n",
       "      <th>14</th>\n",
       "      <td>DC</td>\n",
       "      <td>7</td>\n",
       "    </tr>\n",
       "    <tr>\n",
       "      <th>15</th>\n",
       "      <td>GC</td>\n",
       "      <td>7</td>\n",
       "    </tr>\n",
       "    <tr>\n",
       "      <th>16</th>\n",
       "      <td>N64</td>\n",
       "      <td>7</td>\n",
       "    </tr>\n",
       "    <tr>\n",
       "      <th>17</th>\n",
       "      <td>SAT</td>\n",
       "      <td>6</td>\n",
       "    </tr>\n",
       "    <tr>\n",
       "      <th>18</th>\n",
       "      <td>3DS</td>\n",
       "      <td>6</td>\n",
       "    </tr>\n",
       "    <tr>\n",
       "      <th>19</th>\n",
       "      <td>PSV</td>\n",
       "      <td>6</td>\n",
       "    </tr>\n",
       "    <tr>\n",
       "      <th>20</th>\n",
       "      <td>WiiU</td>\n",
       "      <td>5</td>\n",
       "    </tr>\n",
       "    <tr>\n",
       "      <th>21</th>\n",
       "      <td>GEN</td>\n",
       "      <td>5</td>\n",
       "    </tr>\n",
       "    <tr>\n",
       "      <th>22</th>\n",
       "      <td>NG</td>\n",
       "      <td>4</td>\n",
       "    </tr>\n",
       "    <tr>\n",
       "      <th>23</th>\n",
       "      <td>PS4</td>\n",
       "      <td>4</td>\n",
       "    </tr>\n",
       "    <tr>\n",
       "      <th>24</th>\n",
       "      <td>XOne</td>\n",
       "      <td>4</td>\n",
       "    </tr>\n",
       "    <tr>\n",
       "      <th>25</th>\n",
       "      <td>WS</td>\n",
       "      <td>3</td>\n",
       "    </tr>\n",
       "    <tr>\n",
       "      <th>26</th>\n",
       "      <td>SCD</td>\n",
       "      <td>2</td>\n",
       "    </tr>\n",
       "    <tr>\n",
       "      <th>27</th>\n",
       "      <td>3DO</td>\n",
       "      <td>2</td>\n",
       "    </tr>\n",
       "    <tr>\n",
       "      <th>28</th>\n",
       "      <td>TG16</td>\n",
       "      <td>1</td>\n",
       "    </tr>\n",
       "    <tr>\n",
       "      <th>29</th>\n",
       "      <td>GG</td>\n",
       "      <td>1</td>\n",
       "    </tr>\n",
       "    <tr>\n",
       "      <th>30</th>\n",
       "      <td>PCFX</td>\n",
       "      <td>1</td>\n",
       "    </tr>\n",
       "  </tbody>\n",
       "</table>\n",
       "</div>"
      ],
      "text/plain": [
       "   platform  duration_platform\n",
       "0        PC                 26\n",
       "1        GB                 13\n",
       "2       NES                 12\n",
       "3      X360                 12\n",
       "4       PSP                 12\n",
       "5       PS2                 12\n",
       "6       Wii                 11\n",
       "7        DS                 11\n",
       "8       PS3                 11\n",
       "9      2600                 10\n",
       "10     SNES                 10\n",
       "11       PS                 10\n",
       "12       XB                  9\n",
       "13      GBA                  8\n",
       "14       DC                  7\n",
       "15       GC                  7\n",
       "16      N64                  7\n",
       "17      SAT                  6\n",
       "18      3DS                  6\n",
       "19      PSV                  6\n",
       "20     WiiU                  5\n",
       "21      GEN                  5\n",
       "22       NG                  4\n",
       "23      PS4                  4\n",
       "24     XOne                  4\n",
       "25       WS                  3\n",
       "26      SCD                  2\n",
       "27      3DO                  2\n",
       "28     TG16                  1\n",
       "29       GG                  1\n",
       "30     PCFX                  1"
      ]
     },
     "execution_count": 44,
     "metadata": {},
     "output_type": "execute_result"
    }
   ],
   "source": [
    "temp_df = df.groupby(['platform', 'year_of_release']).count().reset_index()\n",
    "duration_platforms = temp_df.groupby('platform')['year_of_release'].count().sort_values(ascending=False).reset_index()\n",
    "duration_platforms.columns = ['platform', 'duration_platform']\n",
    "duration_platforms"
   ]
  },
  {
   "cell_type": "code",
   "execution_count": 45,
   "metadata": {
    "trusted": false
   },
   "outputs": [
    {
     "data": {
      "text/plain": [
       "duration_platform    7.677419\n",
       "dtype: float64"
      ]
     },
     "execution_count": 45,
     "metadata": {},
     "output_type": "execute_result"
    }
   ],
   "source": [
    "duration_platforms[['duration_platform']].mean()"
   ]
  },
  {
   "cell_type": "markdown",
   "metadata": {},
   "source": [
    "According to the data, it generally takes about 7-8 years for a platform to fade and new ones to appear.\n"
   ]
  },
  {
   "cell_type": "markdown",
   "metadata": {},
   "source": [
    "## Now I am going to look at data based on 2004-2017, that is when we have a good amount of data (according to histogram above)."
   ]
  },
  {
   "cell_type": "code",
   "execution_count": 46,
   "metadata": {
    "trusted": false
   },
   "outputs": [],
   "source": [
    "relevant_data = df[(df['year_of_release'] >= 2012) & (df['year_of_release'] <= 2017)]"
   ]
  },
  {
   "cell_type": "code",
   "execution_count": 47,
   "metadata": {
    "trusted": false
   },
   "outputs": [
    {
     "data": {
      "text/html": [
       "<div>\n",
       "<style scoped>\n",
       "    .dataframe tbody tr th:only-of-type {\n",
       "        vertical-align: middle;\n",
       "    }\n",
       "\n",
       "    .dataframe tbody tr th {\n",
       "        vertical-align: top;\n",
       "    }\n",
       "\n",
       "    .dataframe thead th {\n",
       "        text-align: right;\n",
       "    }\n",
       "</style>\n",
       "<table border=\"1\" class=\"dataframe\">\n",
       "  <thead>\n",
       "    <tr style=\"text-align: right;\">\n",
       "      <th></th>\n",
       "      <th>name</th>\n",
       "      <th>platform</th>\n",
       "      <th>year_of_release</th>\n",
       "      <th>genre</th>\n",
       "      <th>na_sales</th>\n",
       "      <th>eu_sales</th>\n",
       "      <th>jp_sales</th>\n",
       "      <th>other_sales</th>\n",
       "      <th>critic_score</th>\n",
       "      <th>user_score</th>\n",
       "      <th>rating</th>\n",
       "      <th>total_sales</th>\n",
       "    </tr>\n",
       "  </thead>\n",
       "  <tbody>\n",
       "    <tr>\n",
       "      <th>16</th>\n",
       "      <td>Grand Theft Auto V</td>\n",
       "      <td>PS3</td>\n",
       "      <td>2013</td>\n",
       "      <td>Action</td>\n",
       "      <td>7.02</td>\n",
       "      <td>9.09</td>\n",
       "      <td>0.98</td>\n",
       "      <td>3.96</td>\n",
       "      <td>97.0</td>\n",
       "      <td>8.2</td>\n",
       "      <td>M</td>\n",
       "      <td>21.05</td>\n",
       "    </tr>\n",
       "    <tr>\n",
       "      <th>23</th>\n",
       "      <td>Grand Theft Auto V</td>\n",
       "      <td>X360</td>\n",
       "      <td>2013</td>\n",
       "      <td>Action</td>\n",
       "      <td>9.66</td>\n",
       "      <td>5.14</td>\n",
       "      <td>0.06</td>\n",
       "      <td>1.41</td>\n",
       "      <td>97.0</td>\n",
       "      <td>8.1</td>\n",
       "      <td>M</td>\n",
       "      <td>16.27</td>\n",
       "    </tr>\n",
       "    <tr>\n",
       "      <th>31</th>\n",
       "      <td>Call of Duty: Black Ops 3</td>\n",
       "      <td>PS4</td>\n",
       "      <td>2015</td>\n",
       "      <td>Shooter</td>\n",
       "      <td>6.03</td>\n",
       "      <td>5.86</td>\n",
       "      <td>0.36</td>\n",
       "      <td>2.38</td>\n",
       "      <td>NaN</td>\n",
       "      <td>NaN</td>\n",
       "      <td>NaN</td>\n",
       "      <td>14.63</td>\n",
       "    </tr>\n",
       "    <tr>\n",
       "      <th>33</th>\n",
       "      <td>Pokemon X/Pokemon Y</td>\n",
       "      <td>3DS</td>\n",
       "      <td>2013</td>\n",
       "      <td>Role-Playing</td>\n",
       "      <td>5.28</td>\n",
       "      <td>4.19</td>\n",
       "      <td>4.35</td>\n",
       "      <td>0.78</td>\n",
       "      <td>NaN</td>\n",
       "      <td>NaN</td>\n",
       "      <td>NaN</td>\n",
       "      <td>14.60</td>\n",
       "    </tr>\n",
       "    <tr>\n",
       "      <th>34</th>\n",
       "      <td>Call of Duty: Black Ops II</td>\n",
       "      <td>PS3</td>\n",
       "      <td>2012</td>\n",
       "      <td>Shooter</td>\n",
       "      <td>4.99</td>\n",
       "      <td>5.73</td>\n",
       "      <td>0.65</td>\n",
       "      <td>2.42</td>\n",
       "      <td>83.0</td>\n",
       "      <td>5.3</td>\n",
       "      <td>M</td>\n",
       "      <td>13.79</td>\n",
       "    </tr>\n",
       "    <tr>\n",
       "      <th>...</th>\n",
       "      <td>...</td>\n",
       "      <td>...</td>\n",
       "      <td>...</td>\n",
       "      <td>...</td>\n",
       "      <td>...</td>\n",
       "      <td>...</td>\n",
       "      <td>...</td>\n",
       "      <td>...</td>\n",
       "      <td>...</td>\n",
       "      <td>...</td>\n",
       "      <td>...</td>\n",
       "      <td>...</td>\n",
       "    </tr>\n",
       "    <tr>\n",
       "      <th>16701</th>\n",
       "      <td>Strawberry Nauts</td>\n",
       "      <td>PSV</td>\n",
       "      <td>2016</td>\n",
       "      <td>Adventure</td>\n",
       "      <td>0.00</td>\n",
       "      <td>0.00</td>\n",
       "      <td>0.01</td>\n",
       "      <td>0.00</td>\n",
       "      <td>NaN</td>\n",
       "      <td>NaN</td>\n",
       "      <td>NaN</td>\n",
       "      <td>0.01</td>\n",
       "    </tr>\n",
       "    <tr>\n",
       "      <th>16705</th>\n",
       "      <td>Aiyoku no Eustia</td>\n",
       "      <td>PSV</td>\n",
       "      <td>2014</td>\n",
       "      <td>Misc</td>\n",
       "      <td>0.00</td>\n",
       "      <td>0.00</td>\n",
       "      <td>0.01</td>\n",
       "      <td>0.00</td>\n",
       "      <td>NaN</td>\n",
       "      <td>NaN</td>\n",
       "      <td>NaN</td>\n",
       "      <td>0.01</td>\n",
       "    </tr>\n",
       "    <tr>\n",
       "      <th>16708</th>\n",
       "      <td>Samurai Warriors: Sanada Maru</td>\n",
       "      <td>PS3</td>\n",
       "      <td>2016</td>\n",
       "      <td>Action</td>\n",
       "      <td>0.00</td>\n",
       "      <td>0.00</td>\n",
       "      <td>0.01</td>\n",
       "      <td>0.00</td>\n",
       "      <td>NaN</td>\n",
       "      <td>NaN</td>\n",
       "      <td>NaN</td>\n",
       "      <td>0.01</td>\n",
       "    </tr>\n",
       "    <tr>\n",
       "      <th>16710</th>\n",
       "      <td>Haitaka no Psychedelica</td>\n",
       "      <td>PSV</td>\n",
       "      <td>2016</td>\n",
       "      <td>Adventure</td>\n",
       "      <td>0.00</td>\n",
       "      <td>0.00</td>\n",
       "      <td>0.01</td>\n",
       "      <td>0.00</td>\n",
       "      <td>NaN</td>\n",
       "      <td>NaN</td>\n",
       "      <td>NaN</td>\n",
       "      <td>0.01</td>\n",
       "    </tr>\n",
       "    <tr>\n",
       "      <th>16712</th>\n",
       "      <td>Winning Post 8 2016</td>\n",
       "      <td>PSV</td>\n",
       "      <td>2016</td>\n",
       "      <td>Simulation</td>\n",
       "      <td>0.00</td>\n",
       "      <td>0.00</td>\n",
       "      <td>0.01</td>\n",
       "      <td>0.00</td>\n",
       "      <td>NaN</td>\n",
       "      <td>NaN</td>\n",
       "      <td>NaN</td>\n",
       "      <td>0.01</td>\n",
       "    </tr>\n",
       "  </tbody>\n",
       "</table>\n",
       "<p>2885 rows × 12 columns</p>\n",
       "</div>"
      ],
      "text/plain": [
       "                                name platform  year_of_release         genre  \\\n",
       "16                Grand Theft Auto V      PS3             2013        Action   \n",
       "23                Grand Theft Auto V     X360             2013        Action   \n",
       "31         Call of Duty: Black Ops 3      PS4             2015       Shooter   \n",
       "33               Pokemon X/Pokemon Y      3DS             2013  Role-Playing   \n",
       "34        Call of Duty: Black Ops II      PS3             2012       Shooter   \n",
       "...                              ...      ...              ...           ...   \n",
       "16701               Strawberry Nauts      PSV             2016     Adventure   \n",
       "16705               Aiyoku no Eustia      PSV             2014          Misc   \n",
       "16708  Samurai Warriors: Sanada Maru      PS3             2016        Action   \n",
       "16710        Haitaka no Psychedelica      PSV             2016     Adventure   \n",
       "16712            Winning Post 8 2016      PSV             2016    Simulation   \n",
       "\n",
       "       na_sales  eu_sales  jp_sales  other_sales  critic_score  user_score  \\\n",
       "16         7.02      9.09      0.98         3.96          97.0         8.2   \n",
       "23         9.66      5.14      0.06         1.41          97.0         8.1   \n",
       "31         6.03      5.86      0.36         2.38           NaN         NaN   \n",
       "33         5.28      4.19      4.35         0.78           NaN         NaN   \n",
       "34         4.99      5.73      0.65         2.42          83.0         5.3   \n",
       "...         ...       ...       ...          ...           ...         ...   \n",
       "16701      0.00      0.00      0.01         0.00           NaN         NaN   \n",
       "16705      0.00      0.00      0.01         0.00           NaN         NaN   \n",
       "16708      0.00      0.00      0.01         0.00           NaN         NaN   \n",
       "16710      0.00      0.00      0.01         0.00           NaN         NaN   \n",
       "16712      0.00      0.00      0.01         0.00           NaN         NaN   \n",
       "\n",
       "      rating  total_sales  \n",
       "16         M        21.05  \n",
       "23         M        16.27  \n",
       "31       NaN        14.63  \n",
       "33       NaN        14.60  \n",
       "34         M        13.79  \n",
       "...      ...          ...  \n",
       "16701    NaN         0.01  \n",
       "16705    NaN         0.01  \n",
       "16708    NaN         0.01  \n",
       "16710    NaN         0.01  \n",
       "16712    NaN         0.01  \n",
       "\n",
       "[2885 rows x 12 columns]"
      ]
     },
     "execution_count": 47,
     "metadata": {},
     "output_type": "execute_result"
    }
   ],
   "source": [
    "relevant_data"
   ]
  },
  {
   "cell_type": "code",
   "execution_count": 48,
   "metadata": {
    "trusted": false
   },
   "outputs": [
    {
     "data": {
      "text/plain": [
       "platform\n",
       "PS4     314.14\n",
       "PS3     288.78\n",
       "X360    236.54\n",
       "3DS     194.61\n",
       "XOne    159.32\n",
       "WiiU     82.19\n",
       "PC       62.65\n",
       "PSV      49.18\n",
       "Wii      35.37\n",
       "DS       12.55\n",
       "PSP      11.19\n",
       "Name: total_sales, dtype: float64"
      ]
     },
     "execution_count": 48,
     "metadata": {},
     "output_type": "execute_result"
    }
   ],
   "source": [
    "relevant_data.groupby('platform')['total_sales'].sum().sort_values(ascending=False)"
   ]
  },
  {
   "cell_type": "code",
   "execution_count": 49,
   "metadata": {
    "trusted": false
   },
   "outputs": [
    {
     "data": {
      "text/html": [
       "<div>\n",
       "<style scoped>\n",
       "    .dataframe tbody tr th:only-of-type {\n",
       "        vertical-align: middle;\n",
       "    }\n",
       "\n",
       "    .dataframe tbody tr th {\n",
       "        vertical-align: top;\n",
       "    }\n",
       "\n",
       "    .dataframe thead th {\n",
       "        text-align: right;\n",
       "    }\n",
       "</style>\n",
       "<table border=\"1\" class=\"dataframe\">\n",
       "  <thead>\n",
       "    <tr style=\"text-align: right;\">\n",
       "      <th></th>\n",
       "      <th>platform</th>\n",
       "      <th>year_of_release</th>\n",
       "      <th>total_sales</th>\n",
       "    </tr>\n",
       "  </thead>\n",
       "  <tbody>\n",
       "    <tr>\n",
       "      <th>0</th>\n",
       "      <td>XOne</td>\n",
       "      <td>2016</td>\n",
       "      <td>26.15</td>\n",
       "    </tr>\n",
       "    <tr>\n",
       "      <th>1</th>\n",
       "      <td>XOne</td>\n",
       "      <td>2015</td>\n",
       "      <td>60.14</td>\n",
       "    </tr>\n",
       "    <tr>\n",
       "      <th>2</th>\n",
       "      <td>XOne</td>\n",
       "      <td>2014</td>\n",
       "      <td>54.07</td>\n",
       "    </tr>\n",
       "    <tr>\n",
       "      <th>3</th>\n",
       "      <td>XOne</td>\n",
       "      <td>2013</td>\n",
       "      <td>18.96</td>\n",
       "    </tr>\n",
       "    <tr>\n",
       "      <th>4</th>\n",
       "      <td>X360</td>\n",
       "      <td>2016</td>\n",
       "      <td>1.52</td>\n",
       "    </tr>\n",
       "    <tr>\n",
       "      <th>5</th>\n",
       "      <td>X360</td>\n",
       "      <td>2015</td>\n",
       "      <td>11.96</td>\n",
       "    </tr>\n",
       "    <tr>\n",
       "      <th>6</th>\n",
       "      <td>X360</td>\n",
       "      <td>2014</td>\n",
       "      <td>34.74</td>\n",
       "    </tr>\n",
       "    <tr>\n",
       "      <th>7</th>\n",
       "      <td>X360</td>\n",
       "      <td>2013</td>\n",
       "      <td>88.58</td>\n",
       "    </tr>\n",
       "    <tr>\n",
       "      <th>8</th>\n",
       "      <td>X360</td>\n",
       "      <td>2012</td>\n",
       "      <td>99.74</td>\n",
       "    </tr>\n",
       "    <tr>\n",
       "      <th>9</th>\n",
       "      <td>WiiU</td>\n",
       "      <td>2016</td>\n",
       "      <td>4.60</td>\n",
       "    </tr>\n",
       "    <tr>\n",
       "      <th>10</th>\n",
       "      <td>WiiU</td>\n",
       "      <td>2015</td>\n",
       "      <td>16.35</td>\n",
       "    </tr>\n",
       "    <tr>\n",
       "      <th>11</th>\n",
       "      <td>WiiU</td>\n",
       "      <td>2014</td>\n",
       "      <td>22.03</td>\n",
       "    </tr>\n",
       "    <tr>\n",
       "      <th>12</th>\n",
       "      <td>WiiU</td>\n",
       "      <td>2013</td>\n",
       "      <td>21.65</td>\n",
       "    </tr>\n",
       "    <tr>\n",
       "      <th>13</th>\n",
       "      <td>WiiU</td>\n",
       "      <td>2012</td>\n",
       "      <td>17.56</td>\n",
       "    </tr>\n",
       "    <tr>\n",
       "      <th>14</th>\n",
       "      <td>Wii</td>\n",
       "      <td>2016</td>\n",
       "      <td>0.18</td>\n",
       "    </tr>\n",
       "    <tr>\n",
       "      <th>15</th>\n",
       "      <td>Wii</td>\n",
       "      <td>2015</td>\n",
       "      <td>1.14</td>\n",
       "    </tr>\n",
       "    <tr>\n",
       "      <th>16</th>\n",
       "      <td>Wii</td>\n",
       "      <td>2014</td>\n",
       "      <td>3.75</td>\n",
       "    </tr>\n",
       "    <tr>\n",
       "      <th>17</th>\n",
       "      <td>Wii</td>\n",
       "      <td>2013</td>\n",
       "      <td>8.59</td>\n",
       "    </tr>\n",
       "    <tr>\n",
       "      <th>18</th>\n",
       "      <td>Wii</td>\n",
       "      <td>2012</td>\n",
       "      <td>21.71</td>\n",
       "    </tr>\n",
       "    <tr>\n",
       "      <th>19</th>\n",
       "      <td>PSV</td>\n",
       "      <td>2016</td>\n",
       "      <td>4.25</td>\n",
       "    </tr>\n",
       "    <tr>\n",
       "      <th>20</th>\n",
       "      <td>PSV</td>\n",
       "      <td>2015</td>\n",
       "      <td>6.25</td>\n",
       "    </tr>\n",
       "    <tr>\n",
       "      <th>21</th>\n",
       "      <td>PSV</td>\n",
       "      <td>2014</td>\n",
       "      <td>11.90</td>\n",
       "    </tr>\n",
       "    <tr>\n",
       "      <th>22</th>\n",
       "      <td>PSV</td>\n",
       "      <td>2013</td>\n",
       "      <td>10.59</td>\n",
       "    </tr>\n",
       "    <tr>\n",
       "      <th>23</th>\n",
       "      <td>PSV</td>\n",
       "      <td>2012</td>\n",
       "      <td>16.19</td>\n",
       "    </tr>\n",
       "    <tr>\n",
       "      <th>24</th>\n",
       "      <td>PSP</td>\n",
       "      <td>2015</td>\n",
       "      <td>0.12</td>\n",
       "    </tr>\n",
       "    <tr>\n",
       "      <th>25</th>\n",
       "      <td>PSP</td>\n",
       "      <td>2014</td>\n",
       "      <td>0.24</td>\n",
       "    </tr>\n",
       "    <tr>\n",
       "      <th>26</th>\n",
       "      <td>PSP</td>\n",
       "      <td>2013</td>\n",
       "      <td>3.14</td>\n",
       "    </tr>\n",
       "    <tr>\n",
       "      <th>27</th>\n",
       "      <td>PSP</td>\n",
       "      <td>2012</td>\n",
       "      <td>7.69</td>\n",
       "    </tr>\n",
       "    <tr>\n",
       "      <th>28</th>\n",
       "      <td>PS4</td>\n",
       "      <td>2016</td>\n",
       "      <td>69.25</td>\n",
       "    </tr>\n",
       "    <tr>\n",
       "      <th>29</th>\n",
       "      <td>PS4</td>\n",
       "      <td>2015</td>\n",
       "      <td>118.90</td>\n",
       "    </tr>\n",
       "    <tr>\n",
       "      <th>30</th>\n",
       "      <td>PS4</td>\n",
       "      <td>2014</td>\n",
       "      <td>100.00</td>\n",
       "    </tr>\n",
       "    <tr>\n",
       "      <th>31</th>\n",
       "      <td>PS4</td>\n",
       "      <td>2013</td>\n",
       "      <td>25.99</td>\n",
       "    </tr>\n",
       "    <tr>\n",
       "      <th>32</th>\n",
       "      <td>PS3</td>\n",
       "      <td>2016</td>\n",
       "      <td>3.60</td>\n",
       "    </tr>\n",
       "    <tr>\n",
       "      <th>33</th>\n",
       "      <td>PS3</td>\n",
       "      <td>2015</td>\n",
       "      <td>16.82</td>\n",
       "    </tr>\n",
       "    <tr>\n",
       "      <th>34</th>\n",
       "      <td>PS3</td>\n",
       "      <td>2014</td>\n",
       "      <td>47.76</td>\n",
       "    </tr>\n",
       "    <tr>\n",
       "      <th>35</th>\n",
       "      <td>PS3</td>\n",
       "      <td>2013</td>\n",
       "      <td>113.25</td>\n",
       "    </tr>\n",
       "    <tr>\n",
       "      <th>36</th>\n",
       "      <td>PS3</td>\n",
       "      <td>2012</td>\n",
       "      <td>107.35</td>\n",
       "    </tr>\n",
       "    <tr>\n",
       "      <th>37</th>\n",
       "      <td>PC</td>\n",
       "      <td>2016</td>\n",
       "      <td>5.25</td>\n",
       "    </tr>\n",
       "    <tr>\n",
       "      <th>38</th>\n",
       "      <td>PC</td>\n",
       "      <td>2015</td>\n",
       "      <td>8.52</td>\n",
       "    </tr>\n",
       "    <tr>\n",
       "      <th>39</th>\n",
       "      <td>PC</td>\n",
       "      <td>2014</td>\n",
       "      <td>13.28</td>\n",
       "    </tr>\n",
       "    <tr>\n",
       "      <th>40</th>\n",
       "      <td>PC</td>\n",
       "      <td>2013</td>\n",
       "      <td>12.38</td>\n",
       "    </tr>\n",
       "    <tr>\n",
       "      <th>41</th>\n",
       "      <td>PC</td>\n",
       "      <td>2012</td>\n",
       "      <td>23.22</td>\n",
       "    </tr>\n",
       "    <tr>\n",
       "      <th>42</th>\n",
       "      <td>DS</td>\n",
       "      <td>2013</td>\n",
       "      <td>1.54</td>\n",
       "    </tr>\n",
       "    <tr>\n",
       "      <th>43</th>\n",
       "      <td>DS</td>\n",
       "      <td>2012</td>\n",
       "      <td>11.01</td>\n",
       "    </tr>\n",
       "    <tr>\n",
       "      <th>44</th>\n",
       "      <td>3DS</td>\n",
       "      <td>2016</td>\n",
       "      <td>15.14</td>\n",
       "    </tr>\n",
       "    <tr>\n",
       "      <th>45</th>\n",
       "      <td>3DS</td>\n",
       "      <td>2015</td>\n",
       "      <td>27.78</td>\n",
       "    </tr>\n",
       "    <tr>\n",
       "      <th>46</th>\n",
       "      <td>3DS</td>\n",
       "      <td>2014</td>\n",
       "      <td>43.76</td>\n",
       "    </tr>\n",
       "    <tr>\n",
       "      <th>47</th>\n",
       "      <td>3DS</td>\n",
       "      <td>2013</td>\n",
       "      <td>56.57</td>\n",
       "    </tr>\n",
       "    <tr>\n",
       "      <th>48</th>\n",
       "      <td>3DS</td>\n",
       "      <td>2012</td>\n",
       "      <td>51.36</td>\n",
       "    </tr>\n",
       "  </tbody>\n",
       "</table>\n",
       "</div>"
      ],
      "text/plain": [
       "   platform  year_of_release  total_sales\n",
       "0      XOne             2016        26.15\n",
       "1      XOne             2015        60.14\n",
       "2      XOne             2014        54.07\n",
       "3      XOne             2013        18.96\n",
       "4      X360             2016         1.52\n",
       "5      X360             2015        11.96\n",
       "6      X360             2014        34.74\n",
       "7      X360             2013        88.58\n",
       "8      X360             2012        99.74\n",
       "9      WiiU             2016         4.60\n",
       "10     WiiU             2015        16.35\n",
       "11     WiiU             2014        22.03\n",
       "12     WiiU             2013        21.65\n",
       "13     WiiU             2012        17.56\n",
       "14      Wii             2016         0.18\n",
       "15      Wii             2015         1.14\n",
       "16      Wii             2014         3.75\n",
       "17      Wii             2013         8.59\n",
       "18      Wii             2012        21.71\n",
       "19      PSV             2016         4.25\n",
       "20      PSV             2015         6.25\n",
       "21      PSV             2014        11.90\n",
       "22      PSV             2013        10.59\n",
       "23      PSV             2012        16.19\n",
       "24      PSP             2015         0.12\n",
       "25      PSP             2014         0.24\n",
       "26      PSP             2013         3.14\n",
       "27      PSP             2012         7.69\n",
       "28      PS4             2016        69.25\n",
       "29      PS4             2015       118.90\n",
       "30      PS4             2014       100.00\n",
       "31      PS4             2013        25.99\n",
       "32      PS3             2016         3.60\n",
       "33      PS3             2015        16.82\n",
       "34      PS3             2014        47.76\n",
       "35      PS3             2013       113.25\n",
       "36      PS3             2012       107.35\n",
       "37       PC             2016         5.25\n",
       "38       PC             2015         8.52\n",
       "39       PC             2014        13.28\n",
       "40       PC             2013        12.38\n",
       "41       PC             2012        23.22\n",
       "42       DS             2013         1.54\n",
       "43       DS             2012        11.01\n",
       "44      3DS             2016        15.14\n",
       "45      3DS             2015        27.78\n",
       "46      3DS             2014        43.76\n",
       "47      3DS             2013        56.57\n",
       "48      3DS             2012        51.36"
      ]
     },
     "execution_count": 49,
     "metadata": {},
     "output_type": "execute_result"
    }
   ],
   "source": [
    "relevant_sales_by_year = relevant_data.groupby(['platform', 'year_of_release'])['total_sales'].sum().sort_index(ascending=False).reset_index()\n",
    "relevant_sales_by_year"
   ]
  },
  {
   "cell_type": "code",
   "execution_count": 50,
   "metadata": {
    "trusted": false
   },
   "outputs": [
    {
     "data": {
      "text/html": [
       "<div>\n",
       "<style scoped>\n",
       "    .dataframe tbody tr th:only-of-type {\n",
       "        vertical-align: middle;\n",
       "    }\n",
       "\n",
       "    .dataframe tbody tr th {\n",
       "        vertical-align: top;\n",
       "    }\n",
       "\n",
       "    .dataframe thead tr th {\n",
       "        text-align: left;\n",
       "    }\n",
       "\n",
       "    .dataframe thead tr:last-of-type th {\n",
       "        text-align: right;\n",
       "    }\n",
       "</style>\n",
       "<table border=\"1\" class=\"dataframe\">\n",
       "  <thead>\n",
       "    <tr>\n",
       "      <th></th>\n",
       "      <th colspan=\"11\" halign=\"left\">total_sales</th>\n",
       "    </tr>\n",
       "    <tr>\n",
       "      <th>platform</th>\n",
       "      <th>3DS</th>\n",
       "      <th>DS</th>\n",
       "      <th>PC</th>\n",
       "      <th>PS3</th>\n",
       "      <th>PS4</th>\n",
       "      <th>PSP</th>\n",
       "      <th>PSV</th>\n",
       "      <th>Wii</th>\n",
       "      <th>WiiU</th>\n",
       "      <th>X360</th>\n",
       "      <th>XOne</th>\n",
       "    </tr>\n",
       "    <tr>\n",
       "      <th>year_of_release</th>\n",
       "      <th></th>\n",
       "      <th></th>\n",
       "      <th></th>\n",
       "      <th></th>\n",
       "      <th></th>\n",
       "      <th></th>\n",
       "      <th></th>\n",
       "      <th></th>\n",
       "      <th></th>\n",
       "      <th></th>\n",
       "      <th></th>\n",
       "    </tr>\n",
       "  </thead>\n",
       "  <tbody>\n",
       "    <tr>\n",
       "      <th>2012</th>\n",
       "      <td>51.36</td>\n",
       "      <td>11.01</td>\n",
       "      <td>23.22</td>\n",
       "      <td>107.35</td>\n",
       "      <td>NaN</td>\n",
       "      <td>7.69</td>\n",
       "      <td>16.19</td>\n",
       "      <td>21.71</td>\n",
       "      <td>17.56</td>\n",
       "      <td>99.74</td>\n",
       "      <td>NaN</td>\n",
       "    </tr>\n",
       "    <tr>\n",
       "      <th>2013</th>\n",
       "      <td>56.57</td>\n",
       "      <td>1.54</td>\n",
       "      <td>12.38</td>\n",
       "      <td>113.25</td>\n",
       "      <td>25.99</td>\n",
       "      <td>3.14</td>\n",
       "      <td>10.59</td>\n",
       "      <td>8.59</td>\n",
       "      <td>21.65</td>\n",
       "      <td>88.58</td>\n",
       "      <td>18.96</td>\n",
       "    </tr>\n",
       "    <tr>\n",
       "      <th>2014</th>\n",
       "      <td>43.76</td>\n",
       "      <td>NaN</td>\n",
       "      <td>13.28</td>\n",
       "      <td>47.76</td>\n",
       "      <td>100.00</td>\n",
       "      <td>0.24</td>\n",
       "      <td>11.90</td>\n",
       "      <td>3.75</td>\n",
       "      <td>22.03</td>\n",
       "      <td>34.74</td>\n",
       "      <td>54.07</td>\n",
       "    </tr>\n",
       "    <tr>\n",
       "      <th>2015</th>\n",
       "      <td>27.78</td>\n",
       "      <td>NaN</td>\n",
       "      <td>8.52</td>\n",
       "      <td>16.82</td>\n",
       "      <td>118.90</td>\n",
       "      <td>0.12</td>\n",
       "      <td>6.25</td>\n",
       "      <td>1.14</td>\n",
       "      <td>16.35</td>\n",
       "      <td>11.96</td>\n",
       "      <td>60.14</td>\n",
       "    </tr>\n",
       "    <tr>\n",
       "      <th>2016</th>\n",
       "      <td>15.14</td>\n",
       "      <td>NaN</td>\n",
       "      <td>5.25</td>\n",
       "      <td>3.60</td>\n",
       "      <td>69.25</td>\n",
       "      <td>NaN</td>\n",
       "      <td>4.25</td>\n",
       "      <td>0.18</td>\n",
       "      <td>4.60</td>\n",
       "      <td>1.52</td>\n",
       "      <td>26.15</td>\n",
       "    </tr>\n",
       "  </tbody>\n",
       "</table>\n",
       "</div>"
      ],
      "text/plain": [
       "                total_sales                                                    \\\n",
       "platform                3DS     DS     PC     PS3     PS4   PSP    PSV    Wii   \n",
       "year_of_release                                                                 \n",
       "2012                  51.36  11.01  23.22  107.35     NaN  7.69  16.19  21.71   \n",
       "2013                  56.57   1.54  12.38  113.25   25.99  3.14  10.59   8.59   \n",
       "2014                  43.76    NaN  13.28   47.76  100.00  0.24  11.90   3.75   \n",
       "2015                  27.78    NaN   8.52   16.82  118.90  0.12   6.25   1.14   \n",
       "2016                  15.14    NaN   5.25    3.60   69.25   NaN   4.25   0.18   \n",
       "\n",
       "                                      \n",
       "platform          WiiU   X360   XOne  \n",
       "year_of_release                       \n",
       "2012             17.56  99.74    NaN  \n",
       "2013             21.65  88.58  18.96  \n",
       "2014             22.03  34.74  54.07  \n",
       "2015             16.35  11.96  60.14  \n",
       "2016              4.60   1.52  26.15  "
      ]
     },
     "execution_count": 50,
     "metadata": {},
     "output_type": "execute_result"
    }
   ],
   "source": [
    "relevant_pivot = pd.pivot_table(relevant_sales_by_year, index='year_of_release', columns='platform', aggfunc='sum')\n",
    "relevant_pivot"
   ]
  },
  {
   "cell_type": "markdown",
   "metadata": {},
   "source": [
    "Out of the top 5: Xbox 360, PS3, Wii, DS, and PS2, none of these have sales that are increasing. They are all either non-existent for the past few years in sales OR shrinking. The platforms that are growing in sales are: PS4 and XOne."
   ]
  },
  {
   "cell_type": "markdown",
   "metadata": {},
   "source": [
    "New generation gaming systems seem to be what's growing in sales. Developers should be put to work on building new games for these systems until a newer generation platform appears. However, I see in the data that PC sales are fairly steady and have been since coming out. Safe to say that although it's a smaller population PC gamers aren't going anywhere."
   ]
  },
  {
   "cell_type": "code",
   "execution_count": 51,
   "metadata": {
    "trusted": false
   },
   "outputs": [
    {
     "data": {
      "image/png": "[encoded data removed]",
      "text/plain": [
       "<Figure size 1500x600 with 1 Axes>"
      ]
     },
     "metadata": {},
     "output_type": "display_data"
    }
   ],
   "source": [
    "ax = relevant_data.boxplot(column='total_sales', by='platform', figsize=(15,6))\n",
    "ax.set_ylim(0, 2)\n",
    "\n",
    "plt.show()"
   ]
  },
  {
   "cell_type": "code",
   "execution_count": 52,
   "metadata": {
    "trusted": false
   },
   "outputs": [
    {
     "data": {
      "text/plain": [
       "platform\n",
       "X360    0.810068\n",
       "PS4     0.801378\n",
       "Wii     0.655000\n",
       "XOne    0.645020\n",
       "PS3     0.586951\n",
       "WiiU    0.559116\n",
       "3DS     0.491439\n",
       "DS      0.404839\n",
       "PC      0.250600\n",
       "PSV     0.119659\n",
       "PSP     0.064682\n",
       "Name: total_sales, dtype: float64"
      ]
     },
     "execution_count": 52,
     "metadata": {},
     "output_type": "execute_result"
    }
   ],
   "source": [
    "avg_sales_by_platform = relevant_data.groupby('platform')['total_sales'].mean().sort_values(ascending=False)\n",
    "avg_sales_by_platform"
   ]
  },
  {
   "cell_type": "markdown",
   "metadata": {},
   "source": [
    "This is telling me that the median for game sales is just around 0.25 million across all platforms. Some fall under, some are over and some right at. There are also platforms with outliers but there tend to be way more outliers on the older platforms or not so popular platforms.\n"
   ]
  },
  {
   "cell_type": "markdown",
   "metadata": {},
   "source": [
    "<div class=\"alert alert-success\" style=\"border-radius: 15px; box-shadow: 4px 4px 4px; border: 1px solid \">\n",
    "<h2> Reviewer's comment 3</h2>\n",
    "    \n",
    "Very good.     \n",
    "    \n",
    "</div>"
   ]
  },
  {
   "cell_type": "code",
   "execution_count": 53,
   "metadata": {
    "trusted": false
   },
   "outputs": [
    {
     "data": {
      "text/plain": [
       "<Axes: title={'center': 'Platform Sales by Year'}, xlabel='year_of_release'>"
      ]
     },
     "execution_count": 53,
     "metadata": {},
     "output_type": "execute_result"
    },
    {
     "data": {
      "image/png": "[encoded data removed]",
      "text/plain": [
       "<Figure size 1500x1000 with 1 Axes>"
      ]
     },
     "metadata": {},
     "output_type": "display_data"
    }
   ],
   "source": [
    "relevant_pivot.plot(kind='bar', stacked=True, figsize=(15,10), title='Platform Sales by Year', legend=True)"
   ]
  },
  {
   "cell_type": "markdown",
   "metadata": {},
   "source": [
    "## I'm going to use the PS3 platform to describe the correlation between user and professional reviews and how they affect sales."
   ]
  },
  {
   "cell_type": "code",
   "execution_count": 54,
   "metadata": {
    "trusted": false
   },
   "outputs": [
    {
     "data": {
      "text/html": [
       "<div>\n",
       "<style scoped>\n",
       "    .dataframe tbody tr th:only-of-type {\n",
       "        vertical-align: middle;\n",
       "    }\n",
       "\n",
       "    .dataframe tbody tr th {\n",
       "        vertical-align: top;\n",
       "    }\n",
       "\n",
       "    .dataframe thead th {\n",
       "        text-align: right;\n",
       "    }\n",
       "</style>\n",
       "<table border=\"1\" class=\"dataframe\">\n",
       "  <thead>\n",
       "    <tr style=\"text-align: right;\">\n",
       "      <th></th>\n",
       "      <th>name</th>\n",
       "      <th>platform</th>\n",
       "      <th>year_of_release</th>\n",
       "      <th>genre</th>\n",
       "      <th>na_sales</th>\n",
       "      <th>eu_sales</th>\n",
       "      <th>jp_sales</th>\n",
       "      <th>other_sales</th>\n",
       "      <th>critic_score</th>\n",
       "      <th>user_score</th>\n",
       "      <th>rating</th>\n",
       "      <th>total_sales</th>\n",
       "    </tr>\n",
       "  </thead>\n",
       "  <tbody>\n",
       "    <tr>\n",
       "      <th>16</th>\n",
       "      <td>Grand Theft Auto V</td>\n",
       "      <td>PS3</td>\n",
       "      <td>2013</td>\n",
       "      <td>Action</td>\n",
       "      <td>7.02</td>\n",
       "      <td>9.09</td>\n",
       "      <td>0.98</td>\n",
       "      <td>3.96</td>\n",
       "      <td>97.0</td>\n",
       "      <td>8.2</td>\n",
       "      <td>M</td>\n",
       "      <td>21.05</td>\n",
       "    </tr>\n",
       "    <tr>\n",
       "      <th>34</th>\n",
       "      <td>Call of Duty: Black Ops II</td>\n",
       "      <td>PS3</td>\n",
       "      <td>2012</td>\n",
       "      <td>Shooter</td>\n",
       "      <td>4.99</td>\n",
       "      <td>5.73</td>\n",
       "      <td>0.65</td>\n",
       "      <td>2.42</td>\n",
       "      <td>83.0</td>\n",
       "      <td>5.3</td>\n",
       "      <td>M</td>\n",
       "      <td>13.79</td>\n",
       "    </tr>\n",
       "    <tr>\n",
       "      <th>69</th>\n",
       "      <td>Call of Duty: Ghosts</td>\n",
       "      <td>PS3</td>\n",
       "      <td>2013</td>\n",
       "      <td>Shooter</td>\n",
       "      <td>4.10</td>\n",
       "      <td>3.63</td>\n",
       "      <td>0.38</td>\n",
       "      <td>1.25</td>\n",
       "      <td>71.0</td>\n",
       "      <td>2.6</td>\n",
       "      <td>M</td>\n",
       "      <td>9.36</td>\n",
       "    </tr>\n",
       "    <tr>\n",
       "      <th>81</th>\n",
       "      <td>FIFA Soccer 13</td>\n",
       "      <td>PS3</td>\n",
       "      <td>2012</td>\n",
       "      <td>Action</td>\n",
       "      <td>1.06</td>\n",
       "      <td>5.01</td>\n",
       "      <td>0.13</td>\n",
       "      <td>1.97</td>\n",
       "      <td>88.0</td>\n",
       "      <td>6.6</td>\n",
       "      <td>E</td>\n",
       "      <td>8.17</td>\n",
       "    </tr>\n",
       "    <tr>\n",
       "      <th>126</th>\n",
       "      <td>FIFA 14</td>\n",
       "      <td>PS3</td>\n",
       "      <td>2013</td>\n",
       "      <td>Sports</td>\n",
       "      <td>0.78</td>\n",
       "      <td>4.24</td>\n",
       "      <td>0.07</td>\n",
       "      <td>1.37</td>\n",
       "      <td>86.0</td>\n",
       "      <td>4.3</td>\n",
       "      <td>E</td>\n",
       "      <td>6.46</td>\n",
       "    </tr>\n",
       "    <tr>\n",
       "      <th>...</th>\n",
       "      <td>...</td>\n",
       "      <td>...</td>\n",
       "      <td>...</td>\n",
       "      <td>...</td>\n",
       "      <td>...</td>\n",
       "      <td>...</td>\n",
       "      <td>...</td>\n",
       "      <td>...</td>\n",
       "      <td>...</td>\n",
       "      <td>...</td>\n",
       "      <td>...</td>\n",
       "      <td>...</td>\n",
       "    </tr>\n",
       "    <tr>\n",
       "      <th>16626</th>\n",
       "      <td>Akatsuki no Goei Trinity</td>\n",
       "      <td>PS3</td>\n",
       "      <td>2012</td>\n",
       "      <td>Adventure</td>\n",
       "      <td>0.00</td>\n",
       "      <td>0.00</td>\n",
       "      <td>0.01</td>\n",
       "      <td>0.00</td>\n",
       "      <td>NaN</td>\n",
       "      <td>NaN</td>\n",
       "      <td>NaN</td>\n",
       "      <td>0.01</td>\n",
       "    </tr>\n",
       "    <tr>\n",
       "      <th>16636</th>\n",
       "      <td>Tour de France 2014</td>\n",
       "      <td>PS3</td>\n",
       "      <td>2014</td>\n",
       "      <td>Sports</td>\n",
       "      <td>0.00</td>\n",
       "      <td>0.01</td>\n",
       "      <td>0.00</td>\n",
       "      <td>0.00</td>\n",
       "      <td>NaN</td>\n",
       "      <td>NaN</td>\n",
       "      <td>E</td>\n",
       "      <td>0.01</td>\n",
       "    </tr>\n",
       "    <tr>\n",
       "      <th>16672</th>\n",
       "      <td>Tsukigime Ranko's Longest Day</td>\n",
       "      <td>PS3</td>\n",
       "      <td>2014</td>\n",
       "      <td>Action</td>\n",
       "      <td>0.00</td>\n",
       "      <td>0.01</td>\n",
       "      <td>0.00</td>\n",
       "      <td>0.00</td>\n",
       "      <td>NaN</td>\n",
       "      <td>NaN</td>\n",
       "      <td>NaN</td>\n",
       "      <td>0.01</td>\n",
       "    </tr>\n",
       "    <tr>\n",
       "      <th>16689</th>\n",
       "      <td>Dynasty Warriors: Eiketsuden</td>\n",
       "      <td>PS3</td>\n",
       "      <td>2016</td>\n",
       "      <td>Action</td>\n",
       "      <td>0.00</td>\n",
       "      <td>0.00</td>\n",
       "      <td>0.01</td>\n",
       "      <td>0.00</td>\n",
       "      <td>NaN</td>\n",
       "      <td>NaN</td>\n",
       "      <td>NaN</td>\n",
       "      <td>0.01</td>\n",
       "    </tr>\n",
       "    <tr>\n",
       "      <th>16708</th>\n",
       "      <td>Samurai Warriors: Sanada Maru</td>\n",
       "      <td>PS3</td>\n",
       "      <td>2016</td>\n",
       "      <td>Action</td>\n",
       "      <td>0.00</td>\n",
       "      <td>0.00</td>\n",
       "      <td>0.01</td>\n",
       "      <td>0.00</td>\n",
       "      <td>NaN</td>\n",
       "      <td>NaN</td>\n",
       "      <td>NaN</td>\n",
       "      <td>0.01</td>\n",
       "    </tr>\n",
       "  </tbody>\n",
       "</table>\n",
       "<p>492 rows × 12 columns</p>\n",
       "</div>"
      ],
      "text/plain": [
       "                                name platform  year_of_release      genre  \\\n",
       "16                Grand Theft Auto V      PS3             2013     Action   \n",
       "34        Call of Duty: Black Ops II      PS3             2012    Shooter   \n",
       "69              Call of Duty: Ghosts      PS3             2013    Shooter   \n",
       "81                    FIFA Soccer 13      PS3             2012     Action   \n",
       "126                          FIFA 14      PS3             2013     Sports   \n",
       "...                              ...      ...              ...        ...   \n",
       "16626       Akatsuki no Goei Trinity      PS3             2012  Adventure   \n",
       "16636            Tour de France 2014      PS3             2014     Sports   \n",
       "16672  Tsukigime Ranko's Longest Day      PS3             2014     Action   \n",
       "16689   Dynasty Warriors: Eiketsuden      PS3             2016     Action   \n",
       "16708  Samurai Warriors: Sanada Maru      PS3             2016     Action   \n",
       "\n",
       "       na_sales  eu_sales  jp_sales  other_sales  critic_score  user_score  \\\n",
       "16         7.02      9.09      0.98         3.96          97.0         8.2   \n",
       "34         4.99      5.73      0.65         2.42          83.0         5.3   \n",
       "69         4.10      3.63      0.38         1.25          71.0         2.6   \n",
       "81         1.06      5.01      0.13         1.97          88.0         6.6   \n",
       "126        0.78      4.24      0.07         1.37          86.0         4.3   \n",
       "...         ...       ...       ...          ...           ...         ...   \n",
       "16626      0.00      0.00      0.01         0.00           NaN         NaN   \n",
       "16636      0.00      0.01      0.00         0.00           NaN         NaN   \n",
       "16672      0.00      0.01      0.00         0.00           NaN         NaN   \n",
       "16689      0.00      0.00      0.01         0.00           NaN         NaN   \n",
       "16708      0.00      0.00      0.01         0.00           NaN         NaN   \n",
       "\n",
       "      rating  total_sales  \n",
       "16         M        21.05  \n",
       "34         M        13.79  \n",
       "69         M         9.36  \n",
       "81         E         8.17  \n",
       "126        E         6.46  \n",
       "...      ...          ...  \n",
       "16626    NaN         0.01  \n",
       "16636      E         0.01  \n",
       "16672    NaN         0.01  \n",
       "16689    NaN         0.01  \n",
       "16708    NaN         0.01  \n",
       "\n",
       "[492 rows x 12 columns]"
      ]
     },
     "execution_count": 54,
     "metadata": {},
     "output_type": "execute_result"
    }
   ],
   "source": [
    "ps3_data = relevant_data[relevant_data['platform'] == 'PS3']\n",
    "ps3_data"
   ]
  },
  {
   "cell_type": "code",
   "execution_count": 55,
   "metadata": {
    "trusted": false
   },
   "outputs": [
    {
     "data": {
      "text/html": [
       "<div>\n",
       "<style scoped>\n",
       "    .dataframe tbody tr th:only-of-type {\n",
       "        vertical-align: middle;\n",
       "    }\n",
       "\n",
       "    .dataframe tbody tr th {\n",
       "        vertical-align: top;\n",
       "    }\n",
       "\n",
       "    .dataframe thead th {\n",
       "        text-align: right;\n",
       "    }\n",
       "</style>\n",
       "<table border=\"1\" class=\"dataframe\">\n",
       "  <thead>\n",
       "    <tr style=\"text-align: right;\">\n",
       "      <th></th>\n",
       "      <th>name</th>\n",
       "      <th>platform</th>\n",
       "      <th>year_of_release</th>\n",
       "      <th>genre</th>\n",
       "      <th>na_sales</th>\n",
       "      <th>eu_sales</th>\n",
       "      <th>jp_sales</th>\n",
       "      <th>other_sales</th>\n",
       "      <th>critic_score</th>\n",
       "      <th>user_score</th>\n",
       "      <th>rating</th>\n",
       "      <th>total_sales</th>\n",
       "    </tr>\n",
       "  </thead>\n",
       "  <tbody>\n",
       "    <tr>\n",
       "      <th>23</th>\n",
       "      <td>Grand Theft Auto V</td>\n",
       "      <td>X360</td>\n",
       "      <td>2013</td>\n",
       "      <td>Action</td>\n",
       "      <td>9.66</td>\n",
       "      <td>5.14</td>\n",
       "      <td>0.06</td>\n",
       "      <td>1.41</td>\n",
       "      <td>97.0</td>\n",
       "      <td>8.1</td>\n",
       "      <td>M</td>\n",
       "      <td>16.27</td>\n",
       "    </tr>\n",
       "    <tr>\n",
       "      <th>35</th>\n",
       "      <td>Call of Duty: Black Ops II</td>\n",
       "      <td>X360</td>\n",
       "      <td>2012</td>\n",
       "      <td>Shooter</td>\n",
       "      <td>8.25</td>\n",
       "      <td>4.24</td>\n",
       "      <td>0.07</td>\n",
       "      <td>1.12</td>\n",
       "      <td>83.0</td>\n",
       "      <td>4.8</td>\n",
       "      <td>M</td>\n",
       "      <td>13.68</td>\n",
       "    </tr>\n",
       "    <tr>\n",
       "      <th>60</th>\n",
       "      <td>Call of Duty: Ghosts</td>\n",
       "      <td>X360</td>\n",
       "      <td>2013</td>\n",
       "      <td>Shooter</td>\n",
       "      <td>6.73</td>\n",
       "      <td>2.56</td>\n",
       "      <td>0.04</td>\n",
       "      <td>0.91</td>\n",
       "      <td>73.0</td>\n",
       "      <td>2.6</td>\n",
       "      <td>M</td>\n",
       "      <td>10.24</td>\n",
       "    </tr>\n",
       "    <tr>\n",
       "      <th>66</th>\n",
       "      <td>Halo 4</td>\n",
       "      <td>X360</td>\n",
       "      <td>2012</td>\n",
       "      <td>Shooter</td>\n",
       "      <td>6.65</td>\n",
       "      <td>2.28</td>\n",
       "      <td>0.04</td>\n",
       "      <td>0.74</td>\n",
       "      <td>87.0</td>\n",
       "      <td>7.0</td>\n",
       "      <td>M</td>\n",
       "      <td>9.71</td>\n",
       "    </tr>\n",
       "    <tr>\n",
       "      <th>72</th>\n",
       "      <td>Minecraft</td>\n",
       "      <td>X360</td>\n",
       "      <td>2013</td>\n",
       "      <td>Misc</td>\n",
       "      <td>5.70</td>\n",
       "      <td>2.65</td>\n",
       "      <td>0.02</td>\n",
       "      <td>0.81</td>\n",
       "      <td>NaN</td>\n",
       "      <td>NaN</td>\n",
       "      <td>NaN</td>\n",
       "      <td>9.18</td>\n",
       "    </tr>\n",
       "    <tr>\n",
       "      <th>...</th>\n",
       "      <td>...</td>\n",
       "      <td>...</td>\n",
       "      <td>...</td>\n",
       "      <td>...</td>\n",
       "      <td>...</td>\n",
       "      <td>...</td>\n",
       "      <td>...</td>\n",
       "      <td>...</td>\n",
       "      <td>...</td>\n",
       "      <td>...</td>\n",
       "      <td>...</td>\n",
       "      <td>...</td>\n",
       "    </tr>\n",
       "    <tr>\n",
       "      <th>16448</th>\n",
       "      <td>Turbo: Super Stunt Squad</td>\n",
       "      <td>X360</td>\n",
       "      <td>2013</td>\n",
       "      <td>Sports</td>\n",
       "      <td>0.00</td>\n",
       "      <td>0.01</td>\n",
       "      <td>0.00</td>\n",
       "      <td>0.00</td>\n",
       "      <td>NaN</td>\n",
       "      <td>4.5</td>\n",
       "      <td>E</td>\n",
       "      <td>0.01</td>\n",
       "    </tr>\n",
       "    <tr>\n",
       "      <th>16458</th>\n",
       "      <td>Young Justice: Legacy</td>\n",
       "      <td>X360</td>\n",
       "      <td>2013</td>\n",
       "      <td>Action</td>\n",
       "      <td>0.00</td>\n",
       "      <td>0.01</td>\n",
       "      <td>0.00</td>\n",
       "      <td>0.00</td>\n",
       "      <td>NaN</td>\n",
       "      <td>6.2</td>\n",
       "      <td>T</td>\n",
       "      <td>0.01</td>\n",
       "    </tr>\n",
       "    <tr>\n",
       "      <th>16489</th>\n",
       "      <td>Ride</td>\n",
       "      <td>X360</td>\n",
       "      <td>2015</td>\n",
       "      <td>Racing</td>\n",
       "      <td>0.00</td>\n",
       "      <td>0.01</td>\n",
       "      <td>0.00</td>\n",
       "      <td>0.00</td>\n",
       "      <td>NaN</td>\n",
       "      <td>NaN</td>\n",
       "      <td>NaN</td>\n",
       "      <td>0.01</td>\n",
       "    </tr>\n",
       "    <tr>\n",
       "      <th>16611</th>\n",
       "      <td>Dragon Ball Z for Kinect</td>\n",
       "      <td>X360</td>\n",
       "      <td>2012</td>\n",
       "      <td>Fighting</td>\n",
       "      <td>0.01</td>\n",
       "      <td>0.00</td>\n",
       "      <td>0.00</td>\n",
       "      <td>0.00</td>\n",
       "      <td>49.0</td>\n",
       "      <td>2.1</td>\n",
       "      <td>T</td>\n",
       "      <td>0.01</td>\n",
       "    </tr>\n",
       "    <tr>\n",
       "      <th>16652</th>\n",
       "      <td>Ben 10 Omniverse 2</td>\n",
       "      <td>X360</td>\n",
       "      <td>2013</td>\n",
       "      <td>Action</td>\n",
       "      <td>0.00</td>\n",
       "      <td>0.01</td>\n",
       "      <td>0.00</td>\n",
       "      <td>0.00</td>\n",
       "      <td>NaN</td>\n",
       "      <td>5.1</td>\n",
       "      <td>E10+</td>\n",
       "      <td>0.01</td>\n",
       "    </tr>\n",
       "  </tbody>\n",
       "</table>\n",
       "<p>292 rows × 12 columns</p>\n",
       "</div>"
      ],
      "text/plain": [
       "                             name platform  year_of_release     genre  \\\n",
       "23             Grand Theft Auto V     X360             2013    Action   \n",
       "35     Call of Duty: Black Ops II     X360             2012   Shooter   \n",
       "60           Call of Duty: Ghosts     X360             2013   Shooter   \n",
       "66                         Halo 4     X360             2012   Shooter   \n",
       "72                      Minecraft     X360             2013      Misc   \n",
       "...                           ...      ...              ...       ...   \n",
       "16448    Turbo: Super Stunt Squad     X360             2013    Sports   \n",
       "16458       Young Justice: Legacy     X360             2013    Action   \n",
       "16489                        Ride     X360             2015    Racing   \n",
       "16611    Dragon Ball Z for Kinect     X360             2012  Fighting   \n",
       "16652          Ben 10 Omniverse 2     X360             2013    Action   \n",
       "\n",
       "       na_sales  eu_sales  jp_sales  other_sales  critic_score  user_score  \\\n",
       "23         9.66      5.14      0.06         1.41          97.0         8.1   \n",
       "35         8.25      4.24      0.07         1.12          83.0         4.8   \n",
       "60         6.73      2.56      0.04         0.91          73.0         2.6   \n",
       "66         6.65      2.28      0.04         0.74          87.0         7.0   \n",
       "72         5.70      2.65      0.02         0.81           NaN         NaN   \n",
       "...         ...       ...       ...          ...           ...         ...   \n",
       "16448      0.00      0.01      0.00         0.00           NaN         4.5   \n",
       "16458      0.00      0.01      0.00         0.00           NaN         6.2   \n",
       "16489      0.00      0.01      0.00         0.00           NaN         NaN   \n",
       "16611      0.01      0.00      0.00         0.00          49.0         2.1   \n",
       "16652      0.00      0.01      0.00         0.00           NaN         5.1   \n",
       "\n",
       "      rating  total_sales  \n",
       "23         M        16.27  \n",
       "35         M        13.68  \n",
       "60         M        10.24  \n",
       "66         M         9.71  \n",
       "72       NaN         9.18  \n",
       "...      ...          ...  \n",
       "16448      E         0.01  \n",
       "16458      T         0.01  \n",
       "16489    NaN         0.01  \n",
       "16611      T         0.01  \n",
       "16652   E10+         0.01  \n",
       "\n",
       "[292 rows x 12 columns]"
      ]
     },
     "execution_count": 55,
     "metadata": {},
     "output_type": "execute_result"
    }
   ],
   "source": [
    "x360_data = relevant_data[relevant_data['platform'] == 'X360']\n",
    "x360_data"
   ]
  },
  {
   "cell_type": "code",
   "execution_count": 56,
   "metadata": {
    "trusted": false
   },
   "outputs": [
    {
     "data": {
      "text/html": [
       "<div>\n",
       "<style scoped>\n",
       "    .dataframe tbody tr th:only-of-type {\n",
       "        vertical-align: middle;\n",
       "    }\n",
       "\n",
       "    .dataframe tbody tr th {\n",
       "        vertical-align: top;\n",
       "    }\n",
       "\n",
       "    .dataframe thead th {\n",
       "        text-align: right;\n",
       "    }\n",
       "</style>\n",
       "<table border=\"1\" class=\"dataframe\">\n",
       "  <thead>\n",
       "    <tr style=\"text-align: right;\">\n",
       "      <th></th>\n",
       "      <th>name</th>\n",
       "      <th>platform</th>\n",
       "      <th>year_of_release</th>\n",
       "      <th>genre</th>\n",
       "      <th>na_sales</th>\n",
       "      <th>eu_sales</th>\n",
       "      <th>jp_sales</th>\n",
       "      <th>other_sales</th>\n",
       "      <th>critic_score</th>\n",
       "      <th>user_score</th>\n",
       "      <th>rating</th>\n",
       "      <th>total_sales</th>\n",
       "    </tr>\n",
       "  </thead>\n",
       "  <tbody>\n",
       "    <tr>\n",
       "      <th>110</th>\n",
       "      <td>Mario Kart 8</td>\n",
       "      <td>WiiU</td>\n",
       "      <td>2014</td>\n",
       "      <td>Racing</td>\n",
       "      <td>3.15</td>\n",
       "      <td>2.15</td>\n",
       "      <td>1.28</td>\n",
       "      <td>0.51</td>\n",
       "      <td>88.0</td>\n",
       "      <td>9.1</td>\n",
       "      <td>E</td>\n",
       "      <td>7.09</td>\n",
       "    </tr>\n",
       "    <tr>\n",
       "      <th>185</th>\n",
       "      <td>New Super Mario Bros. U</td>\n",
       "      <td>WiiU</td>\n",
       "      <td>2012</td>\n",
       "      <td>Platform</td>\n",
       "      <td>2.30</td>\n",
       "      <td>1.34</td>\n",
       "      <td>1.27</td>\n",
       "      <td>0.32</td>\n",
       "      <td>84.0</td>\n",
       "      <td>8.1</td>\n",
       "      <td>E</td>\n",
       "      <td>5.23</td>\n",
       "    </tr>\n",
       "    <tr>\n",
       "      <th>216</th>\n",
       "      <td>Super Smash Bros. for Wii U and 3DS</td>\n",
       "      <td>WiiU</td>\n",
       "      <td>2014</td>\n",
       "      <td>Fighting</td>\n",
       "      <td>2.60</td>\n",
       "      <td>1.08</td>\n",
       "      <td>0.81</td>\n",
       "      <td>0.38</td>\n",
       "      <td>NaN</td>\n",
       "      <td>NaN</td>\n",
       "      <td>NaN</td>\n",
       "      <td>4.87</td>\n",
       "    </tr>\n",
       "    <tr>\n",
       "      <th>247</th>\n",
       "      <td>Splatoon</td>\n",
       "      <td>WiiU</td>\n",
       "      <td>2015</td>\n",
       "      <td>Shooter</td>\n",
       "      <td>1.54</td>\n",
       "      <td>1.18</td>\n",
       "      <td>1.46</td>\n",
       "      <td>0.26</td>\n",
       "      <td>81.0</td>\n",
       "      <td>8.5</td>\n",
       "      <td>E10+</td>\n",
       "      <td>4.44</td>\n",
       "    </tr>\n",
       "    <tr>\n",
       "      <th>248</th>\n",
       "      <td>Nintendo Land</td>\n",
       "      <td>WiiU</td>\n",
       "      <td>2012</td>\n",
       "      <td>Misc</td>\n",
       "      <td>2.52</td>\n",
       "      <td>1.11</td>\n",
       "      <td>0.46</td>\n",
       "      <td>0.33</td>\n",
       "      <td>77.0</td>\n",
       "      <td>7.9</td>\n",
       "      <td>E10+</td>\n",
       "      <td>4.42</td>\n",
       "    </tr>\n",
       "    <tr>\n",
       "      <th>...</th>\n",
       "      <td>...</td>\n",
       "      <td>...</td>\n",
       "      <td>...</td>\n",
       "      <td>...</td>\n",
       "      <td>...</td>\n",
       "      <td>...</td>\n",
       "      <td>...</td>\n",
       "      <td>...</td>\n",
       "      <td>...</td>\n",
       "      <td>...</td>\n",
       "      <td>...</td>\n",
       "      <td>...</td>\n",
       "    </tr>\n",
       "    <tr>\n",
       "      <th>16374</th>\n",
       "      <td>Dragon Quest X: All in One Package</td>\n",
       "      <td>WiiU</td>\n",
       "      <td>2015</td>\n",
       "      <td>Role-Playing</td>\n",
       "      <td>0.00</td>\n",
       "      <td>0.00</td>\n",
       "      <td>0.01</td>\n",
       "      <td>0.00</td>\n",
       "      <td>NaN</td>\n",
       "      <td>NaN</td>\n",
       "      <td>NaN</td>\n",
       "      <td>0.01</td>\n",
       "    </tr>\n",
       "    <tr>\n",
       "      <th>16410</th>\n",
       "      <td>Legend of Kay Anniversary</td>\n",
       "      <td>WiiU</td>\n",
       "      <td>2015</td>\n",
       "      <td>Action</td>\n",
       "      <td>0.00</td>\n",
       "      <td>0.01</td>\n",
       "      <td>0.00</td>\n",
       "      <td>0.00</td>\n",
       "      <td>67.0</td>\n",
       "      <td>7.1</td>\n",
       "      <td>E10+</td>\n",
       "      <td>0.01</td>\n",
       "    </tr>\n",
       "    <tr>\n",
       "      <th>16418</th>\n",
       "      <td>Mario vs. Donkey Kong: Tipping Stars</td>\n",
       "      <td>WiiU</td>\n",
       "      <td>2015</td>\n",
       "      <td>Puzzle</td>\n",
       "      <td>0.00</td>\n",
       "      <td>0.00</td>\n",
       "      <td>0.01</td>\n",
       "      <td>0.00</td>\n",
       "      <td>70.0</td>\n",
       "      <td>7.4</td>\n",
       "      <td>E</td>\n",
       "      <td>0.01</td>\n",
       "    </tr>\n",
       "    <tr>\n",
       "      <th>16508</th>\n",
       "      <td>Art Academy: Home Studio</td>\n",
       "      <td>WiiU</td>\n",
       "      <td>2015</td>\n",
       "      <td>Misc</td>\n",
       "      <td>0.00</td>\n",
       "      <td>0.00</td>\n",
       "      <td>0.01</td>\n",
       "      <td>0.00</td>\n",
       "      <td>82.0</td>\n",
       "      <td>8.3</td>\n",
       "      <td>E</td>\n",
       "      <td>0.01</td>\n",
       "    </tr>\n",
       "    <tr>\n",
       "      <th>16650</th>\n",
       "      <td>Fast Racing Neo</td>\n",
       "      <td>WiiU</td>\n",
       "      <td>2016</td>\n",
       "      <td>Action</td>\n",
       "      <td>0.00</td>\n",
       "      <td>0.01</td>\n",
       "      <td>0.00</td>\n",
       "      <td>0.00</td>\n",
       "      <td>81.0</td>\n",
       "      <td>8.5</td>\n",
       "      <td>E</td>\n",
       "      <td>0.01</td>\n",
       "    </tr>\n",
       "  </tbody>\n",
       "</table>\n",
       "<p>147 rows × 12 columns</p>\n",
       "</div>"
      ],
      "text/plain": [
       "                                       name platform  year_of_release  \\\n",
       "110                            Mario Kart 8     WiiU             2014   \n",
       "185                 New Super Mario Bros. U     WiiU             2012   \n",
       "216     Super Smash Bros. for Wii U and 3DS     WiiU             2014   \n",
       "247                                Splatoon     WiiU             2015   \n",
       "248                           Nintendo Land     WiiU             2012   \n",
       "...                                     ...      ...              ...   \n",
       "16374    Dragon Quest X: All in One Package     WiiU             2015   \n",
       "16410             Legend of Kay Anniversary     WiiU             2015   \n",
       "16418  Mario vs. Donkey Kong: Tipping Stars     WiiU             2015   \n",
       "16508              Art Academy: Home Studio     WiiU             2015   \n",
       "16650                      Fast Racing Neo      WiiU             2016   \n",
       "\n",
       "              genre  na_sales  eu_sales  jp_sales  other_sales  critic_score  \\\n",
       "110          Racing      3.15      2.15      1.28         0.51          88.0   \n",
       "185        Platform      2.30      1.34      1.27         0.32          84.0   \n",
       "216        Fighting      2.60      1.08      0.81         0.38           NaN   \n",
       "247         Shooter      1.54      1.18      1.46         0.26          81.0   \n",
       "248            Misc      2.52      1.11      0.46         0.33          77.0   \n",
       "...             ...       ...       ...       ...          ...           ...   \n",
       "16374  Role-Playing      0.00      0.00      0.01         0.00           NaN   \n",
       "16410        Action      0.00      0.01      0.00         0.00          67.0   \n",
       "16418        Puzzle      0.00      0.00      0.01         0.00          70.0   \n",
       "16508          Misc      0.00      0.00      0.01         0.00          82.0   \n",
       "16650        Action      0.00      0.01      0.00         0.00          81.0   \n",
       "\n",
       "       user_score rating  total_sales  \n",
       "110           9.1      E         7.09  \n",
       "185           8.1      E         5.23  \n",
       "216           NaN    NaN         4.87  \n",
       "247           8.5   E10+         4.44  \n",
       "248           7.9   E10+         4.42  \n",
       "...           ...    ...          ...  \n",
       "16374         NaN    NaN         0.01  \n",
       "16410         7.1   E10+         0.01  \n",
       "16418         7.4      E         0.01  \n",
       "16508         8.3      E         0.01  \n",
       "16650         8.5      E         0.01  \n",
       "\n",
       "[147 rows x 12 columns]"
      ]
     },
     "execution_count": 56,
     "metadata": {},
     "output_type": "execute_result"
    }
   ],
   "source": [
    "wii_data = relevant_data[relevant_data['platform'] == 'WiiU']\n",
    "wii_data"
   ]
  },
  {
   "cell_type": "code",
   "execution_count": 57,
   "metadata": {
    "trusted": false
   },
   "outputs": [
    {
     "data": {
      "image/png": "[encoded data removed]",
      "text/plain": [
       "<Figure size 1200x600 with 1 Axes>"
      ]
     },
     "metadata": {},
     "output_type": "display_data"
    }
   ],
   "source": [
    "ps3_data.plot(\n",
    "    x='user_score',\n",
    "    y='total_sales',\n",
    "    kind='scatter',\n",
    "    alpha=0.36,\n",
    "    title='User Score vs Total Sales (PS3)',\n",
    "    figsize=[12, 6],\n",
    "    xlabel='User Score',\n",
    "    ylabel='Total Sales (in millions)'\n",
    ")\n",
    "\n",
    "plt.show()"
   ]
  },
  {
   "cell_type": "code",
   "execution_count": 58,
   "metadata": {
    "trusted": false
   },
   "outputs": [
    {
     "data": {
      "image/png": "[encoded data removed]",
      "text/plain": [
       "<Figure size 1200x600 with 1 Axes>"
      ]
     },
     "metadata": {},
     "output_type": "display_data"
    }
   ],
   "source": [
    "ps3_data.plot(\n",
    "    x='critic_score',\n",
    "    y='total_sales',\n",
    "    kind='scatter',\n",
    "    alpha=0.36,\n",
    "    title='Critic Score vs Total Sales (PS3)',\n",
    "    figsize=[12, 6],\n",
    "    xlabel='Critic Score',\n",
    "    ylabel='Total Sales (in millions)'\n",
    ")\n",
    "\n",
    "plt.show()"
   ]
  },
  {
   "cell_type": "markdown",
   "metadata": {},
   "source": [
    "To me it looks like if PS3 scores stay in the 75th percentile or above you can typically see more sales."
   ]
  },
  {
   "cell_type": "code",
   "execution_count": 59,
   "metadata": {
    "trusted": false
   },
   "outputs": [
    {
     "data": {
      "image/png": "[encoded data removed]",
      "text/plain": [
       "<Figure size 1200x600 with 1 Axes>"
      ]
     },
     "metadata": {},
     "output_type": "display_data"
    }
   ],
   "source": [
    "x360_data.plot(\n",
    "    x='user_score',\n",
    "    y='total_sales',\n",
    "    kind='scatter',\n",
    "    alpha=0.36,\n",
    "    title='User Score vs Total Sales (XBox 360)',\n",
    "    figsize=[12, 6],\n",
    "    xlabel='User Score',\n",
    "    ylabel='Total Sales (in millions)'\n",
    ")\n",
    "\n",
    "plt.show()"
   ]
  },
  {
   "cell_type": "code",
   "execution_count": 60,
   "metadata": {
    "trusted": false
   },
   "outputs": [
    {
     "data": {
      "image/png": "[encoded data removed]",
      "text/plain": [
       "<Figure size 1200x600 with 1 Axes>"
      ]
     },
     "metadata": {},
     "output_type": "display_data"
    }
   ],
   "source": [
    "x360_data.plot(\n",
    "    x='critic_score',\n",
    "    y='total_sales',\n",
    "    kind='scatter',\n",
    "    alpha=0.36,\n",
    "    title='Critic Score vs Total Sales (XBox 360)',\n",
    "    figsize=[12, 6],\n",
    "    xlabel='Critic Score',\n",
    "    ylabel='Total Sales (in millions)'\n",
    ")\n",
    "\n",
    "plt.show()"
   ]
  },
  {
   "cell_type": "code",
   "execution_count": 61,
   "metadata": {
    "trusted": false
   },
   "outputs": [
    {
     "data": {
      "image/png": "[encoded data removed]",
      "text/plain": [
       "<Figure size 1200x600 with 1 Axes>"
      ]
     },
     "metadata": {},
     "output_type": "display_data"
    }
   ],
   "source": [
    "wii_data.plot(\n",
    "    x='user_score',\n",
    "    y='total_sales',\n",
    "    kind='scatter',\n",
    "    alpha=0.36,\n",
    "    title='User Score vs Total Sales (WiiU)',\n",
    "    figsize=[12, 6],\n",
    "    xlabel='User Score',\n",
    "    ylabel='Total Sales (in millions)'\n",
    ")\n",
    "\n",
    "plt.show()"
   ]
  },
  {
   "cell_type": "code",
   "execution_count": 62,
   "metadata": {
    "trusted": false
   },
   "outputs": [
    {
     "data": {
      "image/png": "[encoded data removed]",
      "text/plain": [
       "<Figure size 1200x600 with 1 Axes>"
      ]
     },
     "metadata": {},
     "output_type": "display_data"
    }
   ],
   "source": [
    "wii_data.plot(\n",
    "    x='critic_score',\n",
    "    y='total_sales',\n",
    "    kind='scatter',\n",
    "    alpha=0.36,\n",
    "    title='Critic Score vs Total Sales (WiiU)',\n",
    "    figsize=[12, 6],\n",
    "    xlabel='Critic Score',\n",
    "    ylabel='Total Sales (in millions)'\n",
    ")\n",
    "\n",
    "plt.show()"
   ]
  },
  {
   "cell_type": "markdown",
   "metadata": {},
   "source": [
    "Looking at the data for other platforms, it seems the ratings play a similar factor on sales. If ratings are in that upper 75th percentile, those games tend to make more in sales."
   ]
  },
  {
   "cell_type": "code",
   "execution_count": 63,
   "metadata": {
    "trusted": false
   },
   "outputs": [
    {
     "data": {
      "text/plain": [
       "0.33415175755098564"
      ]
     },
     "execution_count": 63,
     "metadata": {},
     "output_type": "execute_result"
    }
   ],
   "source": [
    "ps3_data['total_sales'].corr(ps3_data['critic_score'])"
   ]
  },
  {
   "cell_type": "code",
   "execution_count": 64,
   "metadata": {
    "trusted": false
   },
   "outputs": [
    {
     "data": {
      "text/plain": [
       "-0.006205767686051493"
      ]
     },
     "execution_count": 64,
     "metadata": {},
     "output_type": "execute_result"
    }
   ],
   "source": [
    "ps3_data['total_sales'].corr(ps3_data['user_score'])"
   ]
  },
  {
   "cell_type": "code",
   "execution_count": 65,
   "metadata": {
    "trusted": false
   },
   "outputs": [
    {
     "data": {
      "text/plain": [
       "0.36057348885073387"
      ]
     },
     "execution_count": 65,
     "metadata": {},
     "output_type": "execute_result"
    }
   ],
   "source": [
    "x360_data['total_sales'].corr(x360_data['critic_score'])"
   ]
  },
  {
   "cell_type": "code",
   "execution_count": 66,
   "metadata": {
    "trusted": false
   },
   "outputs": [
    {
     "data": {
      "text/plain": [
       "0.006163978646213357"
      ]
     },
     "execution_count": 66,
     "metadata": {},
     "output_type": "execute_result"
    }
   ],
   "source": [
    "x360_data['total_sales'].corr(x360_data['user_score'])"
   ]
  },
  {
   "cell_type": "code",
   "execution_count": 67,
   "metadata": {
    "trusted": false
   },
   "outputs": [
    {
     "data": {
      "text/plain": [
       "0.3483797601201749"
      ]
     },
     "execution_count": 67,
     "metadata": {},
     "output_type": "execute_result"
    }
   ],
   "source": [
    "wii_data['total_sales'].corr(wii_data['critic_score'])"
   ]
  },
  {
   "cell_type": "code",
   "execution_count": 68,
   "metadata": {
    "trusted": false
   },
   "outputs": [
    {
     "data": {
      "text/plain": [
       "0.4002190202148617"
      ]
     },
     "execution_count": 68,
     "metadata": {},
     "output_type": "execute_result"
    }
   ],
   "source": [
    "wii_data['total_sales'].corr(wii_data['user_score'])"
   ]
  },
  {
   "cell_type": "markdown",
   "metadata": {},
   "source": [
    "<div class=\"alert alert-info\" style=\"border-radius: 15px; box-shadow: 4px 4px 4px; border: 1px solid \">\n",
    "<h2>  Comment </h2>\n",
    "   \n",
    "\n",
    "I've chosen to compare the Xbox 360 and WiiU with the PS3 since these systems were released around the same time. The data suggests that critic scores significantly impact total game sales across these platforms, with higher sales generally linked to scores of 75 and above.\n",
    "\n",
    "User scores, however, play a lesser role. For the Wii, user scores appear more influential, but on the Xbox 360 and PS3, even games with user scores below 6 have notable sales. Nonetheless, higher sales are typically seen with user scores of 7 and above.\n",
    "    \n",
    "</div>"
   ]
  },
  {
   "cell_type": "code",
   "execution_count": 69,
   "metadata": {
    "trusted": false
   },
   "outputs": [
    {
     "data": {
      "text/plain": [
       "genre\n",
       "Action          1031\n",
       "Role-Playing     370\n",
       "Adventure        302\n",
       "Sports           267\n",
       "Shooter          235\n",
       "Misc             192\n",
       "Racing           115\n",
       "Fighting         109\n",
       "Platform          85\n",
       "Simulation        80\n",
       "Strategy          71\n",
       "Puzzle            28\n",
       "Name: count, dtype: int64"
      ]
     },
     "execution_count": 69,
     "metadata": {},
     "output_type": "execute_result"
    }
   ],
   "source": [
    "genre_dist = relevant_data['genre'].value_counts()\n",
    "genre_dist"
   ]
  },
  {
   "cell_type": "code",
   "execution_count": 70,
   "metadata": {
    "trusted": false
   },
   "outputs": [
    {
     "data": {
      "text/html": [
       "<div>\n",
       "<style scoped>\n",
       "    .dataframe tbody tr th:only-of-type {\n",
       "        vertical-align: middle;\n",
       "    }\n",
       "\n",
       "    .dataframe tbody tr th {\n",
       "        vertical-align: top;\n",
       "    }\n",
       "\n",
       "    .dataframe thead th {\n",
       "        text-align: right;\n",
       "    }\n",
       "</style>\n",
       "<table border=\"1\" class=\"dataframe\">\n",
       "  <thead>\n",
       "    <tr style=\"text-align: right;\">\n",
       "      <th></th>\n",
       "      <th>genre</th>\n",
       "      <th>average_sales</th>\n",
       "    </tr>\n",
       "  </thead>\n",
       "  <tbody>\n",
       "    <tr>\n",
       "      <th>0</th>\n",
       "      <td>Shooter</td>\n",
       "      <td>1.296723</td>\n",
       "    </tr>\n",
       "    <tr>\n",
       "      <th>1</th>\n",
       "      <td>Platform</td>\n",
       "      <td>0.717647</td>\n",
       "    </tr>\n",
       "    <tr>\n",
       "      <th>2</th>\n",
       "      <td>Sports</td>\n",
       "      <td>0.678127</td>\n",
       "    </tr>\n",
       "    <tr>\n",
       "      <th>3</th>\n",
       "      <td>Role-Playing</td>\n",
       "      <td>0.521081</td>\n",
       "    </tr>\n",
       "    <tr>\n",
       "      <th>4</th>\n",
       "      <td>Racing</td>\n",
       "      <td>0.465217</td>\n",
       "    </tr>\n",
       "    <tr>\n",
       "      <th>5</th>\n",
       "      <td>Misc</td>\n",
       "      <td>0.442917</td>\n",
       "    </tr>\n",
       "    <tr>\n",
       "      <th>6</th>\n",
       "      <td>Simulation</td>\n",
       "      <td>0.439000</td>\n",
       "    </tr>\n",
       "    <tr>\n",
       "      <th>7</th>\n",
       "      <td>Action</td>\n",
       "      <td>0.427856</td>\n",
       "    </tr>\n",
       "    <tr>\n",
       "      <th>8</th>\n",
       "      <td>Fighting</td>\n",
       "      <td>0.408165</td>\n",
       "    </tr>\n",
       "    <tr>\n",
       "      <th>9</th>\n",
       "      <td>Strategy</td>\n",
       "      <td>0.187887</td>\n",
       "    </tr>\n",
       "    <tr>\n",
       "      <th>10</th>\n",
       "      <td>Puzzle</td>\n",
       "      <td>0.174643</td>\n",
       "    </tr>\n",
       "    <tr>\n",
       "      <th>11</th>\n",
       "      <td>Adventure</td>\n",
       "      <td>0.097450</td>\n",
       "    </tr>\n",
       "  </tbody>\n",
       "</table>\n",
       "</div>"
      ],
      "text/plain": [
       "           genre  average_sales\n",
       "0        Shooter       1.296723\n",
       "1       Platform       0.717647\n",
       "2         Sports       0.678127\n",
       "3   Role-Playing       0.521081\n",
       "4         Racing       0.465217\n",
       "5           Misc       0.442917\n",
       "6     Simulation       0.439000\n",
       "7         Action       0.427856\n",
       "8       Fighting       0.408165\n",
       "9       Strategy       0.187887\n",
       "10        Puzzle       0.174643\n",
       "11     Adventure       0.097450"
      ]
     },
     "execution_count": 70,
     "metadata": {},
     "output_type": "execute_result"
    }
   ],
   "source": [
    "genre_dist_mean = relevant_data.groupby('genre')['total_sales'].mean().sort_values(ascending=False).reset_index()\n",
    "genre_dist_mean.columns = ['genre', 'average_sales']\n",
    "genre_dist_mean"
   ]
  },
  {
   "cell_type": "code",
   "execution_count": 71,
   "metadata": {
    "trusted": false
   },
   "outputs": [
    {
     "data": {
      "text/html": [
       "<div>\n",
       "<style scoped>\n",
       "    .dataframe tbody tr th:only-of-type {\n",
       "        vertical-align: middle;\n",
       "    }\n",
       "\n",
       "    .dataframe tbody tr th {\n",
       "        vertical-align: top;\n",
       "    }\n",
       "\n",
       "    .dataframe thead th {\n",
       "        text-align: right;\n",
       "    }\n",
       "</style>\n",
       "<table border=\"1\" class=\"dataframe\">\n",
       "  <thead>\n",
       "    <tr style=\"text-align: right;\">\n",
       "      <th></th>\n",
       "      <th>genre</th>\n",
       "      <th>median_sales</th>\n",
       "    </tr>\n",
       "  </thead>\n",
       "  <tbody>\n",
       "    <tr>\n",
       "      <th>0</th>\n",
       "      <td>Shooter</td>\n",
       "      <td>0.440</td>\n",
       "    </tr>\n",
       "    <tr>\n",
       "      <th>1</th>\n",
       "      <td>Sports</td>\n",
       "      <td>0.240</td>\n",
       "    </tr>\n",
       "    <tr>\n",
       "      <th>2</th>\n",
       "      <td>Platform</td>\n",
       "      <td>0.210</td>\n",
       "    </tr>\n",
       "    <tr>\n",
       "      <th>3</th>\n",
       "      <td>Role-Playing</td>\n",
       "      <td>0.140</td>\n",
       "    </tr>\n",
       "    <tr>\n",
       "      <th>4</th>\n",
       "      <td>Racing</td>\n",
       "      <td>0.140</td>\n",
       "    </tr>\n",
       "    <tr>\n",
       "      <th>5</th>\n",
       "      <td>Fighting</td>\n",
       "      <td>0.130</td>\n",
       "    </tr>\n",
       "    <tr>\n",
       "      <th>6</th>\n",
       "      <td>Action</td>\n",
       "      <td>0.120</td>\n",
       "    </tr>\n",
       "    <tr>\n",
       "      <th>7</th>\n",
       "      <td>Misc</td>\n",
       "      <td>0.120</td>\n",
       "    </tr>\n",
       "    <tr>\n",
       "      <th>8</th>\n",
       "      <td>Simulation</td>\n",
       "      <td>0.120</td>\n",
       "    </tr>\n",
       "    <tr>\n",
       "      <th>9</th>\n",
       "      <td>Strategy</td>\n",
       "      <td>0.080</td>\n",
       "    </tr>\n",
       "    <tr>\n",
       "      <th>10</th>\n",
       "      <td>Puzzle</td>\n",
       "      <td>0.045</td>\n",
       "    </tr>\n",
       "    <tr>\n",
       "      <th>11</th>\n",
       "      <td>Adventure</td>\n",
       "      <td>0.030</td>\n",
       "    </tr>\n",
       "  </tbody>\n",
       "</table>\n",
       "</div>"
      ],
      "text/plain": [
       "           genre  median_sales\n",
       "0        Shooter         0.440\n",
       "1         Sports         0.240\n",
       "2       Platform         0.210\n",
       "3   Role-Playing         0.140\n",
       "4         Racing         0.140\n",
       "5       Fighting         0.130\n",
       "6         Action         0.120\n",
       "7           Misc         0.120\n",
       "8     Simulation         0.120\n",
       "9       Strategy         0.080\n",
       "10        Puzzle         0.045\n",
       "11     Adventure         0.030"
      ]
     },
     "execution_count": 71,
     "metadata": {},
     "output_type": "execute_result"
    }
   ],
   "source": [
    "genre_dist_med = relevant_data.groupby('genre')['total_sales'].median().sort_values(ascending=False).reset_index()\n",
    "genre_dist_med.columns = ['genre', 'median_sales']\n",
    "genre_dist_med"
   ]
  },
  {
   "cell_type": "code",
   "execution_count": 72,
   "metadata": {
    "trusted": false
   },
   "outputs": [
    {
     "data": {
      "image/png": "[encoded data removed]",
      "text/plain": [
       "<Figure size 1200x600 with 1 Axes>"
      ]
     },
     "metadata": {},
     "output_type": "display_data"
    }
   ],
   "source": [
    "genre_dist_med.plot(\n",
    "    x='genre',\n",
    "    y='median_sales',\n",
    "    kind='bar',\n",
    "    title='Distribution of Median Sales by Genre',\n",
    "    figsize=[12, 6],\n",
    "    xlabel='Genre',\n",
    "    ylabel='Median Sales (in millions)'\n",
    ")\n",
    "\n",
    "plt.show()"
   ]
  },
  {
   "cell_type": "markdown",
   "metadata": {},
   "source": [
    "The Action and Sports genres have the higher number of games made throughout the entire network of platforms. With Action being more than double the 4th highest (Role-Playing). If you want a good chance of creating sales, your best bet is to create an Action game. Steer clear of puzzle games, those tend to do the worst in sales."
   ]
  },
  {
   "cell_type": "markdown",
   "metadata": {},
   "source": [
    "<div class=\"alert alert-info\" style=\"border-radius: 15px; box-shadow: 4px 4px 4px; border: 1px solid \">\n",
    "<h2>  Comment </h2>\n",
    "   \n",
    "\n",
    "I decided to use the median sales due to the many outliers that would've skewed the data. Looking at the median the top 3 are as follows: Shooter, Platform, Sports. So Action games aren't in the top spot, all of the platforms just release a ton of Action games.\n",
    "    \n",
    "</div>"
   ]
  },
  {
   "cell_type": "code",
   "execution_count": 73,
   "metadata": {
    "trusted": false
   },
   "outputs": [
    {
     "name": "stdout",
     "output_type": "stream",
     "text": [
      "Top 5 platforms for na_sales:\n",
      "platform\n",
      "X360    140.05\n",
      "PS4     108.74\n",
      "PS3     103.38\n",
      "XOne     93.12\n",
      "3DS      55.31\n",
      "Name: na_sales, dtype: float64\n",
      "\n",
      "Top 5 platforms for eu_sales:\n",
      "platform\n",
      "PS4     141.09\n",
      "PS3     106.85\n",
      "X360     74.52\n",
      "XOne     51.59\n",
      "3DS      42.64\n",
      "Name: eu_sales, dtype: float64\n",
      "\n",
      "Top 5 platforms for jp_sales:\n",
      "platform\n",
      "3DS     87.79\n",
      "PS3     35.29\n",
      "PSV     21.04\n",
      "PS4     15.96\n",
      "WiiU    13.01\n",
      "Name: jp_sales, dtype: float64\n",
      "\n"
     ]
    }
   ],
   "source": [
    "regions = ['na_sales', 'eu_sales', 'jp_sales']\n",
    "\n",
    "top_platforms_by_region = {}\n",
    "\n",
    "for region in regions:\n",
    "    region_sales = relevant_data.groupby('platform')[region].sum()\n",
    "    \n",
    "    top_platforms = region_sales.sort_values(ascending=False).head(5)\n",
    "    \n",
    "    top_platforms_by_region[region] = top_platforms\n",
    "\n",
    "for region, platforms in top_platforms_by_region.items():\n",
    "    print(f\"Top 5 platforms for {region}:\")\n",
    "    print(platforms)\n",
    "    print()"
   ]
  },
  {
   "cell_type": "markdown",
   "metadata": {},
   "source": [
    "<div class=\"alert alert-info\" style=\"border-radius: 15px; box-shadow: 4px 4px 4px; border: 1px solid \">\n",
    "<h2>  Comment </h2>\n",
    "   \n",
    "\n",
    "North America has high sales for Xbox 360, Wii and PS3. Europe has high sales for PS3, Xbox 360 and Wii. And Japan has high sales for DS, 3DS and PS3. \n",
    "    \n",
    "North American has more than 3x sales than Japan. And North American and Europe have the same platforms in the top 3 but just in a different order. North America has its highest sales with Xbox 360 and Europe has its highest in PS3. \n",
    "    \n",
    "</div>"
   ]
  },
  {
   "cell_type": "markdown",
   "metadata": {},
   "source": [
    "North America is HEAVY on gaming, compared to EU and JP. Their sales with Xbox360 almost double the top selling platform in EU (PS2) and triple that of JP's top seller (DS). So North Americans game. \n",
    "\n",
    "North Americans are also the only country with Xbox360 in their top 5, so it's safe to say North Americans lean more towards the Microsoft brand, whereas Europeans lean more towards Playstation. EU has both PS2 and PS3 in their #1 and #2 spot.\n",
    "\n",
    "Japanese seem to be a bit more nostalgic. I see their sales mostly being older or classic gaming systems. "
   ]
  },
  {
   "cell_type": "code",
   "execution_count": 74,
   "metadata": {
    "trusted": false
   },
   "outputs": [
    {
     "name": "stdout",
     "output_type": "stream",
     "text": [
      "Top 5 genres for na_sales:\n",
      "genre\n",
      "Action          177.84\n",
      "Shooter         144.77\n",
      "Sports           81.53\n",
      "Role-Playing     64.00\n",
      "Misc             38.19\n",
      "Name: na_sales, dtype: float64\n",
      "\n",
      "Top 5 genres for eu_sales:\n",
      "genre\n",
      "Action          159.34\n",
      "Shooter         113.47\n",
      "Sports           69.08\n",
      "Role-Playing     48.53\n",
      "Racing           27.29\n",
      "Name: eu_sales, dtype: float64\n",
      "\n",
      "Top 5 genres for jp_sales:\n",
      "genre\n",
      "Role-Playing    65.44\n",
      "Action          52.80\n",
      "Misc            12.86\n",
      "Simulation      10.41\n",
      "Fighting         9.44\n",
      "Name: jp_sales, dtype: float64\n",
      "\n"
     ]
    }
   ],
   "source": [
    "regions = ['na_sales', 'eu_sales', 'jp_sales']\n",
    "\n",
    "top_genres_by_region = {}\n",
    "\n",
    "for region in regions:\n",
    "    region_sales = relevant_data.groupby('genre')[region].sum()\n",
    "    \n",
    "    top_genres = region_sales.sort_values(ascending=False).head(5)\n",
    "    \n",
    "    top_genres_by_region[region] = top_genres\n",
    "\n",
    "for region, genres in top_genres_by_region.items():\n",
    "    print(f\"Top 5 genres for {region}:\")\n",
    "    print(genres)\n",
    "    print()"
   ]
  },
  {
   "cell_type": "markdown",
   "metadata": {},
   "source": [
    "Action genres have high sales across all 3 regions with Action being #1 in NA and EU and #2 in JP. Followed by Sports which is #2 in both NA and EU and #3 in JP. Role playing is #1 in JP for sales, which explains why Role Playing is #4 in sales overall when all 3 regions are combined."
   ]
  },
  {
   "cell_type": "code",
   "execution_count": 75,
   "metadata": {
    "trusted": false
   },
   "outputs": [
    {
     "name": "stdout",
     "output_type": "stream",
     "text": [
      "Sales by ESRB rating for na_sales:\n",
      "rating\n",
      "M       231.57\n",
      "E       114.37\n",
      "E10+     75.70\n",
      "T        66.02\n",
      "Name: na_sales, dtype: float64\n",
      "\n",
      "Sales by ESRB rating for eu_sales:\n",
      "rating\n",
      "M       193.96\n",
      "E       113.02\n",
      "E10+     55.37\n",
      "T        52.96\n",
      "Name: eu_sales, dtype: float64\n",
      "\n",
      "Sales by ESRB rating for jp_sales:\n",
      "rating\n",
      "E       28.33\n",
      "T       26.02\n",
      "M       21.20\n",
      "E10+     8.19\n",
      "Name: jp_sales, dtype: float64\n",
      "\n"
     ]
    }
   ],
   "source": [
    "regions = ['na_sales', 'eu_sales', 'jp_sales']\n",
    "\n",
    "esrb_sales_by_region = {}\n",
    "\n",
    "for region in regions:\n",
    "    region_sales = relevant_data.groupby('rating')[region].sum().sort_values(ascending=False)\n",
    "    \n",
    "    esrb_sales_by_region[region] = region_sales\n",
    "\n",
    "for region, sales in esrb_sales_by_region.items():\n",
    "    print(f\"Sales by ESRB rating for {region}:\")\n",
    "    print(sales)\n",
    "    print()"
   ]
  },
  {
   "cell_type": "markdown",
   "metadata": {},
   "source": [
    "Games that are for everyone tend to have the highest amount of sales in NA and EU. Followed closely by Mature and Teen at #2 and #3. So to be on the safe side, make and Action game that is rated for Everyone to increase your chance of higher sales across the globe."
   ]
  },
  {
   "cell_type": "markdown",
   "metadata": {},
   "source": [
    "## Hypothesis Testing"
   ]
  },
  {
   "cell_type": "code",
   "execution_count": 76,
   "metadata": {
    "trusted": false
   },
   "outputs": [],
   "source": [
    "from scipy import stats"
   ]
  },
  {
   "cell_type": "code",
   "execution_count": 77,
   "metadata": {
    "trusted": false
   },
   "outputs": [],
   "source": [
    "xbox_one_ratings = relevant_data[relevant_data['platform'] == 'XOne']['user_score'].dropna()\n",
    "pc_ratings = relevant_data[relevant_data['platform'] == 'PC']['user_score'].dropna()"
   ]
  },
  {
   "cell_type": "code",
   "execution_count": 78,
   "metadata": {
    "trusted": false
   },
   "outputs": [
    {
     "data": {
      "text/html": [
       "<div>\n",
       "<style scoped>\n",
       "    .dataframe tbody tr th:only-of-type {\n",
       "        vertical-align: middle;\n",
       "    }\n",
       "\n",
       "    .dataframe tbody tr th {\n",
       "        vertical-align: top;\n",
       "    }\n",
       "\n",
       "    .dataframe thead th {\n",
       "        text-align: right;\n",
       "    }\n",
       "</style>\n",
       "<table border=\"1\" class=\"dataframe\">\n",
       "  <thead>\n",
       "    <tr style=\"text-align: right;\">\n",
       "      <th></th>\n",
       "      <th>name</th>\n",
       "      <th>platform</th>\n",
       "      <th>year_of_release</th>\n",
       "      <th>genre</th>\n",
       "      <th>na_sales</th>\n",
       "      <th>eu_sales</th>\n",
       "      <th>jp_sales</th>\n",
       "      <th>other_sales</th>\n",
       "      <th>critic_score</th>\n",
       "      <th>user_score</th>\n",
       "      <th>rating</th>\n",
       "      <th>total_sales</th>\n",
       "    </tr>\n",
       "  </thead>\n",
       "  <tbody>\n",
       "    <tr>\n",
       "      <th>99</th>\n",
       "      <td>Call of Duty: Black Ops 3</td>\n",
       "      <td>XOne</td>\n",
       "      <td>2015</td>\n",
       "      <td>Shooter</td>\n",
       "      <td>4.59</td>\n",
       "      <td>2.11</td>\n",
       "      <td>0.01</td>\n",
       "      <td>0.68</td>\n",
       "      <td>NaN</td>\n",
       "      <td>NaN</td>\n",
       "      <td>NaN</td>\n",
       "      <td>7.39</td>\n",
       "    </tr>\n",
       "    <tr>\n",
       "      <th>165</th>\n",
       "      <td>Grand Theft Auto V</td>\n",
       "      <td>XOne</td>\n",
       "      <td>2014</td>\n",
       "      <td>Action</td>\n",
       "      <td>2.81</td>\n",
       "      <td>2.19</td>\n",
       "      <td>0.00</td>\n",
       "      <td>0.47</td>\n",
       "      <td>97.0</td>\n",
       "      <td>7.9</td>\n",
       "      <td>M</td>\n",
       "      <td>5.47</td>\n",
       "    </tr>\n",
       "    <tr>\n",
       "      <th>179</th>\n",
       "      <td>Call of Duty: Advanced Warfare</td>\n",
       "      <td>XOne</td>\n",
       "      <td>2014</td>\n",
       "      <td>Shooter</td>\n",
       "      <td>3.22</td>\n",
       "      <td>1.55</td>\n",
       "      <td>0.01</td>\n",
       "      <td>0.48</td>\n",
       "      <td>81.0</td>\n",
       "      <td>5.4</td>\n",
       "      <td>M</td>\n",
       "      <td>5.26</td>\n",
       "    </tr>\n",
       "    <tr>\n",
       "      <th>242</th>\n",
       "      <td>Halo 5: Guardians</td>\n",
       "      <td>XOne</td>\n",
       "      <td>2015</td>\n",
       "      <td>Shooter</td>\n",
       "      <td>2.78</td>\n",
       "      <td>1.27</td>\n",
       "      <td>0.03</td>\n",
       "      <td>0.41</td>\n",
       "      <td>84.0</td>\n",
       "      <td>6.4</td>\n",
       "      <td>T</td>\n",
       "      <td>4.49</td>\n",
       "    </tr>\n",
       "    <tr>\n",
       "      <th>270</th>\n",
       "      <td>Fallout 4</td>\n",
       "      <td>XOne</td>\n",
       "      <td>2015</td>\n",
       "      <td>Role-Playing</td>\n",
       "      <td>2.51</td>\n",
       "      <td>1.32</td>\n",
       "      <td>0.01</td>\n",
       "      <td>0.38</td>\n",
       "      <td>88.0</td>\n",
       "      <td>6.2</td>\n",
       "      <td>M</td>\n",
       "      <td>4.22</td>\n",
       "    </tr>\n",
       "    <tr>\n",
       "      <th>...</th>\n",
       "      <td>...</td>\n",
       "      <td>...</td>\n",
       "      <td>...</td>\n",
       "      <td>...</td>\n",
       "      <td>...</td>\n",
       "      <td>...</td>\n",
       "      <td>...</td>\n",
       "      <td>...</td>\n",
       "      <td>...</td>\n",
       "      <td>...</td>\n",
       "      <td>...</td>\n",
       "      <td>...</td>\n",
       "    </tr>\n",
       "    <tr>\n",
       "      <th>16628</th>\n",
       "      <td>Sébastien Loeb Rally Evo</td>\n",
       "      <td>XOne</td>\n",
       "      <td>2016</td>\n",
       "      <td>Racing</td>\n",
       "      <td>0.00</td>\n",
       "      <td>0.01</td>\n",
       "      <td>0.00</td>\n",
       "      <td>0.00</td>\n",
       "      <td>63.0</td>\n",
       "      <td>8.2</td>\n",
       "      <td>E</td>\n",
       "      <td>0.01</td>\n",
       "    </tr>\n",
       "    <tr>\n",
       "      <th>16641</th>\n",
       "      <td>Rugby Challenge 3</td>\n",
       "      <td>XOne</td>\n",
       "      <td>2016</td>\n",
       "      <td>Sports</td>\n",
       "      <td>0.00</td>\n",
       "      <td>0.01</td>\n",
       "      <td>0.00</td>\n",
       "      <td>0.00</td>\n",
       "      <td>NaN</td>\n",
       "      <td>6.6</td>\n",
       "      <td>E</td>\n",
       "      <td>0.01</td>\n",
       "    </tr>\n",
       "    <tr>\n",
       "      <th>16643</th>\n",
       "      <td>ZombiU</td>\n",
       "      <td>XOne</td>\n",
       "      <td>2016</td>\n",
       "      <td>Action</td>\n",
       "      <td>0.00</td>\n",
       "      <td>0.01</td>\n",
       "      <td>0.00</td>\n",
       "      <td>0.00</td>\n",
       "      <td>NaN</td>\n",
       "      <td>NaN</td>\n",
       "      <td>NaN</td>\n",
       "      <td>0.01</td>\n",
       "    </tr>\n",
       "    <tr>\n",
       "      <th>16658</th>\n",
       "      <td>Prison Architect</td>\n",
       "      <td>XOne</td>\n",
       "      <td>2016</td>\n",
       "      <td>Action</td>\n",
       "      <td>0.01</td>\n",
       "      <td>0.00</td>\n",
       "      <td>0.00</td>\n",
       "      <td>0.00</td>\n",
       "      <td>74.0</td>\n",
       "      <td>6.7</td>\n",
       "      <td>NaN</td>\n",
       "      <td>0.01</td>\n",
       "    </tr>\n",
       "    <tr>\n",
       "      <th>16670</th>\n",
       "      <td>Metal Gear Solid V: The Definitive Experience</td>\n",
       "      <td>XOne</td>\n",
       "      <td>2016</td>\n",
       "      <td>Action</td>\n",
       "      <td>0.01</td>\n",
       "      <td>0.00</td>\n",
       "      <td>0.00</td>\n",
       "      <td>0.00</td>\n",
       "      <td>NaN</td>\n",
       "      <td>NaN</td>\n",
       "      <td>M</td>\n",
       "      <td>0.01</td>\n",
       "    </tr>\n",
       "  </tbody>\n",
       "</table>\n",
       "<p>247 rows × 12 columns</p>\n",
       "</div>"
      ],
      "text/plain": [
       "                                                name platform  \\\n",
       "99                         Call of Duty: Black Ops 3     XOne   \n",
       "165                               Grand Theft Auto V     XOne   \n",
       "179                   Call of Duty: Advanced Warfare     XOne   \n",
       "242                                Halo 5: Guardians     XOne   \n",
       "270                                        Fallout 4     XOne   \n",
       "...                                              ...      ...   \n",
       "16628                       Sébastien Loeb Rally Evo     XOne   \n",
       "16641                              Rugby Challenge 3     XOne   \n",
       "16643                                         ZombiU     XOne   \n",
       "16658                               Prison Architect     XOne   \n",
       "16670  Metal Gear Solid V: The Definitive Experience     XOne   \n",
       "\n",
       "       year_of_release         genre  na_sales  eu_sales  jp_sales  \\\n",
       "99                2015       Shooter      4.59      2.11      0.01   \n",
       "165               2014        Action      2.81      2.19      0.00   \n",
       "179               2014       Shooter      3.22      1.55      0.01   \n",
       "242               2015       Shooter      2.78      1.27      0.03   \n",
       "270               2015  Role-Playing      2.51      1.32      0.01   \n",
       "...                ...           ...       ...       ...       ...   \n",
       "16628             2016        Racing      0.00      0.01      0.00   \n",
       "16641             2016        Sports      0.00      0.01      0.00   \n",
       "16643             2016        Action      0.00      0.01      0.00   \n",
       "16658             2016        Action      0.01      0.00      0.00   \n",
       "16670             2016        Action      0.01      0.00      0.00   \n",
       "\n",
       "       other_sales  critic_score  user_score rating  total_sales  \n",
       "99            0.68           NaN         NaN    NaN         7.39  \n",
       "165           0.47          97.0         7.9      M         5.47  \n",
       "179           0.48          81.0         5.4      M         5.26  \n",
       "242           0.41          84.0         6.4      T         4.49  \n",
       "270           0.38          88.0         6.2      M         4.22  \n",
       "...            ...           ...         ...    ...          ...  \n",
       "16628         0.00          63.0         8.2      E         0.01  \n",
       "16641         0.00           NaN         6.6      E         0.01  \n",
       "16643         0.00           NaN         NaN    NaN         0.01  \n",
       "16658         0.00          74.0         6.7    NaN         0.01  \n",
       "16670         0.00           NaN         NaN      M         0.01  \n",
       "\n",
       "[247 rows x 12 columns]"
      ]
     },
     "execution_count": 78,
     "metadata": {},
     "output_type": "execute_result"
    }
   ],
   "source": [
    "xbox_one_ratingss = relevant_data[relevant_data['platform'] == 'XOne']\n",
    "xbox_one_ratingss"
   ]
  },
  {
   "cell_type": "code",
   "execution_count": 79,
   "metadata": {
    "trusted": false
   },
   "outputs": [
    {
     "data": {
      "text/plain": [
       "165      7.9\n",
       "179      5.4\n",
       "242      6.4\n",
       "270      6.2\n",
       "373      4.1\n",
       "        ... \n",
       "16542    6.8\n",
       "16595    6.0\n",
       "16628    8.2\n",
       "16641    6.6\n",
       "16658    6.7\n",
       "Name: user_score, Length: 182, dtype: float64"
      ]
     },
     "execution_count": 79,
     "metadata": {},
     "output_type": "execute_result"
    }
   ],
   "source": [
    "xbox_one_ratings"
   ]
  },
  {
   "cell_type": "code",
   "execution_count": 80,
   "metadata": {
    "trusted": false
   },
   "outputs": [],
   "source": [
    "t_stat, p_value = stats.ttest_ind(xbox_one_ratings, pc_ratings, equal_var=False)"
   ]
  },
  {
   "cell_type": "code",
   "execution_count": 81,
   "metadata": {
    "trusted": false
   },
   "outputs": [
    {
     "name": "stdout",
     "output_type": "stream",
     "text": [
      "T-statistic: 0.5998585993590415\n",
      "P-value: 0.5489537965134912\n"
     ]
    }
   ],
   "source": [
    "print(f\"T-statistic: {t_stat}\")\n",
    "print(f\"P-value: {p_value}\")"
   ]
  },
  {
   "cell_type": "code",
   "execution_count": 82,
   "metadata": {
    "trusted": false
   },
   "outputs": [
    {
     "name": "stdout",
     "output_type": "stream",
     "text": [
      "Fail to reject the null hypothesis: Data doesn't support the idea that the ratings are different. Ratings could be similar\n"
     ]
    }
   ],
   "source": [
    "alpha = 0.05\n",
    "if p_value < alpha:\n",
    "    print(\"Reject the null hypothesis: Evidence found to conclude that the average user ratings for the platforms are significantly different.\")\n",
    "else:\n",
    "    print(\"Fail to reject the null hypothesis: Data doesn't support the idea that the ratings are different. Ratings could be similar\")"
   ]
  },
  {
   "cell_type": "code",
   "execution_count": 83,
   "metadata": {
    "trusted": false
   },
   "outputs": [],
   "source": [
    "action_ratings = relevant_data[relevant_data['genre'] == 'Action']['user_score'].dropna()\n",
    "sports_ratings = relevant_data[relevant_data['genre'] == 'Sports']['user_score'].dropna()"
   ]
  },
  {
   "cell_type": "code",
   "execution_count": 84,
   "metadata": {
    "trusted": false
   },
   "outputs": [],
   "source": [
    "t_stat, p_value = stats.ttest_ind(action_ratings, sports_ratings, equal_var=False)"
   ]
  },
  {
   "cell_type": "code",
   "execution_count": 85,
   "metadata": {
    "trusted": false
   },
   "outputs": [
    {
     "name": "stdout",
     "output_type": "stream",
     "text": [
      "T-statistic: 9.863487132322389\n",
      "P-value: 5.989458066467418e-20\n"
     ]
    }
   ],
   "source": [
    "print(f\"T-statistic: {t_stat}\")\n",
    "print(f\"P-value: {p_value}\")"
   ]
  },
  {
   "cell_type": "code",
   "execution_count": 86,
   "metadata": {
    "trusted": false
   },
   "outputs": [
    {
     "name": "stdout",
     "output_type": "stream",
     "text": [
      "Reject the null hypothesis: Evidence found to conclude that the average user ratings for the genres are significantly different.\n"
     ]
    }
   ],
   "source": [
    "alpha = 0.05\n",
    "if p_value < alpha:\n",
    "    print(\"Reject the null hypothesis: Evidence found to conclude that the average user ratings for the genres are significantly different.\")\n",
    "else:\n",
    "    print(\"Fail to reject the null hypothesis: Data doesn't support the idea that the ratings are differents. Ratings could be similar.\")"
   ]
  },
  {
   "cell_type": "markdown",
   "metadata": {},
   "source": [
    "## Formulating the Hypotheses:\n",
    "<div class=\"alert alert-info\" style=\"border-radius: 15px; box-shadow: 4px 4px 4px; border: 1px solid \">\n",
    "<h2>  Comment </h2>\n",
    "   \n",
    "\n",
    "Null Hypothesis (H0): \n",
    "For Xbox One and PC platforms: The average user ratings are the same.\n",
    "\n",
    "\n",
    "Alternative Hypothesis (H1): \n",
    "For Xbox One and PC platforms: The average user ratings are different.\n",
    "\n",
    "\n",
    "This hypothesis is structured to statistically assess differences in average user ratings between Xbox One and PC, using a two-sample t-test to compare the means.\n",
    "    \n",
    "</div>\n"
   ]
  },
  {
   "cell_type": "markdown",
   "metadata": {},
   "source": [
    "<div class=\"alert alert-info\" style=\"border-radius: 15px; box-shadow: 4px 4px 4px; border: 1px solid \">\n",
    "<h2>  Comment </h2>\n",
    "   \n",
    "\n",
    "Null Hypothesis (H0): \n",
    "For Action and Sports genres: The average user ratings are the same.\n",
    "\n",
    "Alternative Hypothesis (H1): \n",
    "For Action and Sports genres: The average user ratings are different.\n",
    "\n",
    "\n",
    "This hypothesis is structured to statistically assess differences in average user ratings between Action and Sports genres, using a two-sample t-test to compare the means.\n",
    "    \n",
    "</div>\n"
   ]
  },
  {
   "cell_type": "markdown",
   "metadata": {},
   "source": [
    "In this project, we explored sales patterns, platform and genre trends, and identified factors influencing game success. Key findings include:\n",
    "\n",
    "Platform and Genre Analysis: Certain platforms and genres demonstrate potential, aligning with consumer preferences across regions.\n",
    "\n",
    "Review Impact: User and critic reviews show varying influences on sales, crucial for marketing strategies.\n",
    "\n",
    "Regional Profiles: Market variations highlight tailored approaches required for different regions.\n",
    "\n",
    "Hypothesis Testing: Statistical analysis validated or refuted assumptions on user ratings, enhancing strategic insights."
   ]
  },
  {
   "cell_type": "markdown",
   "metadata": {},
   "source": [
    "\n",
    "<div class=\"alert alert-info\" style=\"border-radius: 15px; box-shadow: 4px 4px 4px; border: 1px solid \">\n",
    "<h2>  Final Conclusion </h2>\n",
    "   \n",
    "\n",
    "In conclusion, there is one platform that shows a ton of promise: PS4. Since the release of the PS4, the sales for the platform has increased year by year. Xbox One has also increased BUT its sales are increasing a lot slower than PS4's. Playstation seems to be popular worldwide. North America tends to lean more towards Microsoft. \n",
    "\n",
    "If we're going to look at the main platforming companies: Nintendo, Playstation and Microsoft, then Nintendo seems to be popular in Japan. Microsoft a tad more favorable in North America and Playstation a tad more favorable in Europe.\n",
    "\n",
    "If I'm looking at genres, I would put more effort into developing Shooters, Platform and Sports games as those tend to be produce the highest amount of sales across all platforms.\n",
    "\n",
    "\n",
    "And looking at the ratings, games that are for everyone tend to have the highest amount of sales. Followed closely by Mature and Teen. So to be on the safe side, if I'm a developer I will look into making Shooter, Platform or Sports games that are rated for Everyone (then maybe Mature or Teen) to increase your chance of higher sales across the globe. \n",
    "\n",
    "If I'm Playstation, I have to feel good about the future! Playstation sells well across the globe! The future is bright for that particular platform!\n",
    "    \n",
    "</div>"
   ]
  }
 ],
 "metadata": {
  "ExecuteTimeLog": [
   {
    "duration": 886,
    "start_time": "2024-10-05T05:19:36.290Z"
   },
   {
    "duration": 576,
    "start_time": "2024-10-05T05:19:37.178Z"
   },
   {
    "duration": 0,
    "start_time": "2024-10-05T05:19:37.759Z"
   },
   {
    "duration": 0,
    "start_time": "2024-10-05T05:19:37.763Z"
   },
   {
    "duration": 0,
    "start_time": "2024-10-05T05:19:37.764Z"
   },
   {
    "duration": 0,
    "start_time": "2024-10-05T05:19:37.765Z"
   },
   {
    "duration": 0,
    "start_time": "2024-10-05T05:19:37.766Z"
   },
   {
    "duration": 0,
    "start_time": "2024-10-05T05:19:37.767Z"
   },
   {
    "duration": 0,
    "start_time": "2024-10-05T05:19:37.768Z"
   },
   {
    "duration": 0,
    "start_time": "2024-10-05T05:19:37.769Z"
   },
   {
    "duration": 0,
    "start_time": "2024-10-05T05:19:37.770Z"
   },
   {
    "duration": 0,
    "start_time": "2024-10-05T05:19:37.771Z"
   },
   {
    "duration": 0,
    "start_time": "2024-10-05T05:19:37.786Z"
   },
   {
    "duration": 0,
    "start_time": "2024-10-05T05:19:37.787Z"
   },
   {
    "duration": 0,
    "start_time": "2024-10-05T05:19:37.789Z"
   },
   {
    "duration": 0,
    "start_time": "2024-10-05T05:19:37.790Z"
   },
   {
    "duration": 0,
    "start_time": "2024-10-05T05:19:37.791Z"
   },
   {
    "duration": 0,
    "start_time": "2024-10-05T05:19:37.792Z"
   },
   {
    "duration": 0,
    "start_time": "2024-10-05T05:19:37.793Z"
   },
   {
    "duration": 0,
    "start_time": "2024-10-05T05:19:37.794Z"
   },
   {
    "duration": 0,
    "start_time": "2024-10-05T05:19:37.795Z"
   },
   {
    "duration": 0,
    "start_time": "2024-10-05T05:19:37.797Z"
   },
   {
    "duration": 0,
    "start_time": "2024-10-05T05:19:37.798Z"
   },
   {
    "duration": 0,
    "start_time": "2024-10-05T05:19:37.798Z"
   },
   {
    "duration": 0,
    "start_time": "2024-10-05T05:19:37.799Z"
   },
   {
    "duration": 0,
    "start_time": "2024-10-05T05:19:37.803Z"
   },
   {
    "duration": 0,
    "start_time": "2024-10-05T05:19:37.804Z"
   },
   {
    "duration": 0,
    "start_time": "2024-10-05T05:19:37.806Z"
   },
   {
    "duration": 0,
    "start_time": "2024-10-05T05:19:37.807Z"
   },
   {
    "duration": 0,
    "start_time": "2024-10-05T05:19:37.809Z"
   },
   {
    "duration": 0,
    "start_time": "2024-10-05T05:19:37.810Z"
   },
   {
    "duration": 0,
    "start_time": "2024-10-05T05:19:37.811Z"
   },
   {
    "duration": 0,
    "start_time": "2024-10-05T05:19:37.813Z"
   },
   {
    "duration": 0,
    "start_time": "2024-10-05T05:19:37.815Z"
   },
   {
    "duration": 0,
    "start_time": "2024-10-05T05:19:37.816Z"
   },
   {
    "duration": 0,
    "start_time": "2024-10-05T05:19:37.817Z"
   },
   {
    "duration": 0,
    "start_time": "2024-10-05T05:19:37.818Z"
   },
   {
    "duration": 0,
    "start_time": "2024-10-05T05:19:37.819Z"
   },
   {
    "duration": 0,
    "start_time": "2024-10-05T05:19:37.820Z"
   },
   {
    "duration": 0,
    "start_time": "2024-10-05T05:19:37.821Z"
   },
   {
    "duration": 0,
    "start_time": "2024-10-05T05:19:37.822Z"
   },
   {
    "duration": 0,
    "start_time": "2024-10-05T05:19:37.823Z"
   },
   {
    "duration": 0,
    "start_time": "2024-10-05T05:19:37.824Z"
   },
   {
    "duration": 0,
    "start_time": "2024-10-05T05:19:37.825Z"
   },
   {
    "duration": 0,
    "start_time": "2024-10-05T05:19:37.887Z"
   },
   {
    "duration": 0,
    "start_time": "2024-10-05T05:19:37.888Z"
   },
   {
    "duration": 0,
    "start_time": "2024-10-05T05:19:37.889Z"
   },
   {
    "duration": 0,
    "start_time": "2024-10-05T05:19:37.890Z"
   },
   {
    "duration": 0,
    "start_time": "2024-10-05T05:19:37.892Z"
   },
   {
    "duration": 0,
    "start_time": "2024-10-05T05:19:37.894Z"
   },
   {
    "duration": 0,
    "start_time": "2024-10-05T05:19:37.895Z"
   },
   {
    "duration": 0,
    "start_time": "2024-10-05T05:19:37.897Z"
   },
   {
    "duration": 0,
    "start_time": "2024-10-05T05:19:37.898Z"
   },
   {
    "duration": 0,
    "start_time": "2024-10-05T05:19:37.900Z"
   },
   {
    "duration": 0,
    "start_time": "2024-10-05T05:19:37.901Z"
   },
   {
    "duration": 0,
    "start_time": "2024-10-05T05:19:37.903Z"
   },
   {
    "duration": 0,
    "start_time": "2024-10-05T05:19:37.904Z"
   },
   {
    "duration": 0,
    "start_time": "2024-10-05T05:19:37.906Z"
   },
   {
    "duration": 0,
    "start_time": "2024-10-05T05:19:37.907Z"
   },
   {
    "duration": 0,
    "start_time": "2024-10-05T05:19:37.909Z"
   },
   {
    "duration": 1,
    "start_time": "2024-10-05T05:19:37.910Z"
   },
   {
    "duration": 0,
    "start_time": "2024-10-05T05:19:37.912Z"
   },
   {
    "duration": 0,
    "start_time": "2024-10-05T05:19:37.913Z"
   },
   {
    "duration": 0,
    "start_time": "2024-10-05T05:19:37.915Z"
   },
   {
    "duration": 0,
    "start_time": "2024-10-05T05:19:37.917Z"
   },
   {
    "duration": 0,
    "start_time": "2024-10-05T05:19:37.918Z"
   },
   {
    "duration": 0,
    "start_time": "2024-10-05T05:19:37.920Z"
   },
   {
    "duration": 0,
    "start_time": "2024-10-05T05:19:37.921Z"
   },
   {
    "duration": 0,
    "start_time": "2024-10-05T05:19:37.923Z"
   },
   {
    "duration": 0,
    "start_time": "2024-10-05T05:19:37.925Z"
   },
   {
    "duration": 0,
    "start_time": "2024-10-05T05:19:37.926Z"
   },
   {
    "duration": 0,
    "start_time": "2024-10-05T05:19:37.987Z"
   },
   {
    "duration": 0,
    "start_time": "2024-10-05T05:19:37.988Z"
   },
   {
    "duration": 0,
    "start_time": "2024-10-05T05:19:37.989Z"
   },
   {
    "duration": 0,
    "start_time": "2024-10-05T05:19:37.991Z"
   },
   {
    "duration": 0,
    "start_time": "2024-10-05T05:19:37.992Z"
   },
   {
    "duration": 2553,
    "start_time": "2024-10-05T17:09:46.052Z"
   },
   {
    "duration": 2,
    "start_time": "2024-10-05T17:11:57.222Z"
   },
   {
    "duration": 556,
    "start_time": "2024-10-05T17:11:59.352Z"
   },
   {
    "duration": 40,
    "start_time": "2024-10-05T17:12:59.618Z"
   },
   {
    "duration": 5,
    "start_time": "2024-10-05T17:15:11.756Z"
   },
   {
    "duration": 3,
    "start_time": "2024-10-05T17:16:25.431Z"
   },
   {
    "duration": 26,
    "start_time": "2024-10-05T17:16:26.021Z"
   },
   {
    "duration": 14,
    "start_time": "2024-10-05T17:16:27.281Z"
   },
   {
    "duration": 3,
    "start_time": "2024-10-05T17:16:28.116Z"
   },
   {
    "duration": 10,
    "start_time": "2024-10-05T17:16:29.032Z"
   },
   {
    "duration": 11,
    "start_time": "2024-10-05T17:16:32.276Z"
   },
   {
    "duration": 12,
    "start_time": "2024-10-05T17:16:34.817Z"
   },
   {
    "duration": 161,
    "start_time": "2024-10-05T17:18:59.153Z"
   },
   {
    "duration": 10,
    "start_time": "2024-10-05T17:19:11.316Z"
   },
   {
    "duration": 57,
    "start_time": "2024-10-05T17:20:23.826Z"
   },
   {
    "duration": 13,
    "start_time": "2024-10-05T17:20:32.235Z"
   },
   {
    "duration": 19,
    "start_time": "2024-10-05T17:20:38.556Z"
   },
   {
    "duration": 4,
    "start_time": "2024-10-05T17:20:44.711Z"
   },
   {
    "duration": 11,
    "start_time": "2024-10-05T17:20:47.027Z"
   },
   {
    "duration": 7,
    "start_time": "2024-10-05T17:20:57.433Z"
   },
   {
    "duration": 11,
    "start_time": "2024-10-05T17:21:13.806Z"
   },
   {
    "duration": 19,
    "start_time": "2024-10-05T17:21:27.223Z"
   },
   {
    "duration": 12,
    "start_time": "2024-10-05T17:21:28.911Z"
   },
   {
    "duration": 11,
    "start_time": "2024-10-05T17:22:16.161Z"
   },
   {
    "duration": 4,
    "start_time": "2024-10-05T17:22:16.675Z"
   },
   {
    "duration": 11,
    "start_time": "2024-10-05T17:22:17.176Z"
   },
   {
    "duration": 10,
    "start_time": "2024-10-05T17:22:17.857Z"
   },
   {
    "duration": 11,
    "start_time": "2024-10-05T17:22:18.451Z"
   },
   {
    "duration": 9,
    "start_time": "2024-10-05T17:22:19.926Z"
   },
   {
    "duration": 20,
    "start_time": "2024-10-05T17:22:21.451Z"
   },
   {
    "duration": 5,
    "start_time": "2024-10-05T17:22:33.588Z"
   },
   {
    "duration": 58,
    "start_time": "2024-10-05T17:25:10.910Z"
   },
   {
    "duration": 10,
    "start_time": "2024-10-05T17:25:16.312Z"
   },
   {
    "duration": 10,
    "start_time": "2024-10-05T17:25:23.116Z"
   },
   {
    "duration": 2,
    "start_time": "2024-10-05T17:25:36.716Z"
   },
   {
    "duration": 10,
    "start_time": "2024-10-05T17:25:38.481Z"
   },
   {
    "duration": 2,
    "start_time": "2024-10-05T17:25:38.971Z"
   },
   {
    "duration": 802,
    "start_time": "2024-10-05T17:25:46.072Z"
   },
   {
    "duration": 23,
    "start_time": "2024-10-05T17:25:46.876Z"
   },
   {
    "duration": 23,
    "start_time": "2024-10-05T17:25:46.901Z"
   },
   {
    "duration": 4,
    "start_time": "2024-10-05T17:25:46.926Z"
   },
   {
    "duration": 9,
    "start_time": "2024-10-05T17:25:46.933Z"
   },
   {
    "duration": 11,
    "start_time": "2024-10-05T17:25:46.944Z"
   },
   {
    "duration": 10,
    "start_time": "2024-10-05T17:25:46.957Z"
   },
   {
    "duration": 13,
    "start_time": "2024-10-05T17:25:46.969Z"
   },
   {
    "duration": 1,
    "start_time": "2024-10-05T17:25:46.984Z"
   },
   {
    "duration": 7,
    "start_time": "2024-10-05T17:25:47.024Z"
   },
   {
    "duration": 4,
    "start_time": "2024-10-05T17:25:47.032Z"
   },
   {
    "duration": 9,
    "start_time": "2024-10-05T17:25:47.038Z"
   },
   {
    "duration": 3,
    "start_time": "2024-10-05T17:25:47.048Z"
   },
   {
    "duration": 3,
    "start_time": "2024-10-05T17:25:47.055Z"
   },
   {
    "duration": 4,
    "start_time": "2024-10-05T17:25:47.059Z"
   },
   {
    "duration": 4,
    "start_time": "2024-10-05T17:25:47.064Z"
   },
   {
    "duration": 3,
    "start_time": "2024-10-05T17:25:47.070Z"
   },
   {
    "duration": 3,
    "start_time": "2024-10-05T17:25:47.074Z"
   },
   {
    "duration": 47,
    "start_time": "2024-10-05T17:25:47.079Z"
   },
   {
    "duration": 3,
    "start_time": "2024-10-05T17:25:47.128Z"
   },
   {
    "duration": 3,
    "start_time": "2024-10-05T17:25:47.133Z"
   },
   {
    "duration": 4,
    "start_time": "2024-10-05T17:25:47.137Z"
   },
   {
    "duration": 6,
    "start_time": "2024-10-05T17:25:47.142Z"
   },
   {
    "duration": 11,
    "start_time": "2024-10-05T17:25:47.149Z"
   },
   {
    "duration": 7,
    "start_time": "2024-10-05T17:25:47.161Z"
   },
   {
    "duration": 10,
    "start_time": "2024-10-05T17:25:47.169Z"
   },
   {
    "duration": 50,
    "start_time": "2024-10-05T17:25:47.180Z"
   },
   {
    "duration": 10,
    "start_time": "2024-10-05T17:25:47.232Z"
   },
   {
    "duration": 4,
    "start_time": "2024-10-05T17:25:47.244Z"
   },
   {
    "duration": 10,
    "start_time": "2024-10-05T17:25:47.250Z"
   },
   {
    "duration": 4,
    "start_time": "2024-10-05T17:25:47.261Z"
   },
   {
    "duration": 4,
    "start_time": "2024-10-05T17:25:47.267Z"
   },
   {
    "duration": 222,
    "start_time": "2024-10-05T17:25:47.272Z"
   },
   {
    "duration": 8,
    "start_time": "2024-10-05T17:25:47.496Z"
   },
   {
    "duration": 1196,
    "start_time": "2024-10-05T17:25:47.506Z"
   },
   {
    "duration": 0,
    "start_time": "2024-10-05T17:25:48.705Z"
   },
   {
    "duration": 0,
    "start_time": "2024-10-05T17:25:48.706Z"
   },
   {
    "duration": 0,
    "start_time": "2024-10-05T17:25:48.707Z"
   },
   {
    "duration": 0,
    "start_time": "2024-10-05T17:25:48.708Z"
   },
   {
    "duration": 0,
    "start_time": "2024-10-05T17:25:48.710Z"
   },
   {
    "duration": 0,
    "start_time": "2024-10-05T17:25:48.711Z"
   },
   {
    "duration": 0,
    "start_time": "2024-10-05T17:25:48.724Z"
   },
   {
    "duration": 0,
    "start_time": "2024-10-05T17:25:48.726Z"
   },
   {
    "duration": 0,
    "start_time": "2024-10-05T17:25:48.728Z"
   },
   {
    "duration": 0,
    "start_time": "2024-10-05T17:25:48.730Z"
   },
   {
    "duration": 0,
    "start_time": "2024-10-05T17:25:48.731Z"
   },
   {
    "duration": 0,
    "start_time": "2024-10-05T17:25:48.732Z"
   },
   {
    "duration": 0,
    "start_time": "2024-10-05T17:25:48.733Z"
   },
   {
    "duration": 0,
    "start_time": "2024-10-05T17:25:48.734Z"
   },
   {
    "duration": 0,
    "start_time": "2024-10-05T17:25:48.736Z"
   },
   {
    "duration": 0,
    "start_time": "2024-10-05T17:25:48.736Z"
   },
   {
    "duration": 0,
    "start_time": "2024-10-05T17:25:48.737Z"
   },
   {
    "duration": 0,
    "start_time": "2024-10-05T17:25:48.739Z"
   },
   {
    "duration": 0,
    "start_time": "2024-10-05T17:25:48.740Z"
   },
   {
    "duration": 0,
    "start_time": "2024-10-05T17:25:48.741Z"
   },
   {
    "duration": 0,
    "start_time": "2024-10-05T17:25:48.741Z"
   },
   {
    "duration": 0,
    "start_time": "2024-10-05T17:25:48.742Z"
   },
   {
    "duration": 0,
    "start_time": "2024-10-05T17:25:48.743Z"
   },
   {
    "duration": 0,
    "start_time": "2024-10-05T17:25:48.744Z"
   },
   {
    "duration": 0,
    "start_time": "2024-10-05T17:25:48.745Z"
   },
   {
    "duration": 0,
    "start_time": "2024-10-05T17:25:48.746Z"
   },
   {
    "duration": 0,
    "start_time": "2024-10-05T17:25:48.747Z"
   },
   {
    "duration": 0,
    "start_time": "2024-10-05T17:25:48.748Z"
   },
   {
    "duration": 0,
    "start_time": "2024-10-05T17:25:48.749Z"
   },
   {
    "duration": 0,
    "start_time": "2024-10-05T17:25:48.751Z"
   },
   {
    "duration": 0,
    "start_time": "2024-10-05T17:25:48.752Z"
   },
   {
    "duration": 0,
    "start_time": "2024-10-05T17:25:48.754Z"
   },
   {
    "duration": 0,
    "start_time": "2024-10-05T17:25:48.755Z"
   },
   {
    "duration": 0,
    "start_time": "2024-10-05T17:25:48.757Z"
   },
   {
    "duration": 0,
    "start_time": "2024-10-05T17:25:48.758Z"
   },
   {
    "duration": 0,
    "start_time": "2024-10-05T17:25:48.760Z"
   },
   {
    "duration": 0,
    "start_time": "2024-10-05T17:25:48.761Z"
   },
   {
    "duration": 0,
    "start_time": "2024-10-05T17:25:48.823Z"
   },
   {
    "duration": 0,
    "start_time": "2024-10-05T17:25:48.824Z"
   },
   {
    "duration": 0,
    "start_time": "2024-10-05T17:25:48.826Z"
   },
   {
    "duration": 0,
    "start_time": "2024-10-05T17:25:48.827Z"
   },
   {
    "duration": 0,
    "start_time": "2024-10-05T17:25:48.828Z"
   },
   {
    "duration": 0,
    "start_time": "2024-10-05T17:25:48.829Z"
   },
   {
    "duration": 18,
    "start_time": "2024-10-05T17:26:12.832Z"
   },
   {
    "duration": 16,
    "start_time": "2024-10-05T17:27:15.013Z"
   },
   {
    "duration": 7,
    "start_time": "2024-10-05T17:29:27.392Z"
   },
   {
    "duration": 5,
    "start_time": "2024-10-05T17:31:34.315Z"
   },
   {
    "duration": 4,
    "start_time": "2024-10-05T17:32:18.352Z"
   },
   {
    "duration": 4,
    "start_time": "2024-10-05T17:32:35.374Z"
   },
   {
    "duration": 818,
    "start_time": "2024-10-05T17:32:43.184Z"
   },
   {
    "duration": 29,
    "start_time": "2024-10-05T17:32:44.003Z"
   },
   {
    "duration": 12,
    "start_time": "2024-10-05T17:32:44.033Z"
   },
   {
    "duration": 3,
    "start_time": "2024-10-05T17:32:44.047Z"
   },
   {
    "duration": 15,
    "start_time": "2024-10-05T17:32:44.052Z"
   },
   {
    "duration": 10,
    "start_time": "2024-10-05T17:32:44.069Z"
   },
   {
    "duration": 12,
    "start_time": "2024-10-05T17:32:44.080Z"
   },
   {
    "duration": 41,
    "start_time": "2024-10-05T17:32:44.094Z"
   },
   {
    "duration": 18,
    "start_time": "2024-10-05T17:32:44.136Z"
   },
   {
    "duration": 7,
    "start_time": "2024-10-05T17:32:44.157Z"
   },
   {
    "duration": 3,
    "start_time": "2024-10-05T17:32:44.166Z"
   },
   {
    "duration": 9,
    "start_time": "2024-10-05T17:32:44.171Z"
   },
   {
    "duration": 3,
    "start_time": "2024-10-05T17:32:44.182Z"
   },
   {
    "duration": 39,
    "start_time": "2024-10-05T17:32:44.186Z"
   },
   {
    "duration": 4,
    "start_time": "2024-10-05T17:32:44.227Z"
   },
   {
    "duration": 5,
    "start_time": "2024-10-05T17:32:44.232Z"
   },
   {
    "duration": 3,
    "start_time": "2024-10-05T17:32:44.238Z"
   },
   {
    "duration": 3,
    "start_time": "2024-10-05T17:32:44.242Z"
   },
   {
    "duration": 7,
    "start_time": "2024-10-05T17:32:44.246Z"
   },
   {
    "duration": 4,
    "start_time": "2024-10-05T17:32:44.254Z"
   },
   {
    "duration": 3,
    "start_time": "2024-10-05T17:32:44.260Z"
   },
   {
    "duration": 3,
    "start_time": "2024-10-05T17:32:44.264Z"
   },
   {
    "duration": 3,
    "start_time": "2024-10-05T17:32:44.269Z"
   },
   {
    "duration": 58,
    "start_time": "2024-10-05T17:32:44.273Z"
   },
   {
    "duration": 8,
    "start_time": "2024-10-05T17:32:44.333Z"
   },
   {
    "duration": 9,
    "start_time": "2024-10-05T17:32:44.343Z"
   },
   {
    "duration": 6,
    "start_time": "2024-10-05T17:32:44.354Z"
   },
   {
    "duration": 9,
    "start_time": "2024-10-05T17:32:44.365Z"
   },
   {
    "duration": 5,
    "start_time": "2024-10-05T17:32:44.376Z"
   },
   {
    "duration": 43,
    "start_time": "2024-10-05T17:32:44.382Z"
   },
   {
    "duration": 5,
    "start_time": "2024-10-05T17:32:44.427Z"
   },
   {
    "duration": 4,
    "start_time": "2024-10-05T17:32:44.434Z"
   },
   {
    "duration": 195,
    "start_time": "2024-10-05T17:32:44.440Z"
   },
   {
    "duration": 8,
    "start_time": "2024-10-05T17:32:44.636Z"
   },
   {
    "duration": 1189,
    "start_time": "2024-10-05T17:32:44.645Z"
   },
   {
    "duration": 0,
    "start_time": "2024-10-05T17:32:45.837Z"
   },
   {
    "duration": 0,
    "start_time": "2024-10-05T17:32:45.838Z"
   },
   {
    "duration": 0,
    "start_time": "2024-10-05T17:32:45.839Z"
   },
   {
    "duration": 0,
    "start_time": "2024-10-05T17:32:45.839Z"
   },
   {
    "duration": 0,
    "start_time": "2024-10-05T17:32:45.840Z"
   },
   {
    "duration": 1,
    "start_time": "2024-10-05T17:32:45.841Z"
   },
   {
    "duration": 0,
    "start_time": "2024-10-05T17:32:45.843Z"
   },
   {
    "duration": 0,
    "start_time": "2024-10-05T17:32:45.844Z"
   },
   {
    "duration": 0,
    "start_time": "2024-10-05T17:32:45.845Z"
   },
   {
    "duration": 0,
    "start_time": "2024-10-05T17:32:45.845Z"
   },
   {
    "duration": 0,
    "start_time": "2024-10-05T17:32:45.847Z"
   },
   {
    "duration": 0,
    "start_time": "2024-10-05T17:32:45.848Z"
   },
   {
    "duration": 0,
    "start_time": "2024-10-05T17:32:45.849Z"
   },
   {
    "duration": 0,
    "start_time": "2024-10-05T17:32:45.851Z"
   },
   {
    "duration": 0,
    "start_time": "2024-10-05T17:32:45.852Z"
   },
   {
    "duration": 0,
    "start_time": "2024-10-05T17:32:45.853Z"
   },
   {
    "duration": 0,
    "start_time": "2024-10-05T17:32:45.854Z"
   },
   {
    "duration": 0,
    "start_time": "2024-10-05T17:32:45.855Z"
   },
   {
    "duration": 0,
    "start_time": "2024-10-05T17:32:45.856Z"
   },
   {
    "duration": 0,
    "start_time": "2024-10-05T17:32:45.857Z"
   },
   {
    "duration": 0,
    "start_time": "2024-10-05T17:32:45.861Z"
   },
   {
    "duration": 0,
    "start_time": "2024-10-05T17:32:45.862Z"
   },
   {
    "duration": 0,
    "start_time": "2024-10-05T17:32:45.864Z"
   },
   {
    "duration": 0,
    "start_time": "2024-10-05T17:32:45.865Z"
   },
   {
    "duration": 0,
    "start_time": "2024-10-05T17:32:45.867Z"
   },
   {
    "duration": 0,
    "start_time": "2024-10-05T17:32:45.868Z"
   },
   {
    "duration": 0,
    "start_time": "2024-10-05T17:32:45.870Z"
   },
   {
    "duration": 0,
    "start_time": "2024-10-05T17:32:45.872Z"
   },
   {
    "duration": 0,
    "start_time": "2024-10-05T17:32:45.873Z"
   },
   {
    "duration": 0,
    "start_time": "2024-10-05T17:32:45.873Z"
   },
   {
    "duration": 0,
    "start_time": "2024-10-05T17:32:45.874Z"
   },
   {
    "duration": 0,
    "start_time": "2024-10-05T17:32:45.874Z"
   },
   {
    "duration": 0,
    "start_time": "2024-10-05T17:32:45.875Z"
   },
   {
    "duration": 0,
    "start_time": "2024-10-05T17:32:45.924Z"
   },
   {
    "duration": 0,
    "start_time": "2024-10-05T17:32:45.925Z"
   },
   {
    "duration": 0,
    "start_time": "2024-10-05T17:32:45.927Z"
   },
   {
    "duration": 0,
    "start_time": "2024-10-05T17:32:45.928Z"
   },
   {
    "duration": 0,
    "start_time": "2024-10-05T17:32:45.930Z"
   },
   {
    "duration": 0,
    "start_time": "2024-10-05T17:32:45.931Z"
   },
   {
    "duration": 0,
    "start_time": "2024-10-05T17:32:45.933Z"
   },
   {
    "duration": 0,
    "start_time": "2024-10-05T17:32:45.934Z"
   },
   {
    "duration": 0,
    "start_time": "2024-10-05T17:32:45.936Z"
   },
   {
    "duration": 0,
    "start_time": "2024-10-05T17:32:45.937Z"
   },
   {
    "duration": 4,
    "start_time": "2024-10-05T17:34:15.731Z"
   },
   {
    "duration": 8,
    "start_time": "2024-10-05T17:34:18.931Z"
   },
   {
    "duration": 19,
    "start_time": "2024-10-05T17:34:23.377Z"
   },
   {
    "duration": 19,
    "start_time": "2024-10-05T17:34:26.277Z"
   },
   {
    "duration": 18,
    "start_time": "2024-10-05T17:34:29.147Z"
   },
   {
    "duration": 20,
    "start_time": "2024-10-05T17:34:44.476Z"
   },
   {
    "duration": 11,
    "start_time": "2024-10-05T17:34:50.746Z"
   },
   {
    "duration": 4,
    "start_time": "2024-10-05T17:34:55.398Z"
   },
   {
    "duration": 16,
    "start_time": "2024-10-05T17:34:59.073Z"
   },
   {
    "duration": 11,
    "start_time": "2024-10-05T17:35:04.792Z"
   },
   {
    "duration": 11,
    "start_time": "2024-10-05T17:35:18.836Z"
   },
   {
    "duration": 14,
    "start_time": "2024-10-05T17:36:35.636Z"
   },
   {
    "duration": 19,
    "start_time": "2024-10-05T17:36:44.720Z"
   },
   {
    "duration": 19,
    "start_time": "2024-10-05T17:39:40.232Z"
   },
   {
    "duration": 8,
    "start_time": "2024-10-05T17:39:42.542Z"
   },
   {
    "duration": 4,
    "start_time": "2024-10-05T17:39:51.268Z"
   },
   {
    "duration": 5,
    "start_time": "2024-10-05T17:40:52.851Z"
   },
   {
    "duration": 9,
    "start_time": "2024-10-05T17:42:00.511Z"
   },
   {
    "duration": 4,
    "start_time": "2024-10-05T17:42:25.371Z"
   },
   {
    "duration": 3,
    "start_time": "2024-10-05T17:42:28.971Z"
   },
   {
    "duration": 3,
    "start_time": "2024-10-05T17:43:48.827Z"
   },
   {
    "duration": 546,
    "start_time": "2024-10-05T17:44:10.536Z"
   },
   {
    "duration": 46,
    "start_time": "2024-10-05T17:44:46.027Z"
   },
   {
    "duration": 5,
    "start_time": "2024-10-05T17:46:52.052Z"
   },
   {
    "duration": 46,
    "start_time": "2024-10-05T17:46:52.296Z"
   },
   {
    "duration": 5,
    "start_time": "2024-10-05T17:47:09.108Z"
   },
   {
    "duration": 48,
    "start_time": "2024-10-05T17:47:09.682Z"
   },
   {
    "duration": 478,
    "start_time": "2024-10-05T17:48:40.691Z"
   },
   {
    "duration": 22,
    "start_time": "2024-10-05T17:48:54.052Z"
   },
   {
    "duration": 47,
    "start_time": "2024-10-05T17:48:57.011Z"
   },
   {
    "duration": 8,
    "start_time": "2024-10-05T17:49:45.471Z"
   },
   {
    "duration": 5,
    "start_time": "2024-10-05T17:49:55.712Z"
   },
   {
    "duration": 8,
    "start_time": "2024-10-05T17:49:57.128Z"
   },
   {
    "duration": 5,
    "start_time": "2024-10-05T17:50:00.411Z"
   },
   {
    "duration": 7,
    "start_time": "2024-10-05T17:51:15.671Z"
   },
   {
    "duration": 8,
    "start_time": "2024-10-05T17:51:16.016Z"
   },
   {
    "duration": 3,
    "start_time": "2024-10-05T17:51:16.662Z"
   },
   {
    "duration": 12,
    "start_time": "2024-10-05T17:51:32.441Z"
   },
   {
    "duration": 9,
    "start_time": "2024-10-05T17:51:40.111Z"
   },
   {
    "duration": 11,
    "start_time": "2024-10-05T17:51:42.991Z"
   },
   {
    "duration": 8,
    "start_time": "2024-10-05T17:52:06.256Z"
   },
   {
    "duration": 158,
    "start_time": "2024-10-06T13:29:06.760Z"
   },
   {
    "duration": 2564,
    "start_time": "2024-10-06T13:29:15.457Z"
   },
   {
    "duration": 49,
    "start_time": "2024-10-06T13:29:18.028Z"
   },
   {
    "duration": 15,
    "start_time": "2024-10-06T13:29:18.079Z"
   },
   {
    "duration": 4,
    "start_time": "2024-10-06T13:29:18.097Z"
   },
   {
    "duration": 23,
    "start_time": "2024-10-06T13:29:18.103Z"
   },
   {
    "duration": 14,
    "start_time": "2024-10-06T13:29:18.128Z"
   },
   {
    "duration": 15,
    "start_time": "2024-10-06T13:29:18.144Z"
   },
   {
    "duration": 18,
    "start_time": "2024-10-06T13:29:18.161Z"
   },
   {
    "duration": 42,
    "start_time": "2024-10-06T13:29:18.181Z"
   },
   {
    "duration": 8,
    "start_time": "2024-10-06T13:29:18.226Z"
   },
   {
    "duration": 4,
    "start_time": "2024-10-06T13:29:18.235Z"
   },
   {
    "duration": 9,
    "start_time": "2024-10-06T13:29:18.241Z"
   },
   {
    "duration": 5,
    "start_time": "2024-10-06T13:29:18.251Z"
   },
   {
    "duration": 5,
    "start_time": "2024-10-06T13:29:18.258Z"
   },
   {
    "duration": 4,
    "start_time": "2024-10-06T13:29:18.265Z"
   },
   {
    "duration": 111,
    "start_time": "2024-10-06T13:29:18.270Z"
   },
   {
    "duration": 0,
    "start_time": "2024-10-06T13:29:18.384Z"
   },
   {
    "duration": 0,
    "start_time": "2024-10-06T13:29:18.386Z"
   },
   {
    "duration": 0,
    "start_time": "2024-10-06T13:29:18.387Z"
   },
   {
    "duration": 0,
    "start_time": "2024-10-06T13:29:18.389Z"
   },
   {
    "duration": 0,
    "start_time": "2024-10-06T13:29:18.390Z"
   },
   {
    "duration": 0,
    "start_time": "2024-10-06T13:29:18.392Z"
   },
   {
    "duration": 0,
    "start_time": "2024-10-06T13:29:18.408Z"
   },
   {
    "duration": 0,
    "start_time": "2024-10-06T13:29:18.409Z"
   },
   {
    "duration": 0,
    "start_time": "2024-10-06T13:29:18.410Z"
   },
   {
    "duration": 0,
    "start_time": "2024-10-06T13:29:18.412Z"
   },
   {
    "duration": 0,
    "start_time": "2024-10-06T13:29:18.413Z"
   },
   {
    "duration": 0,
    "start_time": "2024-10-06T13:29:18.414Z"
   },
   {
    "duration": 0,
    "start_time": "2024-10-06T13:29:18.415Z"
   },
   {
    "duration": 0,
    "start_time": "2024-10-06T13:29:18.416Z"
   },
   {
    "duration": 0,
    "start_time": "2024-10-06T13:29:18.417Z"
   },
   {
    "duration": 0,
    "start_time": "2024-10-06T13:29:18.418Z"
   },
   {
    "duration": 0,
    "start_time": "2024-10-06T13:29:18.419Z"
   },
   {
    "duration": 0,
    "start_time": "2024-10-06T13:29:18.420Z"
   },
   {
    "duration": 0,
    "start_time": "2024-10-06T13:29:18.421Z"
   },
   {
    "duration": 0,
    "start_time": "2024-10-06T13:29:18.422Z"
   },
   {
    "duration": 0,
    "start_time": "2024-10-06T13:29:18.423Z"
   },
   {
    "duration": 0,
    "start_time": "2024-10-06T13:29:18.424Z"
   },
   {
    "duration": 0,
    "start_time": "2024-10-06T13:29:18.425Z"
   },
   {
    "duration": 0,
    "start_time": "2024-10-06T13:29:18.426Z"
   },
   {
    "duration": 0,
    "start_time": "2024-10-06T13:29:18.427Z"
   },
   {
    "duration": 0,
    "start_time": "2024-10-06T13:29:18.428Z"
   },
   {
    "duration": 0,
    "start_time": "2024-10-06T13:29:18.429Z"
   },
   {
    "duration": 0,
    "start_time": "2024-10-06T13:29:18.431Z"
   },
   {
    "duration": 0,
    "start_time": "2024-10-06T13:29:18.434Z"
   },
   {
    "duration": 0,
    "start_time": "2024-10-06T13:29:18.435Z"
   },
   {
    "duration": 0,
    "start_time": "2024-10-06T13:29:18.436Z"
   },
   {
    "duration": 0,
    "start_time": "2024-10-06T13:29:18.437Z"
   },
   {
    "duration": 0,
    "start_time": "2024-10-06T13:29:18.439Z"
   },
   {
    "duration": 0,
    "start_time": "2024-10-06T13:29:18.440Z"
   },
   {
    "duration": 0,
    "start_time": "2024-10-06T13:29:18.441Z"
   },
   {
    "duration": 0,
    "start_time": "2024-10-06T13:29:18.442Z"
   },
   {
    "duration": 0,
    "start_time": "2024-10-06T13:29:18.443Z"
   },
   {
    "duration": 0,
    "start_time": "2024-10-06T13:29:18.444Z"
   },
   {
    "duration": 0,
    "start_time": "2024-10-06T13:29:18.444Z"
   },
   {
    "duration": 0,
    "start_time": "2024-10-06T13:29:18.446Z"
   },
   {
    "duration": 0,
    "start_time": "2024-10-06T13:29:18.446Z"
   },
   {
    "duration": 0,
    "start_time": "2024-10-06T13:29:18.447Z"
   },
   {
    "duration": 0,
    "start_time": "2024-10-06T13:29:18.448Z"
   },
   {
    "duration": 0,
    "start_time": "2024-10-06T13:29:18.510Z"
   },
   {
    "duration": 0,
    "start_time": "2024-10-06T13:29:18.511Z"
   },
   {
    "duration": 0,
    "start_time": "2024-10-06T13:29:18.512Z"
   },
   {
    "duration": 0,
    "start_time": "2024-10-06T13:29:18.513Z"
   },
   {
    "duration": 0,
    "start_time": "2024-10-06T13:29:18.514Z"
   },
   {
    "duration": 0,
    "start_time": "2024-10-06T13:29:18.515Z"
   },
   {
    "duration": 0,
    "start_time": "2024-10-06T13:29:18.516Z"
   },
   {
    "duration": 0,
    "start_time": "2024-10-06T13:29:18.517Z"
   },
   {
    "duration": 0,
    "start_time": "2024-10-06T13:29:18.518Z"
   },
   {
    "duration": 0,
    "start_time": "2024-10-06T13:29:18.627Z"
   },
   {
    "duration": 0,
    "start_time": "2024-10-06T13:29:18.628Z"
   },
   {
    "duration": 0,
    "start_time": "2024-10-06T13:29:18.629Z"
   },
   {
    "duration": 0,
    "start_time": "2024-10-06T13:29:18.632Z"
   },
   {
    "duration": 0,
    "start_time": "2024-10-06T13:29:18.634Z"
   },
   {
    "duration": 0,
    "start_time": "2024-10-06T13:29:18.635Z"
   },
   {
    "duration": 0,
    "start_time": "2024-10-06T13:29:18.636Z"
   },
   {
    "duration": 0,
    "start_time": "2024-10-06T13:29:18.637Z"
   },
   {
    "duration": 0,
    "start_time": "2024-10-06T13:29:18.638Z"
   },
   {
    "duration": 0,
    "start_time": "2024-10-06T13:29:18.639Z"
   },
   {
    "duration": 808,
    "start_time": "2024-10-06T13:29:39.103Z"
   },
   {
    "duration": 23,
    "start_time": "2024-10-06T13:29:39.913Z"
   },
   {
    "duration": 14,
    "start_time": "2024-10-06T13:29:39.937Z"
   },
   {
    "duration": 3,
    "start_time": "2024-10-06T13:29:39.953Z"
   },
   {
    "duration": 17,
    "start_time": "2024-10-06T13:29:39.957Z"
   },
   {
    "duration": 37,
    "start_time": "2024-10-06T13:29:39.976Z"
   },
   {
    "duration": 12,
    "start_time": "2024-10-06T13:29:40.015Z"
   },
   {
    "duration": 14,
    "start_time": "2024-10-06T13:29:40.029Z"
   },
   {
    "duration": 19,
    "start_time": "2024-10-06T13:29:40.047Z"
   },
   {
    "duration": 7,
    "start_time": "2024-10-06T13:29:40.070Z"
   },
   {
    "duration": 33,
    "start_time": "2024-10-06T13:29:40.078Z"
   },
   {
    "duration": 9,
    "start_time": "2024-10-06T13:29:40.113Z"
   },
   {
    "duration": 4,
    "start_time": "2024-10-06T13:29:40.123Z"
   },
   {
    "duration": 5,
    "start_time": "2024-10-06T13:29:40.129Z"
   },
   {
    "duration": 5,
    "start_time": "2024-10-06T13:29:40.135Z"
   },
   {
    "duration": 305,
    "start_time": "2024-10-06T13:29:40.141Z"
   },
   {
    "duration": 0,
    "start_time": "2024-10-06T13:29:40.450Z"
   },
   {
    "duration": 0,
    "start_time": "2024-10-06T13:29:40.451Z"
   },
   {
    "duration": 0,
    "start_time": "2024-10-06T13:29:40.453Z"
   },
   {
    "duration": 0,
    "start_time": "2024-10-06T13:29:40.454Z"
   },
   {
    "duration": 0,
    "start_time": "2024-10-06T13:29:40.456Z"
   },
   {
    "duration": 0,
    "start_time": "2024-10-06T13:29:40.457Z"
   },
   {
    "duration": 0,
    "start_time": "2024-10-06T13:29:40.458Z"
   },
   {
    "duration": 0,
    "start_time": "2024-10-06T13:29:40.459Z"
   },
   {
    "duration": 0,
    "start_time": "2024-10-06T13:29:40.460Z"
   },
   {
    "duration": 0,
    "start_time": "2024-10-06T13:29:40.461Z"
   },
   {
    "duration": 0,
    "start_time": "2024-10-06T13:29:40.462Z"
   },
   {
    "duration": 0,
    "start_time": "2024-10-06T13:29:40.463Z"
   },
   {
    "duration": 0,
    "start_time": "2024-10-06T13:29:40.465Z"
   },
   {
    "duration": 0,
    "start_time": "2024-10-06T13:29:40.467Z"
   },
   {
    "duration": 0,
    "start_time": "2024-10-06T13:29:40.468Z"
   },
   {
    "duration": 0,
    "start_time": "2024-10-06T13:29:40.469Z"
   },
   {
    "duration": 0,
    "start_time": "2024-10-06T13:29:40.470Z"
   },
   {
    "duration": 0,
    "start_time": "2024-10-06T13:29:40.471Z"
   },
   {
    "duration": 0,
    "start_time": "2024-10-06T13:29:40.472Z"
   },
   {
    "duration": 0,
    "start_time": "2024-10-06T13:29:40.508Z"
   },
   {
    "duration": 0,
    "start_time": "2024-10-06T13:29:40.509Z"
   },
   {
    "duration": 0,
    "start_time": "2024-10-06T13:29:40.510Z"
   },
   {
    "duration": 0,
    "start_time": "2024-10-06T13:29:40.511Z"
   },
   {
    "duration": 0,
    "start_time": "2024-10-06T13:29:40.512Z"
   },
   {
    "duration": 0,
    "start_time": "2024-10-06T13:29:40.513Z"
   },
   {
    "duration": 0,
    "start_time": "2024-10-06T13:29:40.515Z"
   },
   {
    "duration": 0,
    "start_time": "2024-10-06T13:29:40.516Z"
   },
   {
    "duration": 0,
    "start_time": "2024-10-06T13:29:40.517Z"
   },
   {
    "duration": 0,
    "start_time": "2024-10-06T13:29:40.518Z"
   },
   {
    "duration": 1,
    "start_time": "2024-10-06T13:29:40.518Z"
   },
   {
    "duration": 0,
    "start_time": "2024-10-06T13:29:40.520Z"
   },
   {
    "duration": 0,
    "start_time": "2024-10-06T13:29:40.521Z"
   },
   {
    "duration": 0,
    "start_time": "2024-10-06T13:29:40.522Z"
   },
   {
    "duration": 0,
    "start_time": "2024-10-06T13:29:40.523Z"
   },
   {
    "duration": 0,
    "start_time": "2024-10-06T13:29:40.525Z"
   },
   {
    "duration": 0,
    "start_time": "2024-10-06T13:29:40.526Z"
   },
   {
    "duration": 0,
    "start_time": "2024-10-06T13:29:40.528Z"
   },
   {
    "duration": 0,
    "start_time": "2024-10-06T13:29:40.530Z"
   },
   {
    "duration": 0,
    "start_time": "2024-10-06T13:29:40.531Z"
   },
   {
    "duration": 0,
    "start_time": "2024-10-06T13:29:40.532Z"
   },
   {
    "duration": 0,
    "start_time": "2024-10-06T13:29:40.534Z"
   },
   {
    "duration": 0,
    "start_time": "2024-10-06T13:29:40.535Z"
   },
   {
    "duration": 0,
    "start_time": "2024-10-06T13:29:40.536Z"
   },
   {
    "duration": 0,
    "start_time": "2024-10-06T13:29:40.537Z"
   },
   {
    "duration": 0,
    "start_time": "2024-10-06T13:29:40.538Z"
   },
   {
    "duration": 0,
    "start_time": "2024-10-06T13:29:40.539Z"
   },
   {
    "duration": 0,
    "start_time": "2024-10-06T13:29:40.540Z"
   },
   {
    "duration": 0,
    "start_time": "2024-10-06T13:29:40.541Z"
   },
   {
    "duration": 0,
    "start_time": "2024-10-06T13:29:40.543Z"
   },
   {
    "duration": 0,
    "start_time": "2024-10-06T13:29:40.544Z"
   },
   {
    "duration": 0,
    "start_time": "2024-10-06T13:29:40.545Z"
   },
   {
    "duration": 0,
    "start_time": "2024-10-06T13:29:40.546Z"
   },
   {
    "duration": 0,
    "start_time": "2024-10-06T13:29:40.547Z"
   },
   {
    "duration": 0,
    "start_time": "2024-10-06T13:29:40.548Z"
   },
   {
    "duration": 0,
    "start_time": "2024-10-06T13:29:40.610Z"
   },
   {
    "duration": 0,
    "start_time": "2024-10-06T13:29:40.612Z"
   },
   {
    "duration": 0,
    "start_time": "2024-10-06T13:29:40.614Z"
   },
   {
    "duration": 0,
    "start_time": "2024-10-06T13:29:40.615Z"
   },
   {
    "duration": 0,
    "start_time": "2024-10-06T13:29:40.615Z"
   },
   {
    "duration": 0,
    "start_time": "2024-10-06T13:29:40.617Z"
   },
   {
    "duration": 0,
    "start_time": "2024-10-06T13:29:40.618Z"
   },
   {
    "duration": 0,
    "start_time": "2024-10-06T13:29:40.619Z"
   },
   {
    "duration": 3,
    "start_time": "2024-10-06T13:30:53.053Z"
   },
   {
    "duration": 25,
    "start_time": "2024-10-06T13:30:53.714Z"
   },
   {
    "duration": 11,
    "start_time": "2024-10-06T13:30:54.240Z"
   },
   {
    "duration": 3,
    "start_time": "2024-10-06T13:30:54.416Z"
   },
   {
    "duration": 16,
    "start_time": "2024-10-06T13:30:54.641Z"
   },
   {
    "duration": 11,
    "start_time": "2024-10-06T13:30:54.827Z"
   },
   {
    "duration": 13,
    "start_time": "2024-10-06T13:30:54.983Z"
   },
   {
    "duration": 15,
    "start_time": "2024-10-06T13:30:55.300Z"
   },
   {
    "duration": 20,
    "start_time": "2024-10-06T13:30:55.477Z"
   },
   {
    "duration": 10,
    "start_time": "2024-10-06T13:30:55.955Z"
   },
   {
    "duration": 4,
    "start_time": "2024-10-06T13:30:56.118Z"
   },
   {
    "duration": 10,
    "start_time": "2024-10-06T13:30:56.727Z"
   },
   {
    "duration": 5,
    "start_time": "2024-10-06T13:30:58.284Z"
   },
   {
    "duration": 5,
    "start_time": "2024-10-06T13:30:58.838Z"
   },
   {
    "duration": 4,
    "start_time": "2024-10-06T13:30:59.159Z"
   },
   {
    "duration": 8,
    "start_time": "2024-10-06T13:30:59.901Z"
   },
   {
    "duration": 4,
    "start_time": "2024-10-06T13:31:00.150Z"
   },
   {
    "duration": 3,
    "start_time": "2024-10-06T13:31:00.577Z"
   },
   {
    "duration": 9,
    "start_time": "2024-10-06T13:31:04.600Z"
   },
   {
    "duration": 7,
    "start_time": "2024-10-06T13:31:05.276Z"
   },
   {
    "duration": 4,
    "start_time": "2024-10-06T13:31:06.142Z"
   },
   {
    "duration": 11,
    "start_time": "2024-10-06T13:31:06.661Z"
   },
   {
    "duration": 9,
    "start_time": "2024-10-06T13:31:07.167Z"
   },
   {
    "duration": 11,
    "start_time": "2024-10-06T13:31:09.437Z"
   },
   {
    "duration": 7,
    "start_time": "2024-10-06T13:31:09.913Z"
   },
   {
    "duration": 12,
    "start_time": "2024-10-06T13:31:10.344Z"
   },
   {
    "duration": 5,
    "start_time": "2024-10-06T13:31:10.864Z"
   },
   {
    "duration": 11,
    "start_time": "2024-10-06T13:31:12.255Z"
   },
   {
    "duration": 6,
    "start_time": "2024-10-06T13:31:12.766Z"
   },
   {
    "duration": 4,
    "start_time": "2024-10-06T13:31:13.390Z"
   },
   {
    "duration": 182,
    "start_time": "2024-10-06T13:31:14.442Z"
   },
   {
    "duration": 9,
    "start_time": "2024-10-06T13:31:27.851Z"
   },
   {
    "duration": 8,
    "start_time": "2024-10-06T13:32:04.850Z"
   },
   {
    "duration": 941,
    "start_time": "2024-10-06T13:32:10.873Z"
   },
   {
    "duration": 81,
    "start_time": "2024-10-06T13:32:40.560Z"
   },
   {
    "duration": 8,
    "start_time": "2024-10-06T13:33:15.870Z"
   },
   {
    "duration": 6,
    "start_time": "2024-10-06T13:33:48.376Z"
   },
   {
    "duration": 4,
    "start_time": "2024-10-06T13:34:04.732Z"
   },
   {
    "duration": 6,
    "start_time": "2024-10-06T13:35:11.213Z"
   },
   {
    "duration": 4,
    "start_time": "2024-10-06T13:35:13.133Z"
   },
   {
    "duration": 8,
    "start_time": "2024-10-06T13:35:26.498Z"
   },
   {
    "duration": 11,
    "start_time": "2024-10-06T13:37:06.683Z"
   },
   {
    "duration": 6,
    "start_time": "2024-10-06T13:37:22.527Z"
   },
   {
    "duration": 7,
    "start_time": "2024-10-06T13:37:25.586Z"
   },
   {
    "duration": 49,
    "start_time": "2024-10-06T13:37:37.586Z"
   },
   {
    "duration": 6,
    "start_time": "2024-10-06T13:38:02.608Z"
   },
   {
    "duration": 468,
    "start_time": "2024-10-06T13:38:06.951Z"
   },
   {
    "duration": 4199,
    "start_time": "2024-10-06T13:40:20.584Z"
   },
   {
    "duration": 4246,
    "start_time": "2024-10-06T13:41:07.386Z"
   },
   {
    "duration": 4116,
    "start_time": "2024-10-06T13:41:27.568Z"
   },
   {
    "duration": 3,
    "start_time": "2024-10-06T13:42:00.880Z"
   },
   {
    "duration": 6,
    "start_time": "2024-10-06T13:42:01.707Z"
   },
   {
    "duration": 5,
    "start_time": "2024-10-06T13:42:02.530Z"
   },
   {
    "duration": 4,
    "start_time": "2024-10-06T13:43:29.427Z"
   },
   {
    "duration": 629,
    "start_time": "2024-10-06T13:43:30.199Z"
   },
   {
    "duration": 5,
    "start_time": "2024-10-06T13:43:30.956Z"
   },
   {
    "duration": 4,
    "start_time": "2024-10-06T13:43:56.218Z"
   },
   {
    "duration": 4,
    "start_time": "2024-10-06T13:43:57.569Z"
   },
   {
    "duration": 4,
    "start_time": "2024-10-06T13:44:08.333Z"
   },
   {
    "duration": 4,
    "start_time": "2024-10-06T13:44:25.875Z"
   },
   {
    "duration": 18,
    "start_time": "2024-10-06T13:44:28.725Z"
   },
   {
    "duration": 13,
    "start_time": "2024-10-06T13:44:34.393Z"
   },
   {
    "duration": 24,
    "start_time": "2024-10-06T13:44:37.756Z"
   },
   {
    "duration": 520,
    "start_time": "2024-10-06T13:44:41.386Z"
   },
   {
    "duration": 15,
    "start_time": "2024-10-06T13:44:46.931Z"
   },
   {
    "duration": 3,
    "start_time": "2024-10-06T13:44:49.728Z"
   },
   {
    "duration": 7,
    "start_time": "2024-10-06T13:44:51.140Z"
   },
   {
    "duration": 6,
    "start_time": "2024-10-06T13:44:55.776Z"
   },
   {
    "duration": 5,
    "start_time": "2024-10-06T13:45:44.911Z"
   },
   {
    "duration": 3,
    "start_time": "2024-10-06T13:51:20.687Z"
   },
   {
    "duration": 7,
    "start_time": "2024-10-06T13:51:21.261Z"
   },
   {
    "duration": 15,
    "start_time": "2024-10-06T13:51:36.488Z"
   },
   {
    "duration": 7,
    "start_time": "2024-10-06T13:51:37.918Z"
   },
   {
    "duration": 6,
    "start_time": "2024-10-06T13:51:49.541Z"
   },
   {
    "duration": 605,
    "start_time": "2024-10-06T13:55:58.928Z"
   },
   {
    "duration": 412,
    "start_time": "2024-10-06T13:56:08.197Z"
   },
   {
    "duration": 17,
    "start_time": "2024-10-06T14:01:41.635Z"
   },
   {
    "duration": 7,
    "start_time": "2024-10-06T14:01:43.439Z"
   },
   {
    "duration": 13,
    "start_time": "2024-10-06T14:01:56.216Z"
   },
   {
    "duration": 26,
    "start_time": "2024-10-06T14:01:56.824Z"
   },
   {
    "duration": 271,
    "start_time": "2024-10-06T14:01:59.912Z"
   },
   {
    "duration": 7,
    "start_time": "2024-10-06T14:02:11.535Z"
   },
   {
    "duration": 498,
    "start_time": "2024-10-06T14:02:13.220Z"
   },
   {
    "duration": 18,
    "start_time": "2024-10-06T14:02:15.851Z"
   },
   {
    "duration": 19,
    "start_time": "2024-10-06T14:02:16.563Z"
   },
   {
    "duration": 168,
    "start_time": "2024-10-06T14:02:17.463Z"
   },
   {
    "duration": 126,
    "start_time": "2024-10-06T14:02:18.556Z"
   },
   {
    "duration": 137,
    "start_time": "2024-10-06T14:02:20.226Z"
   },
   {
    "duration": 187,
    "start_time": "2024-10-06T14:02:21.106Z"
   },
   {
    "duration": 5,
    "start_time": "2024-10-06T14:02:22.743Z"
   },
   {
    "duration": 20,
    "start_time": "2024-10-06T14:02:23.282Z"
   },
   {
    "duration": 39,
    "start_time": "2024-10-06T14:02:24.266Z"
   },
   {
    "duration": 19,
    "start_time": "2024-10-06T14:05:54.364Z"
   },
   {
    "duration": 18,
    "start_time": "2024-10-06T14:06:58.552Z"
   },
   {
    "duration": 132,
    "start_time": "2024-10-06T14:07:32.404Z"
   },
   {
    "duration": 276,
    "start_time": "2024-10-06T14:07:38.704Z"
   },
   {
    "duration": 131,
    "start_time": "2024-10-06T14:08:43.618Z"
   },
   {
    "duration": 140,
    "start_time": "2024-10-06T14:08:59.487Z"
   },
   {
    "duration": 134,
    "start_time": "2024-10-06T14:09:39.261Z"
   },
   {
    "duration": 121,
    "start_time": "2024-10-06T14:09:40.737Z"
   },
   {
    "duration": 5,
    "start_time": "2024-10-06T14:10:24.323Z"
   },
   {
    "duration": 5,
    "start_time": "2024-10-06T14:10:24.668Z"
   },
   {
    "duration": 2,
    "start_time": "2024-10-06T14:12:34.493Z"
   },
   {
    "duration": 2,
    "start_time": "2024-10-06T14:12:40.634Z"
   },
   {
    "duration": 4,
    "start_time": "2024-10-06T14:20:02.731Z"
   },
   {
    "duration": 160,
    "start_time": "2024-10-06T14:20:05.309Z"
   },
   {
    "duration": 10,
    "start_time": "2024-10-06T14:22:00.527Z"
   },
   {
    "duration": 9,
    "start_time": "2024-10-06T14:22:22.744Z"
   },
   {
    "duration": 9,
    "start_time": "2024-10-06T14:23:27.551Z"
   },
   {
    "duration": 5,
    "start_time": "2024-10-06T14:23:58.957Z"
   },
   {
    "duration": 150,
    "start_time": "2024-10-06T14:47:15.421Z"
   },
   {
    "duration": 43,
    "start_time": "2024-10-06T14:47:25.188Z"
   },
   {
    "duration": 9,
    "start_time": "2024-10-06T14:48:00.888Z"
   },
   {
    "duration": 166,
    "start_time": "2024-10-06T14:48:21.337Z"
   },
   {
    "duration": 175,
    "start_time": "2024-10-06T14:48:57.235Z"
   },
   {
    "duration": 165,
    "start_time": "2024-10-06T14:51:38.758Z"
   },
   {
    "duration": 10,
    "start_time": "2024-10-06T14:52:59.540Z"
   },
   {
    "duration": 171,
    "start_time": "2024-10-06T14:53:08.649Z"
   },
   {
    "duration": 176,
    "start_time": "2024-10-06T14:53:33.786Z"
   },
   {
    "duration": 10,
    "start_time": "2024-10-06T14:55:08.448Z"
   },
   {
    "duration": 10,
    "start_time": "2024-10-06T14:55:44.594Z"
   },
   {
    "duration": 284,
    "start_time": "2024-10-06T15:05:51.471Z"
   },
   {
    "duration": 3,
    "start_time": "2024-10-06T15:11:51.164Z"
   },
   {
    "duration": 6,
    "start_time": "2024-10-06T15:11:51.536Z"
   },
   {
    "duration": 4,
    "start_time": "2024-10-06T15:11:51.891Z"
   },
   {
    "duration": 3,
    "start_time": "2024-10-06T15:11:52.353Z"
   },
   {
    "duration": 4,
    "start_time": "2024-10-06T15:11:52.830Z"
   },
   {
    "duration": 7,
    "start_time": "2024-10-06T15:11:53.286Z"
   },
   {
    "duration": 3,
    "start_time": "2024-10-06T15:11:53.681Z"
   },
   {
    "duration": 3,
    "start_time": "2024-10-06T15:11:54.086Z"
   },
   {
    "duration": 3,
    "start_time": "2024-10-06T15:11:54.782Z"
   },
   {
    "duration": 10,
    "start_time": "2024-10-06T15:38:31.395Z"
   },
   {
    "duration": 11,
    "start_time": "2024-10-06T15:38:33.533Z"
   },
   {
    "duration": 10,
    "start_time": "2024-10-06T15:38:57.031Z"
   },
   {
    "duration": 11,
    "start_time": "2024-10-06T15:39:05.284Z"
   },
   {
    "duration": 156,
    "start_time": "2024-10-06T23:47:49.770Z"
   },
   {
    "duration": 13,
    "start_time": "2024-10-06T23:47:55.929Z"
   },
   {
    "duration": 837,
    "start_time": "2024-10-06T23:48:06.824Z"
   },
   {
    "duration": 24,
    "start_time": "2024-10-06T23:48:07.662Z"
   },
   {
    "duration": 12,
    "start_time": "2024-10-06T23:48:07.974Z"
   },
   {
    "duration": 3,
    "start_time": "2024-10-06T23:48:08.286Z"
   },
   {
    "duration": 18,
    "start_time": "2024-10-06T23:48:08.553Z"
   },
   {
    "duration": 11,
    "start_time": "2024-10-06T23:48:08.910Z"
   },
   {
    "duration": 12,
    "start_time": "2024-10-06T23:48:09.211Z"
   },
   {
    "duration": 14,
    "start_time": "2024-10-06T23:48:09.799Z"
   },
   {
    "duration": 19,
    "start_time": "2024-10-06T23:48:10.152Z"
   },
   {
    "duration": 9,
    "start_time": "2024-10-06T23:48:11.028Z"
   },
   {
    "duration": 4,
    "start_time": "2024-10-06T23:48:11.349Z"
   },
   {
    "duration": 9,
    "start_time": "2024-10-06T23:48:12.184Z"
   },
   {
    "duration": 4,
    "start_time": "2024-10-06T23:48:13.045Z"
   },
   {
    "duration": 5,
    "start_time": "2024-10-06T23:48:13.213Z"
   },
   {
    "duration": 4,
    "start_time": "2024-10-06T23:48:13.398Z"
   },
   {
    "duration": 7,
    "start_time": "2024-10-06T23:48:13.883Z"
   },
   {
    "duration": 4,
    "start_time": "2024-10-06T23:48:14.263Z"
   },
   {
    "duration": 3,
    "start_time": "2024-10-06T23:48:14.435Z"
   },
   {
    "duration": 7,
    "start_time": "2024-10-06T23:48:15.137Z"
   },
   {
    "duration": 8,
    "start_time": "2024-10-06T23:48:15.507Z"
   },
   {
    "duration": 4,
    "start_time": "2024-10-06T23:48:15.686Z"
   },
   {
    "duration": 11,
    "start_time": "2024-10-06T23:48:15.930Z"
   },
   {
    "duration": 9,
    "start_time": "2024-10-06T23:48:16.125Z"
   },
   {
    "duration": 10,
    "start_time": "2024-10-06T23:48:17.264Z"
   },
   {
    "duration": 6,
    "start_time": "2024-10-06T23:48:17.434Z"
   },
   {
    "duration": 10,
    "start_time": "2024-10-06T23:48:17.655Z"
   },
   {
    "duration": 5,
    "start_time": "2024-10-06T23:48:17.995Z"
   },
   {
    "duration": 11,
    "start_time": "2024-10-06T23:48:19.014Z"
   },
   {
    "duration": 5,
    "start_time": "2024-10-06T23:48:19.232Z"
   },
   {
    "duration": 6,
    "start_time": "2024-10-06T23:48:19.812Z"
   },
   {
    "duration": 179,
    "start_time": "2024-10-06T23:48:20.263Z"
   },
   {
    "duration": 181,
    "start_time": "2024-10-06T23:48:26.580Z"
   },
   {
    "duration": 251,
    "start_time": "2024-10-06T23:48:30.581Z"
   },
   {
    "duration": 11,
    "start_time": "2024-10-06T23:48:46.472Z"
   },
   {
    "duration": 290,
    "start_time": "2024-10-06T23:48:50.406Z"
   },
   {
    "duration": 5,
    "start_time": "2024-10-06T23:48:58.065Z"
   },
   {
    "duration": 3,
    "start_time": "2024-10-06T23:49:00.059Z"
   },
   {
    "duration": 5,
    "start_time": "2024-10-06T23:49:00.698Z"
   },
   {
    "duration": 5,
    "start_time": "2024-10-06T23:49:03.061Z"
   },
   {
    "duration": 17,
    "start_time": "2024-10-06T23:49:03.836Z"
   },
   {
    "duration": 12,
    "start_time": "2024-10-06T23:49:06.101Z"
   },
   {
    "duration": 21,
    "start_time": "2024-10-06T23:49:10.521Z"
   },
   {
    "duration": 406,
    "start_time": "2024-10-06T23:49:14.857Z"
   },
   {
    "duration": 15,
    "start_time": "2024-10-06T23:49:18.698Z"
   },
   {
    "duration": 5,
    "start_time": "2024-10-06T23:49:59.901Z"
   },
   {
    "duration": 5,
    "start_time": "2024-10-06T23:50:08.211Z"
   },
   {
    "duration": 18,
    "start_time": "2024-10-06T23:50:14.925Z"
   },
   {
    "duration": 19,
    "start_time": "2024-10-06T23:52:37.817Z"
   },
   {
    "duration": 7,
    "start_time": "2024-10-06T23:52:42.330Z"
   },
   {
    "duration": 12,
    "start_time": "2024-10-06T23:53:05.298Z"
   },
   {
    "duration": 92,
    "start_time": "2024-10-06T23:53:09.028Z"
   },
   {
    "duration": 5,
    "start_time": "2024-10-06T23:53:31.962Z"
   },
   {
    "duration": 245,
    "start_time": "2024-10-06T23:53:40.939Z"
   },
   {
    "duration": 6,
    "start_time": "2024-10-06T23:53:42.944Z"
   },
   {
    "duration": 286,
    "start_time": "2024-10-06T23:53:44.378Z"
   },
   {
    "duration": 17,
    "start_time": "2024-10-06T23:53:56.209Z"
   },
   {
    "duration": 17,
    "start_time": "2024-10-06T23:53:57.019Z"
   },
   {
    "duration": 16,
    "start_time": "2024-10-06T23:54:01.786Z"
   },
   {
    "duration": 124,
    "start_time": "2024-10-06T23:54:07.688Z"
   },
   {
    "duration": 122,
    "start_time": "2024-10-06T23:54:08.929Z"
   },
   {
    "duration": 129,
    "start_time": "2024-10-06T23:54:10.944Z"
   },
   {
    "duration": 143,
    "start_time": "2024-10-06T23:54:12.287Z"
   },
   {
    "duration": 143,
    "start_time": "2024-10-06T23:54:34.333Z"
   },
   {
    "duration": 132,
    "start_time": "2024-10-06T23:54:53.438Z"
   },
   {
    "duration": 4,
    "start_time": "2024-10-06T23:54:59.059Z"
   },
   {
    "duration": 5,
    "start_time": "2024-10-06T23:54:59.500Z"
   },
   {
    "duration": 4,
    "start_time": "2024-10-06T23:54:59.888Z"
   },
   {
    "duration": 2,
    "start_time": "2024-10-06T23:55:00.697Z"
   },
   {
    "duration": 2,
    "start_time": "2024-10-06T23:55:00.905Z"
   },
   {
    "duration": 6,
    "start_time": "2024-10-06T23:55:17.135Z"
   },
   {
    "duration": 9,
    "start_time": "2024-10-06T23:55:21.262Z"
   },
   {
    "duration": 9,
    "start_time": "2024-10-06T23:55:22.154Z"
   },
   {
    "duration": 161,
    "start_time": "2024-10-06T23:55:42.043Z"
   },
   {
    "duration": 9,
    "start_time": "2024-10-06T23:55:49.050Z"
   },
   {
    "duration": 9,
    "start_time": "2024-10-06T23:55:53.103Z"
   },
   {
    "duration": 9,
    "start_time": "2024-10-06T23:55:55.100Z"
   },
   {
    "duration": 3,
    "start_time": "2024-10-06T23:55:58.439Z"
   },
   {
    "duration": 5,
    "start_time": "2024-10-06T23:55:58.816Z"
   },
   {
    "duration": 3,
    "start_time": "2024-10-06T23:55:58.969Z"
   },
   {
    "duration": 2,
    "start_time": "2024-10-06T23:55:59.308Z"
   },
   {
    "duration": 3,
    "start_time": "2024-10-06T23:55:59.763Z"
   },
   {
    "duration": 5,
    "start_time": "2024-10-06T23:56:00.303Z"
   },
   {
    "duration": 4,
    "start_time": "2024-10-06T23:56:00.651Z"
   },
   {
    "duration": 3,
    "start_time": "2024-10-06T23:56:01.006Z"
   },
   {
    "duration": 3,
    "start_time": "2024-10-06T23:56:01.392Z"
   },
   {
    "duration": 4,
    "start_time": "2024-10-07T00:44:21.113Z"
   },
   {
    "duration": 2,
    "start_time": "2024-10-07T00:44:26.774Z"
   },
   {
    "duration": 4,
    "start_time": "2024-10-07T00:44:27.066Z"
   },
   {
    "duration": 3,
    "start_time": "2024-10-07T00:44:27.260Z"
   },
   {
    "duration": 3,
    "start_time": "2024-10-07T00:44:27.467Z"
   },
   {
    "duration": 3,
    "start_time": "2024-10-07T00:44:27.656Z"
   },
   {
    "duration": 5,
    "start_time": "2024-10-07T00:44:30.825Z"
   },
   {
    "duration": 4,
    "start_time": "2024-10-07T00:44:31.114Z"
   },
   {
    "duration": 3,
    "start_time": "2024-10-07T00:44:31.567Z"
   },
   {
    "duration": 4,
    "start_time": "2024-10-07T00:47:29.947Z"
   },
   {
    "duration": 3,
    "start_time": "2024-10-07T00:47:36.132Z"
   },
   {
    "duration": 5,
    "start_time": "2024-10-07T00:47:36.304Z"
   },
   {
    "duration": 3,
    "start_time": "2024-10-07T00:47:36.674Z"
   },
   {
    "duration": 3,
    "start_time": "2024-10-07T00:47:36.836Z"
   },
   {
    "duration": 3,
    "start_time": "2024-10-07T00:47:37.192Z"
   },
   {
    "duration": 6,
    "start_time": "2024-10-07T00:47:44.572Z"
   },
   {
    "duration": 3,
    "start_time": "2024-10-07T00:47:44.860Z"
   },
   {
    "duration": 3,
    "start_time": "2024-10-07T00:47:45.364Z"
   },
   {
    "duration": 3,
    "start_time": "2024-10-07T00:51:02.796Z"
   },
   {
    "duration": 3,
    "start_time": "2024-10-07T00:55:18.279Z"
   },
   {
    "duration": 3,
    "start_time": "2024-10-07T00:56:12.010Z"
   },
   {
    "duration": 3,
    "start_time": "2024-10-07T00:56:12.250Z"
   },
   {
    "duration": 2,
    "start_time": "2024-10-07T00:56:14.564Z"
   },
   {
    "duration": 4,
    "start_time": "2024-10-07T00:56:14.749Z"
   },
   {
    "duration": 3,
    "start_time": "2024-10-07T00:56:14.936Z"
   },
   {
    "duration": 3,
    "start_time": "2024-10-07T00:56:15.125Z"
   },
   {
    "duration": 3,
    "start_time": "2024-10-07T00:56:15.341Z"
   },
   {
    "duration": 4,
    "start_time": "2024-10-07T01:00:49.630Z"
   },
   {
    "duration": 2,
    "start_time": "2024-10-07T01:00:53.727Z"
   },
   {
    "duration": 5,
    "start_time": "2024-10-07T01:00:53.862Z"
   },
   {
    "duration": 3,
    "start_time": "2024-10-07T01:00:54.028Z"
   },
   {
    "duration": 3,
    "start_time": "2024-10-07T01:00:54.142Z"
   },
   {
    "duration": 3,
    "start_time": "2024-10-07T01:00:54.261Z"
   },
   {
    "duration": 5,
    "start_time": "2024-10-07T01:00:54.390Z"
   },
   {
    "duration": 3,
    "start_time": "2024-10-07T01:00:54.567Z"
   },
   {
    "duration": 3,
    "start_time": "2024-10-07T01:00:54.746Z"
   },
   {
    "duration": 3,
    "start_time": "2024-10-07T01:00:54.983Z"
   },
   {
    "duration": 912,
    "start_time": "2024-10-10T03:10:18.048Z"
   },
   {
    "duration": 41,
    "start_time": "2024-10-10T03:10:18.962Z"
   },
   {
    "duration": 13,
    "start_time": "2024-10-10T03:10:19.005Z"
   },
   {
    "duration": 3,
    "start_time": "2024-10-10T03:10:19.020Z"
   },
   {
    "duration": 15,
    "start_time": "2024-10-10T03:10:19.025Z"
   },
   {
    "duration": 9,
    "start_time": "2024-10-10T03:10:19.042Z"
   },
   {
    "duration": 10,
    "start_time": "2024-10-10T03:10:19.053Z"
   },
   {
    "duration": 13,
    "start_time": "2024-10-10T03:10:19.064Z"
   },
   {
    "duration": 50,
    "start_time": "2024-10-10T03:10:19.078Z"
   },
   {
    "duration": 8,
    "start_time": "2024-10-10T03:10:19.131Z"
   },
   {
    "duration": 7,
    "start_time": "2024-10-10T03:10:19.142Z"
   },
   {
    "duration": 14,
    "start_time": "2024-10-10T03:10:19.150Z"
   },
   {
    "duration": 7,
    "start_time": "2024-10-10T03:10:19.167Z"
   },
   {
    "duration": 7,
    "start_time": "2024-10-10T03:10:19.176Z"
   },
   {
    "duration": 27,
    "start_time": "2024-10-10T03:10:19.185Z"
   },
   {
    "duration": 8,
    "start_time": "2024-10-10T03:10:19.214Z"
   },
   {
    "duration": 4,
    "start_time": "2024-10-10T03:10:19.223Z"
   },
   {
    "duration": 2,
    "start_time": "2024-10-10T03:10:19.229Z"
   },
   {
    "duration": 7,
    "start_time": "2024-10-10T03:10:19.232Z"
   },
   {
    "duration": 6,
    "start_time": "2024-10-10T03:10:19.240Z"
   },
   {
    "duration": 3,
    "start_time": "2024-10-10T03:10:19.248Z"
   },
   {
    "duration": 12,
    "start_time": "2024-10-10T03:10:19.253Z"
   },
   {
    "duration": 47,
    "start_time": "2024-10-10T03:10:19.267Z"
   },
   {
    "duration": 10,
    "start_time": "2024-10-10T03:10:19.316Z"
   },
   {
    "duration": 6,
    "start_time": "2024-10-10T03:10:19.328Z"
   },
   {
    "duration": 10,
    "start_time": "2024-10-10T03:10:19.336Z"
   },
   {
    "duration": 4,
    "start_time": "2024-10-10T03:10:19.347Z"
   },
   {
    "duration": 10,
    "start_time": "2024-10-10T03:10:19.358Z"
   },
   {
    "duration": 41,
    "start_time": "2024-10-10T03:10:19.370Z"
   },
   {
    "duration": 7,
    "start_time": "2024-10-10T03:10:19.413Z"
   },
   {
    "duration": 207,
    "start_time": "2024-10-10T03:10:19.421Z"
   },
   {
    "duration": 311,
    "start_time": "2024-10-10T03:10:19.630Z"
   },
   {
    "duration": 14,
    "start_time": "2024-10-10T03:10:19.943Z"
   },
   {
    "duration": 312,
    "start_time": "2024-10-10T03:10:19.958Z"
   },
   {
    "duration": 4,
    "start_time": "2024-10-10T03:10:20.272Z"
   },
   {
    "duration": 4,
    "start_time": "2024-10-10T03:10:20.279Z"
   },
   {
    "duration": 5,
    "start_time": "2024-10-10T03:10:20.286Z"
   },
   {
    "duration": 19,
    "start_time": "2024-10-10T03:10:20.293Z"
   },
   {
    "duration": 16,
    "start_time": "2024-10-10T03:10:20.315Z"
   },
   {
    "duration": 11,
    "start_time": "2024-10-10T03:10:20.333Z"
   },
   {
    "duration": 20,
    "start_time": "2024-10-10T03:10:20.346Z"
   },
   {
    "duration": 459,
    "start_time": "2024-10-10T03:10:20.368Z"
   },
   {
    "duration": 17,
    "start_time": "2024-10-10T03:10:20.829Z"
   },
   {
    "duration": 6,
    "start_time": "2024-10-10T03:10:20.848Z"
   },
   {
    "duration": 4,
    "start_time": "2024-10-10T03:10:20.856Z"
   },
   {
    "duration": 20,
    "start_time": "2024-10-10T03:10:20.862Z"
   },
   {
    "duration": 7,
    "start_time": "2024-10-10T03:10:20.911Z"
   },
   {
    "duration": 15,
    "start_time": "2024-10-10T03:10:20.920Z"
   },
   {
    "duration": 20,
    "start_time": "2024-10-10T03:10:20.936Z"
   },
   {
    "duration": 262,
    "start_time": "2024-10-10T03:10:20.958Z"
   },
   {
    "duration": 8,
    "start_time": "2024-10-10T03:10:21.222Z"
   },
   {
    "duration": 323,
    "start_time": "2024-10-10T03:10:21.232Z"
   },
   {
    "duration": 21,
    "start_time": "2024-10-10T03:10:21.557Z"
   },
   {
    "duration": 17,
    "start_time": "2024-10-10T03:10:21.579Z"
   },
   {
    "duration": 17,
    "start_time": "2024-10-10T03:10:21.612Z"
   },
   {
    "duration": 203,
    "start_time": "2024-10-10T03:10:21.630Z"
   },
   {
    "duration": 132,
    "start_time": "2024-10-10T03:10:21.835Z"
   },
   {
    "duration": 145,
    "start_time": "2024-10-10T03:10:21.969Z"
   },
   {
    "duration": 151,
    "start_time": "2024-10-10T03:10:22.116Z"
   },
   {
    "duration": 178,
    "start_time": "2024-10-10T03:10:22.269Z"
   },
   {
    "duration": 144,
    "start_time": "2024-10-10T03:10:22.448Z"
   },
   {
    "duration": 5,
    "start_time": "2024-10-10T03:10:22.594Z"
   },
   {
    "duration": 4,
    "start_time": "2024-10-10T03:10:22.612Z"
   },
   {
    "duration": 4,
    "start_time": "2024-10-10T03:10:22.619Z"
   },
   {
    "duration": 2,
    "start_time": "2024-10-10T03:10:22.625Z"
   },
   {
    "duration": 2,
    "start_time": "2024-10-10T03:10:22.629Z"
   },
   {
    "duration": 6,
    "start_time": "2024-10-10T03:10:22.633Z"
   },
   {
    "duration": 8,
    "start_time": "2024-10-10T03:10:22.640Z"
   },
   {
    "duration": 9,
    "start_time": "2024-10-10T03:10:22.651Z"
   },
   {
    "duration": 201,
    "start_time": "2024-10-10T03:10:22.662Z"
   },
   {
    "duration": 9,
    "start_time": "2024-10-10T03:10:22.865Z"
   },
   {
    "duration": 8,
    "start_time": "2024-10-10T03:10:22.876Z"
   },
   {
    "duration": 28,
    "start_time": "2024-10-10T03:10:22.885Z"
   },
   {
    "duration": 2,
    "start_time": "2024-10-10T03:10:22.915Z"
   },
   {
    "duration": 5,
    "start_time": "2024-10-10T03:10:22.919Z"
   },
   {
    "duration": 3,
    "start_time": "2024-10-10T03:10:22.926Z"
   },
   {
    "duration": 3,
    "start_time": "2024-10-10T03:10:22.931Z"
   },
   {
    "duration": 4,
    "start_time": "2024-10-10T03:10:22.936Z"
   },
   {
    "duration": 5,
    "start_time": "2024-10-10T03:10:22.942Z"
   },
   {
    "duration": 3,
    "start_time": "2024-10-10T03:10:22.948Z"
   },
   {
    "duration": 3,
    "start_time": "2024-10-10T03:10:22.953Z"
   },
   {
    "duration": 4,
    "start_time": "2024-10-10T03:10:22.963Z"
   },
   {
    "duration": 3,
    "start_time": "2024-10-10T03:15:39.989Z"
   },
   {
    "duration": 29,
    "start_time": "2024-10-10T03:15:39.994Z"
   },
   {
    "duration": 14,
    "start_time": "2024-10-10T03:15:40.025Z"
   },
   {
    "duration": 4,
    "start_time": "2024-10-10T03:15:40.042Z"
   },
   {
    "duration": 19,
    "start_time": "2024-10-10T03:15:40.048Z"
   },
   {
    "duration": 10,
    "start_time": "2024-10-10T03:15:40.069Z"
   },
   {
    "duration": 15,
    "start_time": "2024-10-10T03:15:40.112Z"
   },
   {
    "duration": 16,
    "start_time": "2024-10-10T03:15:40.129Z"
   },
   {
    "duration": 23,
    "start_time": "2024-10-10T03:15:40.148Z"
   },
   {
    "duration": 9,
    "start_time": "2024-10-10T03:15:40.172Z"
   },
   {
    "duration": 4,
    "start_time": "2024-10-10T03:15:40.211Z"
   },
   {
    "duration": 8,
    "start_time": "2024-10-10T03:15:40.217Z"
   },
   {
    "duration": 4,
    "start_time": "2024-10-10T03:15:40.227Z"
   },
   {
    "duration": 6,
    "start_time": "2024-10-10T03:15:40.233Z"
   },
   {
    "duration": 4,
    "start_time": "2024-10-10T03:15:40.240Z"
   },
   {
    "duration": 7,
    "start_time": "2024-10-10T03:15:40.246Z"
   },
   {
    "duration": 4,
    "start_time": "2024-10-10T03:15:40.255Z"
   },
   {
    "duration": 3,
    "start_time": "2024-10-10T03:15:40.261Z"
   },
   {
    "duration": 49,
    "start_time": "2024-10-10T03:15:40.266Z"
   },
   {
    "duration": 6,
    "start_time": "2024-10-10T03:15:40.317Z"
   },
   {
    "duration": 4,
    "start_time": "2024-10-10T03:15:40.325Z"
   },
   {
    "duration": 10,
    "start_time": "2024-10-10T03:15:40.331Z"
   },
   {
    "duration": 6,
    "start_time": "2024-10-10T03:15:40.343Z"
   },
   {
    "duration": 11,
    "start_time": "2024-10-10T03:15:40.353Z"
   },
   {
    "duration": 6,
    "start_time": "2024-10-10T03:15:40.366Z"
   },
   {
    "duration": 45,
    "start_time": "2024-10-10T03:15:40.373Z"
   },
   {
    "duration": 5,
    "start_time": "2024-10-10T03:15:40.420Z"
   },
   {
    "duration": 13,
    "start_time": "2024-10-10T03:15:40.426Z"
   },
   {
    "duration": 5,
    "start_time": "2024-10-10T03:15:40.441Z"
   },
   {
    "duration": 7,
    "start_time": "2024-10-10T03:15:40.448Z"
   },
   {
    "duration": 265,
    "start_time": "2024-10-10T03:15:40.457Z"
   },
   {
    "duration": 258,
    "start_time": "2024-10-10T03:15:40.724Z"
   },
   {
    "duration": 13,
    "start_time": "2024-10-10T03:15:40.984Z"
   },
   {
    "duration": 314,
    "start_time": "2024-10-10T03:15:40.999Z"
   },
   {
    "duration": 5,
    "start_time": "2024-10-10T03:15:41.315Z"
   },
   {
    "duration": 3,
    "start_time": "2024-10-10T03:15:41.322Z"
   },
   {
    "duration": 5,
    "start_time": "2024-10-10T03:15:41.327Z"
   },
   {
    "duration": 4,
    "start_time": "2024-10-10T03:15:41.334Z"
   },
   {
    "duration": 17,
    "start_time": "2024-10-10T03:15:41.341Z"
   },
   {
    "duration": 12,
    "start_time": "2024-10-10T03:15:41.360Z"
   },
   {
    "duration": 20,
    "start_time": "2024-10-10T03:15:41.411Z"
   },
   {
    "duration": 551,
    "start_time": "2024-10-10T03:15:41.433Z"
   },
   {
    "duration": 16,
    "start_time": "2024-10-10T03:15:41.986Z"
   },
   {
    "duration": 8,
    "start_time": "2024-10-10T03:15:42.011Z"
   },
   {
    "duration": 4,
    "start_time": "2024-10-10T03:15:42.021Z"
   },
   {
    "duration": 20,
    "start_time": "2024-10-10T03:15:42.027Z"
   },
   {
    "duration": 7,
    "start_time": "2024-10-10T03:15:42.049Z"
   },
   {
    "duration": 13,
    "start_time": "2024-10-10T03:15:42.058Z"
   },
   {
    "duration": 49,
    "start_time": "2024-10-10T03:15:42.073Z"
   },
   {
    "duration": 236,
    "start_time": "2024-10-10T03:15:42.123Z"
   },
   {
    "duration": 7,
    "start_time": "2024-10-10T03:15:42.361Z"
   },
   {
    "duration": 300,
    "start_time": "2024-10-10T03:15:42.371Z"
   },
   {
    "duration": 17,
    "start_time": "2024-10-10T03:15:42.673Z"
   },
   {
    "duration": 26,
    "start_time": "2024-10-10T03:15:42.694Z"
   },
   {
    "duration": 16,
    "start_time": "2024-10-10T03:15:42.721Z"
   },
   {
    "duration": 136,
    "start_time": "2024-10-10T03:15:42.738Z"
   },
   {
    "duration": 132,
    "start_time": "2024-10-10T03:15:42.876Z"
   },
   {
    "duration": 134,
    "start_time": "2024-10-10T03:15:43.011Z"
   },
   {
    "duration": 192,
    "start_time": "2024-10-10T03:15:43.147Z"
   },
   {
    "duration": 220,
    "start_time": "2024-10-10T03:15:43.341Z"
   },
   {
    "duration": 137,
    "start_time": "2024-10-10T03:15:43.564Z"
   },
   {
    "duration": 12,
    "start_time": "2024-10-10T03:15:43.704Z"
   },
   {
    "duration": 2,
    "start_time": "2024-10-10T11:20:36.874Z"
   },
   {
    "duration": 3,
    "start_time": "2024-10-10T11:20:40.568Z"
   },
   {
    "duration": 3,
    "start_time": "2024-10-10T11:20:49.503Z"
   },
   {
    "duration": 22,
    "start_time": "2024-10-10T11:20:49.508Z"
   },
   {
    "duration": 12,
    "start_time": "2024-10-10T11:20:49.531Z"
   },
   {
    "duration": 4,
    "start_time": "2024-10-10T11:20:49.544Z"
   },
   {
    "duration": 20,
    "start_time": "2024-10-10T11:20:49.551Z"
   },
   {
    "duration": 10,
    "start_time": "2024-10-10T11:20:49.573Z"
   },
   {
    "duration": 12,
    "start_time": "2024-10-10T11:20:49.585Z"
   },
   {
    "duration": 13,
    "start_time": "2024-10-10T11:20:49.598Z"
   },
   {
    "duration": 18,
    "start_time": "2024-10-10T11:20:49.613Z"
   },
   {
    "duration": 8,
    "start_time": "2024-10-10T11:20:49.669Z"
   },
   {
    "duration": 6,
    "start_time": "2024-10-10T11:20:49.678Z"
   },
   {
    "duration": 9,
    "start_time": "2024-10-10T11:20:49.685Z"
   },
   {
    "duration": 3,
    "start_time": "2024-10-10T11:20:49.696Z"
   },
   {
    "duration": 4,
    "start_time": "2024-10-10T11:20:49.704Z"
   },
   {
    "duration": 4,
    "start_time": "2024-10-10T11:20:49.710Z"
   },
   {
    "duration": 8,
    "start_time": "2024-10-10T11:20:49.716Z"
   },
   {
    "duration": 48,
    "start_time": "2024-10-10T11:20:49.725Z"
   },
   {
    "duration": 2,
    "start_time": "2024-10-10T11:20:49.775Z"
   },
   {
    "duration": 6,
    "start_time": "2024-10-10T11:20:49.779Z"
   },
   {
    "duration": 7,
    "start_time": "2024-10-10T11:20:49.786Z"
   },
   {
    "duration": 3,
    "start_time": "2024-10-10T11:20:49.794Z"
   },
   {
    "duration": 10,
    "start_time": "2024-10-10T11:20:49.799Z"
   },
   {
    "duration": 8,
    "start_time": "2024-10-10T11:20:49.810Z"
   },
   {
    "duration": 10,
    "start_time": "2024-10-10T11:20:49.819Z"
   },
   {
    "duration": 6,
    "start_time": "2024-10-10T11:20:49.870Z"
   },
   {
    "duration": 10,
    "start_time": "2024-10-10T11:20:49.878Z"
   },
   {
    "duration": 4,
    "start_time": "2024-10-10T11:20:49.891Z"
   },
   {
    "duration": 11,
    "start_time": "2024-10-10T11:20:49.896Z"
   },
   {
    "duration": 5,
    "start_time": "2024-10-10T11:20:49.909Z"
   },
   {
    "duration": 5,
    "start_time": "2024-10-10T11:20:49.916Z"
   },
   {
    "duration": 293,
    "start_time": "2024-10-10T11:20:49.923Z"
   },
   {
    "duration": 252,
    "start_time": "2024-10-10T11:20:50.218Z"
   },
   {
    "duration": 11,
    "start_time": "2024-10-10T11:20:50.472Z"
   },
   {
    "duration": 291,
    "start_time": "2024-10-10T11:20:50.485Z"
   },
   {
    "duration": 4,
    "start_time": "2024-10-10T11:20:50.779Z"
   },
   {
    "duration": 4,
    "start_time": "2024-10-10T11:20:50.785Z"
   },
   {
    "duration": 5,
    "start_time": "2024-10-10T11:20:50.790Z"
   },
   {
    "duration": 4,
    "start_time": "2024-10-10T11:20:50.797Z"
   },
   {
    "duration": 16,
    "start_time": "2024-10-10T11:20:50.803Z"
   },
   {
    "duration": 12,
    "start_time": "2024-10-10T11:20:50.820Z"
   },
   {
    "duration": 22,
    "start_time": "2024-10-10T11:20:50.874Z"
   },
   {
    "duration": 426,
    "start_time": "2024-10-10T11:20:50.899Z"
   },
   {
    "duration": 16,
    "start_time": "2024-10-10T11:20:51.326Z"
   },
   {
    "duration": 6,
    "start_time": "2024-10-10T11:20:51.343Z"
   },
   {
    "duration": 21,
    "start_time": "2024-10-10T11:20:51.351Z"
   },
   {
    "duration": 16,
    "start_time": "2024-10-10T11:20:51.373Z"
   },
   {
    "duration": 6,
    "start_time": "2024-10-10T11:20:51.390Z"
   },
   {
    "duration": 12,
    "start_time": "2024-10-10T11:20:51.397Z"
   },
   {
    "duration": 19,
    "start_time": "2024-10-10T11:20:51.410Z"
   },
   {
    "duration": 264,
    "start_time": "2024-10-10T11:20:51.431Z"
   },
   {
    "duration": 6,
    "start_time": "2024-10-10T11:20:51.697Z"
   },
   {
    "duration": 382,
    "start_time": "2024-10-10T11:20:51.705Z"
   },
   {
    "duration": 16,
    "start_time": "2024-10-10T11:20:52.089Z"
   },
   {
    "duration": 16,
    "start_time": "2024-10-10T11:20:52.107Z"
   },
   {
    "duration": 17,
    "start_time": "2024-10-10T11:20:52.125Z"
   },
   {
    "duration": 153,
    "start_time": "2024-10-10T11:20:52.143Z"
   },
   {
    "duration": 131,
    "start_time": "2024-10-10T11:20:52.297Z"
   },
   {
    "duration": 140,
    "start_time": "2024-10-10T11:20:52.430Z"
   },
   {
    "duration": 151,
    "start_time": "2024-10-10T11:20:52.572Z"
   },
   {
    "duration": 141,
    "start_time": "2024-10-10T11:20:52.725Z"
   },
   {
    "duration": 142,
    "start_time": "2024-10-10T11:20:52.869Z"
   },
   {
    "duration": 5,
    "start_time": "2024-10-10T11:20:53.013Z"
   },
   {
    "duration": 5,
    "start_time": "2024-10-10T11:20:53.020Z"
   },
   {
    "duration": 4,
    "start_time": "2024-10-10T11:20:53.027Z"
   },
   {
    "duration": 2,
    "start_time": "2024-10-10T11:20:53.033Z"
   },
   {
    "duration": 2,
    "start_time": "2024-10-10T11:20:53.037Z"
   },
   {
    "duration": 5,
    "start_time": "2024-10-10T11:20:53.070Z"
   },
   {
    "duration": 8,
    "start_time": "2024-10-10T11:20:53.076Z"
   },
   {
    "duration": 8,
    "start_time": "2024-10-10T11:20:53.087Z"
   },
   {
    "duration": 189,
    "start_time": "2024-10-10T11:20:53.096Z"
   },
   {
    "duration": 8,
    "start_time": "2024-10-10T11:20:53.287Z"
   },
   {
    "duration": 9,
    "start_time": "2024-10-10T11:20:53.296Z"
   },
   {
    "duration": 7,
    "start_time": "2024-10-10T11:20:53.306Z"
   },
   {
    "duration": 3,
    "start_time": "2024-10-10T11:20:53.314Z"
   },
   {
    "duration": 5,
    "start_time": "2024-10-10T11:20:53.318Z"
   },
   {
    "duration": 3,
    "start_time": "2024-10-10T11:20:53.324Z"
   },
   {
    "duration": 3,
    "start_time": "2024-10-10T11:20:53.329Z"
   },
   {
    "duration": 39,
    "start_time": "2024-10-10T11:20:53.333Z"
   },
   {
    "duration": 4,
    "start_time": "2024-10-10T11:20:53.374Z"
   },
   {
    "duration": 3,
    "start_time": "2024-10-10T11:20:53.381Z"
   },
   {
    "duration": 3,
    "start_time": "2024-10-10T11:20:53.385Z"
   },
   {
    "duration": 3,
    "start_time": "2024-10-10T11:26:18.861Z"
   },
   {
    "duration": 22,
    "start_time": "2024-10-10T11:26:18.866Z"
   },
   {
    "duration": 10,
    "start_time": "2024-10-10T11:26:18.890Z"
   },
   {
    "duration": 4,
    "start_time": "2024-10-10T11:26:18.903Z"
   },
   {
    "duration": 14,
    "start_time": "2024-10-10T11:26:18.909Z"
   },
   {
    "duration": 46,
    "start_time": "2024-10-10T11:26:18.924Z"
   },
   {
    "duration": 11,
    "start_time": "2024-10-10T11:26:18.972Z"
   },
   {
    "duration": 13,
    "start_time": "2024-10-10T11:26:18.985Z"
   },
   {
    "duration": 17,
    "start_time": "2024-10-10T11:26:19.001Z"
   },
   {
    "duration": 7,
    "start_time": "2024-10-10T11:26:19.020Z"
   },
   {
    "duration": 41,
    "start_time": "2024-10-10T11:26:19.029Z"
   },
   {
    "duration": 10,
    "start_time": "2024-10-10T11:26:19.072Z"
   },
   {
    "duration": 4,
    "start_time": "2024-10-10T11:26:19.084Z"
   },
   {
    "duration": 5,
    "start_time": "2024-10-10T11:26:19.090Z"
   },
   {
    "duration": 4,
    "start_time": "2024-10-10T11:26:19.097Z"
   },
   {
    "duration": 7,
    "start_time": "2024-10-10T11:26:19.102Z"
   },
   {
    "duration": 3,
    "start_time": "2024-10-10T11:26:19.111Z"
   },
   {
    "duration": 2,
    "start_time": "2024-10-10T11:26:19.117Z"
   },
   {
    "duration": 50,
    "start_time": "2024-10-10T11:26:19.121Z"
   },
   {
    "duration": 9,
    "start_time": "2024-10-10T11:26:19.173Z"
   },
   {
    "duration": 3,
    "start_time": "2024-10-10T11:26:19.183Z"
   },
   {
    "duration": 10,
    "start_time": "2024-10-10T11:26:19.188Z"
   },
   {
    "duration": 7,
    "start_time": "2024-10-10T11:26:19.200Z"
   },
   {
    "duration": 10,
    "start_time": "2024-10-10T11:26:19.211Z"
   },
   {
    "duration": 6,
    "start_time": "2024-10-10T11:26:19.223Z"
   },
   {
    "duration": 48,
    "start_time": "2024-10-10T11:26:19.230Z"
   },
   {
    "duration": 4,
    "start_time": "2024-10-10T11:26:19.280Z"
   },
   {
    "duration": 10,
    "start_time": "2024-10-10T11:26:19.287Z"
   },
   {
    "duration": 5,
    "start_time": "2024-10-10T11:26:19.299Z"
   },
   {
    "duration": 6,
    "start_time": "2024-10-10T11:26:19.305Z"
   },
   {
    "duration": 212,
    "start_time": "2024-10-10T11:26:19.313Z"
   },
   {
    "duration": 263,
    "start_time": "2024-10-10T11:26:19.527Z"
   },
   {
    "duration": 12,
    "start_time": "2024-10-10T11:26:19.791Z"
   },
   {
    "duration": 293,
    "start_time": "2024-10-10T11:26:19.804Z"
   },
   {
    "duration": 4,
    "start_time": "2024-10-10T11:26:20.100Z"
   },
   {
    "duration": 4,
    "start_time": "2024-10-10T11:26:20.106Z"
   },
   {
    "duration": 6,
    "start_time": "2024-10-10T11:26:20.111Z"
   },
   {
    "duration": 4,
    "start_time": "2024-10-10T11:26:20.119Z"
   },
   {
    "duration": 47,
    "start_time": "2024-10-10T11:26:20.124Z"
   },
   {
    "duration": 12,
    "start_time": "2024-10-10T11:26:20.173Z"
   },
   {
    "duration": 21,
    "start_time": "2024-10-10T11:26:20.186Z"
   },
   {
    "duration": 526,
    "start_time": "2024-10-10T11:26:20.208Z"
   },
   {
    "duration": 16,
    "start_time": "2024-10-10T11:26:20.735Z"
   },
   {
    "duration": 17,
    "start_time": "2024-10-10T11:26:20.753Z"
   },
   {
    "duration": 4,
    "start_time": "2024-10-10T11:26:20.771Z"
   },
   {
    "duration": 15,
    "start_time": "2024-10-10T11:26:20.777Z"
   },
   {
    "duration": 5,
    "start_time": "2024-10-10T11:26:20.794Z"
   },
   {
    "duration": 13,
    "start_time": "2024-10-10T11:26:20.801Z"
   },
   {
    "duration": 19,
    "start_time": "2024-10-10T11:26:20.815Z"
   },
   {
    "duration": 255,
    "start_time": "2024-10-10T11:26:20.835Z"
   },
   {
    "duration": 6,
    "start_time": "2024-10-10T11:26:21.092Z"
   },
   {
    "duration": 306,
    "start_time": "2024-10-10T11:26:21.101Z"
   },
   {
    "duration": 17,
    "start_time": "2024-10-10T11:26:21.409Z"
   },
   {
    "duration": 15,
    "start_time": "2024-10-10T11:26:21.428Z"
   },
   {
    "duration": 32,
    "start_time": "2024-10-10T11:26:21.445Z"
   },
   {
    "duration": 142,
    "start_time": "2024-10-10T11:26:21.478Z"
   },
   {
    "duration": 130,
    "start_time": "2024-10-10T11:26:21.622Z"
   },
   {
    "duration": 142,
    "start_time": "2024-10-10T11:26:21.754Z"
   },
   {
    "duration": 149,
    "start_time": "2024-10-10T11:26:21.898Z"
   },
   {
    "duration": 144,
    "start_time": "2024-10-10T11:26:22.049Z"
   },
   {
    "duration": 147,
    "start_time": "2024-10-10T11:26:22.195Z"
   },
   {
    "duration": 5,
    "start_time": "2024-10-10T11:26:22.343Z"
   },
   {
    "duration": 4,
    "start_time": "2024-10-10T11:26:22.349Z"
   },
   {
    "duration": 18,
    "start_time": "2024-10-10T11:26:22.355Z"
   },
   {
    "duration": 4,
    "start_time": "2024-10-10T11:26:22.375Z"
   },
   {
    "duration": 3,
    "start_time": "2024-10-10T11:26:22.380Z"
   },
   {
    "duration": 5,
    "start_time": "2024-10-10T11:26:22.385Z"
   },
   {
    "duration": 8,
    "start_time": "2024-10-10T11:26:22.392Z"
   },
   {
    "duration": 8,
    "start_time": "2024-10-10T11:26:22.406Z"
   },
   {
    "duration": 189,
    "start_time": "2024-10-10T11:26:22.416Z"
   },
   {
    "duration": 9,
    "start_time": "2024-10-10T11:26:22.607Z"
   },
   {
    "duration": 8,
    "start_time": "2024-10-10T11:26:22.619Z"
   },
   {
    "duration": 8,
    "start_time": "2024-10-10T11:26:22.628Z"
   },
   {
    "duration": 4,
    "start_time": "2024-10-10T11:26:22.638Z"
   },
   {
    "duration": 30,
    "start_time": "2024-10-10T11:26:22.643Z"
   },
   {
    "duration": 3,
    "start_time": "2024-10-10T11:26:22.674Z"
   },
   {
    "duration": 3,
    "start_time": "2024-10-10T11:26:22.679Z"
   },
   {
    "duration": 3,
    "start_time": "2024-10-10T11:26:22.684Z"
   },
   {
    "duration": 5,
    "start_time": "2024-10-10T11:26:22.688Z"
   },
   {
    "duration": 3,
    "start_time": "2024-10-10T11:26:22.694Z"
   },
   {
    "duration": 3,
    "start_time": "2024-10-10T11:26:22.698Z"
   },
   {
    "duration": 3,
    "start_time": "2024-10-10T11:26:22.703Z"
   },
   {
    "duration": 5,
    "start_time": "2024-10-10T11:37:17.462Z"
   },
   {
    "duration": 4,
    "start_time": "2024-10-10T11:37:42.539Z"
   },
   {
    "duration": 4,
    "start_time": "2024-10-10T11:38:10.464Z"
   },
   {
    "duration": 5,
    "start_time": "2024-10-10T11:38:22.812Z"
   },
   {
    "duration": 5,
    "start_time": "2024-10-10T11:38:38.146Z"
   },
   {
    "duration": 5,
    "start_time": "2024-10-10T11:38:50.728Z"
   },
   {
    "duration": 11,
    "start_time": "2024-10-10T11:44:04.957Z"
   },
   {
    "duration": 315,
    "start_time": "2024-10-10T11:51:38.737Z"
   },
   {
    "duration": 259,
    "start_time": "2024-10-10T11:51:58.611Z"
   },
   {
    "duration": 32,
    "start_time": "2024-10-10T11:52:31.199Z"
   }
  ],
  "kernelspec": {
   "display_name": "python311",
   "language": "python",
   "name": "python3"
  },
  "language_info": {
   "codemirror_mode": {
    "name": "ipython",
    "version": 3
   },
   "file_extension": ".py",
   "mimetype": "text/x-python",
   "name": "python",
   "nbconvert_exporter": "python",
   "pygments_lexer": "ipython3",
   "version": "3.11.11"
  },
  "toc": {
   "base_numbering": 1,
   "nav_menu": {},
   "number_sections": true,
   "sideBar": true,
   "skip_h1_title": true,
   "title_cell": "Table of Contents",
   "title_sidebar": "Contents",
   "toc_cell": false,
   "toc_position": {
    "height": "calc(100% - 180px)",
    "left": "10px",
    "top": "150px",
    "width": "222.6px"
   },
   "toc_section_display": true,
   "toc_window_display": true
  }
 },
 "nbformat": 4,
 "nbformat_minor": 2
}
